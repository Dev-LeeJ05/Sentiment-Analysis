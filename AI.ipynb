{
 "cells": [
  {
   "cell_type": "code",
   "execution_count": 1,
   "id": "5c84beab-fdd3-4b92-b4ff-53216eb51626",
   "metadata": {},
   "outputs": [],
   "source": [
    "import warnings\n",
    "warnings.filterwarnings(\"ignore\", message=\"The PyTorch API of nested tensors is in prototype stage and will change in the near future.\")\n",
    "# warnings.filterwarnings(\"ignore\", message=\"The epoch parameter in `scheduler.step()` was not necessary and is being deprecated where possible.\")\n",
    "import torch\n",
    "import torch.nn as nn\n",
    "from torch.utils.data import TensorDataset, DataLoader\n",
    "from CustomDataCollatorForSequenceClassification import CustomDataCollatorForSequenceClassification\n",
    "from torch.optim import AdamW\n",
    "from datasets import Dataset\n",
    "import random\n",
    "import pandas as pd\n",
    "import numpy as np\n",
    "from WordPieceTokenizer import WordPieceTokenizer as Tokenizer\n",
    "from sklearn.model_selection import train_test_split\n",
    "from tqdm.auto import tqdm\n",
    "from CustomBertSequenceClassification import CustomBertSequenceClassification\n",
    "from CustomBert import CustomBertConfig\n",
    "import CustomBert\n",
    "from collections import Counter\n",
    "import os\n",
    "from Model import LSTM\n",
    "from Model import Transformer, PositionalEncoding\n",
    "from sklearn.metrics import f1_score\n",
    "from torch.optim.lr_scheduler import _LRScheduler,ReduceLROnPlateau\n",
    "from torch.utils.tensorboard import SummaryWriter\n",
    "from TrainDataset import prepare_classification_dataset, tensor_dataset\n",
    "os.environ[\"CUDA_LAUNCH_BLOCKING\"] = \"1\"\n",
    "\n",
    "dataFilePath = 'datasets/'\n",
    "saveFilePath = 'saves/'\n",
    "vocab_file_path = f'{saveFilePath}vocab.txt'\n",
    "device = 'cuda' if torch.cuda.is_available() else 'cpu'\n",
    "tokenizer = Tokenizer(vocab_file_path,do_lower_case=False,strip_accents=False,clean_text=True)\n",
    "VOCAB_SIZE = tokenizer.get_vocab_size()\n",
    "MAX_SEQUENCE_LENGTH = 64\n",
    "BATCH_SIZE = 32"
   ]
  },
  {
   "cell_type": "code",
   "execution_count": 2,
   "id": "1c5827d4-8e1d-4be5-8dce-3025bcc53885",
   "metadata": {},
   "outputs": [],
   "source": [
    "def set_seed(seed):\n",
    "    torch.manual_seed(seed)\n",
    "    torch.cuda.manual_seed(seed)\n",
    "    torch.cuda.manual_seed_all(seed)\n",
    "    np.random.seed(seed)\n",
    "    random.seed(seed)\n",
    "    torch.backends.cudnn.benchmark = False\n",
    "    torch.backends.cudnn.deterministic = True\n",
    "\n",
    "# SEED = 32\n",
    "# set_seed(SEED)"
   ]
  },
  {
   "cell_type": "code",
   "execution_count": 3,
   "id": "da38b69e-5ccd-4751-a66e-934077285c6d",
   "metadata": {},
   "outputs": [
    {
     "name": "stdout",
     "output_type": "stream",
     "text": [
      "원본 df 크기: 32194\n",
      "원본 df 감정 분포 (매핑 후): Counter({5: 5948, 2: 5580, 0: 5414, 6: 5259, 3: 5223, 4: 4770})\n",
      "학습 데이터프레임 크기: 25755\n",
      "검증 데이터프레임 크기: 6439\n",
      "학습 데이터프레임 감정 분포: Counter({5: 4758, 2: 4464, 0: 4331, 6: 4207, 3: 4179, 4: 3816})\n",
      "검증 데이터프레임 감정 분포: Counter({5: 1190, 2: 1116, 0: 1083, 6: 1052, 3: 1044, 4: 954})\n",
      "학습 데이터 파싱 중...\n"
     ]
    },
    {
     "data": {
      "application/vnd.jupyter.widget-view+json": {
       "model_id": "6eb418b5e7ef476ba857b87c3a7973e9",
       "version_major": 2,
       "version_minor": 0
      },
      "text/plain": [
       "데이터 파싱 중:   0%|          | 0/25755 [00:00<?, ?it/s]"
      ]
     },
     "metadata": {},
     "output_type": "display_data"
    },
    {
     "name": "stdout",
     "output_type": "stream",
     "text": [
      "검증 데이터 파싱 중...\n"
     ]
    },
    {
     "data": {
      "application/vnd.jupyter.widget-view+json": {
       "model_id": "026d4ade26e5425390fc291d933805ea",
       "version_major": 2,
       "version_minor": 0
      },
      "text/plain": [
       "데이터 파싱 중:   0%|          | 0/6439 [00:00<?, ?it/s]"
      ]
     },
     "metadata": {},
     "output_type": "display_data"
    },
    {
     "name": "stdout",
     "output_type": "stream",
     "text": [
      "학습 데이터셋 크기: 25755\n",
      "검증 데이터셋 크기: 6439\n",
      "학습 DataLoader 배치 수: 805\n",
      "검증 DataLoader 배치 수: 202\n"
     ]
    }
   ],
   "source": [
    "df = pd.read_csv(f'datasets/sentiment_train.csv', index_col=0)\n",
    "\n",
    "# '감정' 레이블을 숫자로 매핑\n",
    "df.loc[(df['감정'] == '불안'), '감정'] = 0\n",
    "df.loc[(df['감정'] == '당황'), '감정'] = 1\n",
    "df.loc[(df['감정'] == '분노'), '감정'] = 2\n",
    "df.loc[(df['감정'] == '슬픔'), '감정'] = 3\n",
    "df.loc[(df['감정'] == '중립'), '감정'] = 4\n",
    "df.loc[(df['감정'] == '행복'), '감정'] = 5\n",
    "df.loc[(df['감정'] == '혐오'), '감정'] = 6\n",
    "\n",
    "print(f\"원본 df 크기: {len(df)}\")\n",
    "print(f\"원본 df 감정 분포 (매핑 후): {Counter(df['감정'])}\")\n",
    "\n",
    "train_df, val_df = train_test_split(df, train_size=0.8, test_size=0.2, stratify=df['감정'], random_state=42) # 재현성을 위해 random_state 추가\n",
    "\n",
    "print(f\"학습 데이터프레임 크기: {len(train_df)}\")\n",
    "print(f\"검증 데이터프레임 크기: {len(val_df)}\")\n",
    "print(f\"학습 데이터프레임 감정 분포: {Counter(train_df['감정'])}\")\n",
    "print(f\"검증 데이터프레임 감정 분포: {Counter(val_df['감정'])}\")\n",
    "\n",
    "\n",
    "print(\"학습 데이터 파싱 중...\")\n",
    "train_datasets_dict = prepare_classification_dataset(train_df)\n",
    "print(\"검증 데이터 파싱 중...\")\n",
    "val_datasets_dict = prepare_classification_dataset(val_df)\n",
    "\n",
    "train_datasets = tensor_dataset(train_datasets_dict)\n",
    "val_datasets = tensor_dataset(val_datasets_dict)\n",
    "\n",
    "print(f\"학습 데이터셋 크기: {len(train_datasets)}\")\n",
    "print(f\"검증 데이터셋 크기: {len(val_datasets)}\")\n",
    "\n",
    "train_loader = DataLoader(\n",
    "    train_datasets,\n",
    "    batch_size=BATCH_SIZE,\n",
    "    shuffle=True,\n",
    "    num_workers=0\n",
    ")\n",
    "print(f\"학습 DataLoader 배치 수: {len(train_loader)}\")\n",
    "\n",
    "val_loader = DataLoader(\n",
    "    val_datasets,\n",
    "    batch_size=BATCH_SIZE,\n",
    "    shuffle=False,\n",
    "    num_workers=0\n",
    ")\n",
    "print(f\"검증 DataLoader 배치 수: {len(val_loader)}\")"
   ]
  },
  {
   "cell_type": "markdown",
   "id": "39f1f979-cd2b-403d-adfa-28d9d39a6b92",
   "metadata": {},
   "source": [
    "## LSTM"
   ]
  },
  {
   "cell_type": "code",
   "execution_count": 4,
   "id": "404c17eb-9dbf-4369-81f5-218c8a2be20f",
   "metadata": {},
   "outputs": [],
   "source": [
    "# def process_dataframe(data_frame, device,batch_size,shuffle=False):\n",
    "#     tensor_x_list = []\n",
    "#     attentions = []\n",
    "#     token_type_ids_ = []\n",
    "#     for i in tqdm(range(len(data_frame))):\n",
    "#         token = data_frame.iloc[i,0]\n",
    "#         token = token.split(\" \")\n",
    "#         token_list = []\n",
    "#         for t in token:\n",
    "#             token_list.append(int(t))\n",
    "#         tensor_x_list.append(token_list)\n",
    "        \n",
    "#         attention = data_frame.iloc[i,3]\n",
    "#         attention = attention.split(\" \")\n",
    "#         attention_list = []\n",
    "#         for a in attention:\n",
    "#             attention_list.append(int(a))\n",
    "#         attentions.append(attention_list)\n",
    "\n",
    "#         token_type_ids = data_frame.iloc[i,4]\n",
    "#         token_type_ids = token_type_ids.split(\" \")\n",
    "#         token_type_ids_list = []\n",
    "#         for t in token_type_ids:\n",
    "#             token_type_ids_list.append(int(t))\n",
    "#         token_type_ids_.append(attention_list)\n",
    "        \n",
    "#     tensor_x = torch.tensor(tensor_x_list, dtype=torch.long, device=device)\n",
    "#     tensor_attention = torch.tensor(attentions, dtype=torch.long, device=device)\n",
    "#     tensor_token_type_ids = torch.tensor(token_type_ids_, dtype=torch.long, device=device)\n",
    "#     tensor_t = torch.tensor(data_frame[\"감정\"].values.tolist(), dtype=torch.long, device=device)\n",
    "\n",
    "#     dataset = TensorDataset(tensor_x,tensor_attention,tensor_t,tensor_token_type_ids)\n",
    "#     loader = DataLoader(dataset,batch_size=batch_size,shuffle=shuffle,drop_last=True)\n",
    "#     return loader\n",
    "    \n",
    "#     dataset = {\"input_ids\" : tensor_x, \"attention_mask\":tensor_attention,\"token_type_ids\":tensor_token_type_ids,\"labels\":tensor_t}\n",
    "    \n",
    "    \n",
    "\n",
    "#     data_collator = DataCollatorWithPadding(tokenizer=tokenizer)"
   ]
  },
  {
   "cell_type": "code",
   "execution_count": 5,
   "id": "3d065c33-266a-43af-924c-c76f35f47549",
   "metadata": {},
   "outputs": [],
   "source": [
    "def LSTM_Train(epoch,device,train_loader,val_loader,NN,loss_function,optimizer):\n",
    "    acc = 0\n",
    "    prev_acc = 0\n",
    "    cnt = 0\n",
    "    for e in range(epoch):\n",
    "        NN.to(device)\n",
    "        loss_sum = 0\n",
    "        NN.train()\n",
    "        for x, attention,t in train_loader:\n",
    "            y = NN(x,attention)\n",
    "            loss = loss_function(y,t)\n",
    "            loss_sum += loss.item()\n",
    "    \n",
    "            optimizer.zero_grad()\n",
    "            loss.backward()\n",
    "            optimizer.step()\n",
    "        loss_sum /= len(train_loader)\n",
    "    \n",
    "        NN.eval()\n",
    "        correct = 0\n",
    "        total = 0\n",
    "        with torch.no_grad():\n",
    "            for x, attention, t in val_loader:\n",
    "                x = x.to(device)\n",
    "                attention = attention.to(device)\n",
    "                t = t.to(device)\n",
    "    \n",
    "                y = NN(x, attention)\n",
    "                correct += (y.argmax(dim=-1) == t).sum().item()\n",
    "                total += len(x)\n",
    "        acc = correct / total\n",
    "    \n",
    "        if acc <= prev_acc:\n",
    "            cnt += 1\n",
    "        else :\n",
    "            torch.save(NN.state_dict(), \"Sentiment.pt\")\n",
    "            cnt = 0\n",
    "            prev_acc = acc\n",
    "        \n",
    "        print(f\"epoch  {e+1}\\t\\tloss {loss_sum:.12f}\\tacc {acc:.4f}\\tcnt {cnt}\")\n",
    "        \n",
    "        if cnt >= 5:\n",
    "            print(\"train halted\")\n",
    "            break\n",
    "            \n",
    "    print(\"---------- 학습 종료 ----------\")"
   ]
  },
  {
   "cell_type": "code",
   "execution_count": 6,
   "id": "7a68f657-9e9f-47d8-b477-2cb4ec4601f3",
   "metadata": {},
   "outputs": [],
   "source": [
    "# NN = LSTM(vocab_size=vocab_size,embedding_dim=embedding_dim,hidden_dim=64,output_dim=7,n_layers=4,bidirectional=True,dropout_p=0.1)\n",
    "# NN.to(device)\n",
    "# loss_function = nn.CrossEntropyLoss()\n",
    "# optimizer = torch.optim.Adam(NN.parameters(),lr=0.001)\n",
    "# epoch = 500\n",
    "# LSTM_Train(epoch,device,train_loader,val_loader,NN,loss_function,optimizer)"
   ]
  },
  {
   "cell_type": "markdown",
   "id": "8ef3a0ef-22f3-4ed6-8b5d-4676131d5f34",
   "metadata": {},
   "source": [
    "## Transformer"
   ]
  },
  {
   "cell_type": "code",
   "execution_count": 7,
   "id": "b599944c-bab7-4d2e-986e-bf50e02b409a",
   "metadata": {},
   "outputs": [],
   "source": [
    "class GradualWarmupScheduler(_LRScheduler):\n",
    "    def __init__(self, optimizer, multiplier, total_epoch, after_scheduler=None):\n",
    "        self.multiplier = multiplier\n",
    "        self.total_epoch = total_epoch\n",
    "        self.after_scheduler = after_scheduler\n",
    "        self.finished = False\n",
    "        super().__init__(optimizer)\n",
    "\n",
    "    def get_lr(self):\n",
    "        if self.last_epoch > self.total_epoch:\n",
    "            if self.after_scheduler:\n",
    "                if not self.finished:\n",
    "                    self.after_scheduler.base_lrs = self.base_lrs\n",
    "                    self.finished = True\n",
    "                return self.after_scheduler.get_last_lr()\n",
    "            return [base_lr * self.multiplier for base_lr in self.base_lrs]\n",
    "\n",
    "        return [base_lr * ((self.multiplier - 1.) * self.last_epoch / self.total_epoch + 1.) for base_lr in self.base_lrs]\n",
    "\n",
    "    def step(self, metrics=None):\n",
    "        if self.finished and self.after_scheduler:\n",
    "            if isinstance(self.after_scheduler, ReduceLROnPlateau) and metrics is not None:\n",
    "                return self.after_scheduler.step(metrics)\n",
    "            else:\n",
    "                return self.after_scheduler.step() # metrics가 없으면 파라미터 없이 호출 (일반 스케줄러)\n",
    "        else:\n",
    "            return super(GradualWarmupScheduler, self).step() # Warmup 기간에는 파라미터 없이 호출\n",
    "\n",
    "def Transformer_Train(epoch, device, train_loader, val_loader, NN, loss_function, optimizer, scheduler,\n",
    "                      warmup_epochs=5, log_dir=\"runs/sentiment_experiment\", \n",
    "                      save_path=\"saves/models/Sentiment.pt\", multiplier=1.0, patience=5):\n",
    "    \n",
    "    writer = SummaryWriter(log_dir)\n",
    "\n",
    "    combined_scheduler = GradualWarmupScheduler(optimizer, multiplier=multiplier, total_epoch=warmup_epochs, after_scheduler=scheduler)\n",
    "    \n",
    "    best_f1_weighted = 0.0\n",
    "    epochs_no_improve = 0\n",
    "    \n",
    "    for e in range(epoch):\n",
    "        NN.to(device)\n",
    "        \n",
    "        train_loss_sum = 0\n",
    "        NN.train()\n",
    "        for x, attention, t in tqdm(train_loader, desc=f\"Epoch {e+1} Training\"):\n",
    "            x = x.to(device)\n",
    "            attention = attention.to(device)\n",
    "            t = t.to(device)\n",
    "\n",
    "            y = NN(x, attention)\n",
    "            loss = loss_function(y, t)\n",
    "            train_loss_sum += loss.item()\n",
    "            \n",
    "            optimizer.zero_grad()\n",
    "            loss.backward()\n",
    "            nn.utils.clip_grad_norm_(NN.parameters(), 1.0)\n",
    "            optimizer.step()\n",
    "        train_loss_sum /= len(train_loader)\n",
    "        \n",
    "        NN.eval()\n",
    "        val_correct = 0\n",
    "        val_total = 0\n",
    "        val_all_preds = []\n",
    "        val_all_targets = []\n",
    "        with torch.no_grad():\n",
    "            for x, attention, t in tqdm(val_loader, desc=f\"Epoch {e+1} Validation\", leave=False):\n",
    "                x = x.to(device)\n",
    "                attention = attention.to(device)\n",
    "                t = t.to(device)\n",
    "                \n",
    "                y = NN(x, attention)\n",
    "                \n",
    "                preds = y.argmax(dim=-1)\n",
    "                val_correct += (preds == t).sum().item()\n",
    "                val_total += len(x)\n",
    "\n",
    "                val_all_preds.extend(preds.cpu().numpy())\n",
    "                val_all_targets.extend(t.cpu().numpy())\n",
    "        \n",
    "        val_acc = val_correct / val_total\n",
    "        \n",
    "        if len(np.unique(val_all_targets)) > 1:\n",
    "            val_f1_weighted = f1_score(val_all_targets, val_all_preds, average='weighted', zero_division=0)\n",
    "            val_f1_macro = f1_score(val_all_targets, val_all_preds, average='macro', zero_division=0)\n",
    "        else:\n",
    "            val_f1_weighted = 1.0 if (len(val_all_targets) > 0 and np.all(np.array(val_all_preds) == np.array(val_all_targets))) else 0.0\n",
    "            val_f1_macro = val_f1_weighted\n",
    "\n",
    "        if val_f1_weighted > best_f1_weighted:\n",
    "            best_f1_weighted = val_f1_weighted\n",
    "            torch.save(NN.state_dict(), save_path)\n",
    "            print(f\"모델 저장 완료 (Best Weighted F1: {best_f1_weighted:.4f}).\")\n",
    "            epochs_no_improve = 0\n",
    "        else:\n",
    "            epochs_no_improve += 1\n",
    "\n",
    "        # 스케줄러 스텝: val_f1_weighted 값을 'metrics' 파라미터로 전달\n",
    "        combined_scheduler.step(val_f1_weighted)\n",
    "        \n",
    "        # TensorBoard에 로깅\n",
    "        writer.add_scalar('Loss/train', train_loss_sum, e)\n",
    "        writer.add_scalar('Metrics/val_accuracy', val_acc, e)\n",
    "        writer.add_scalar('Metrics/val_f1_weighted', val_f1_weighted, e)\n",
    "        writer.add_scalar('Metrics/val_f1_macro', val_f1_macro, e)\n",
    "        writer.add_scalar('LearningRate', optimizer.param_groups[0]['lr'], e)\n",
    "        \n",
    "        print(f\"Epoch {e+1}\\tTrain Loss: {train_loss_sum:.6f}\\tVal Acc: {val_acc:.4f}\\t\\tVal F1 (Weighted): {val_f1_weighted:.4f}\\tVal F1 (Macro): {val_f1_macro:.4f}\\tNo Improve Epochs: {epochs_no_improve}\")\n",
    "        \n",
    "        if epochs_no_improve >= patience:\n",
    "            print(\"조기 종료: 검증 F1 점수 개선 없음.\")\n",
    "            break\n",
    "            \n",
    "    writer.close()\n",
    "    print(\"---------- 학습 종료 ----------\")"
   ]
  },
  {
   "cell_type": "code",
   "execution_count": 8,
   "id": "1875b120-9a16-4755-ac20-2d2ffa247ef0",
   "metadata": {},
   "outputs": [
    {
     "name": "stdout",
     "output_type": "stream",
     "text": [
      "학습 데이터 클래스별 샘플 수: [4331.0, 1.0, 4464.0, 4179.0, 3816.0, 4758.0, 4207.0]\n",
      "학습 데이터 클래스 분포: Counter({np.int64(5): 4758, np.int64(2): 4464, np.int64(0): 4331, np.int64(6): 4207, np.int64(3): 4179, np.int64(4): 3816})\n",
      "계산된 클래스 가중치: [5.946894645690918, 25756.0, 5.769713401794434, 6.163197040557861, 6.749475955963135, 5.413198947906494, 6.1221771240234375]\n",
      "첫 배치 레이블 분포: Counter({np.int64(4): 7, np.int64(6): 6, np.int64(2): 6, np.int64(3): 5, np.int64(5): 4, np.int64(0): 4})\n"
     ]
    },
    {
     "data": {
      "application/vnd.jupyter.widget-view+json": {
       "model_id": "1d25363c1779476d980e7718a3dc53a1",
       "version_major": 2,
       "version_minor": 0
      },
      "text/plain": [
       "Epoch 1 Training:   0%|          | 0/805 [00:00<?, ?it/s]"
      ]
     },
     "metadata": {},
     "output_type": "display_data"
    },
    {
     "data": {
      "application/vnd.jupyter.widget-view+json": {
       "model_id": "7018f1c93df04e0598a15821e52cf4c7",
       "version_major": 2,
       "version_minor": 0
      },
      "text/plain": [
       "Epoch 1 Validation:   0%|          | 0/202 [00:00<?, ?it/s]"
      ]
     },
     "metadata": {},
     "output_type": "display_data"
    },
    {
     "name": "stdout",
     "output_type": "stream",
     "text": [
      "모델 저장 완료 (Best Weighted F1: 0.1575).\n",
      "Epoch 1\tTrain Loss: 1.894305\tVal Acc: 0.2194\t\tVal F1 (Weighted): 0.1575\tVal F1 (Macro): 0.1532\tNo Improve Epochs: 0\n"
     ]
    },
    {
     "data": {
      "application/vnd.jupyter.widget-view+json": {
       "model_id": "7ee3dcb18e8c458b8fe6f2d0e4a5fc3e",
       "version_major": 2,
       "version_minor": 0
      },
      "text/plain": [
       "Epoch 2 Training:   0%|          | 0/805 [00:00<?, ?it/s]"
      ]
     },
     "metadata": {},
     "output_type": "display_data"
    },
    {
     "data": {
      "application/vnd.jupyter.widget-view+json": {
       "model_id": "a28a2d53fa61409fa3512c3886d1aa16",
       "version_major": 2,
       "version_minor": 0
      },
      "text/plain": [
       "Epoch 2 Validation:   0%|          | 0/202 [00:00<?, ?it/s]"
      ]
     },
     "metadata": {},
     "output_type": "display_data"
    },
    {
     "name": "stdout",
     "output_type": "stream",
     "text": [
      "모델 저장 완료 (Best Weighted F1: 0.2021).\n",
      "Epoch 2\tTrain Loss: 1.828766\tVal Acc: 0.2468\t\tVal F1 (Weighted): 0.2021\tVal F1 (Macro): 0.1950\tNo Improve Epochs: 0\n"
     ]
    },
    {
     "data": {
      "application/vnd.jupyter.widget-view+json": {
       "model_id": "95889d2f486c413592c3724475a424a8",
       "version_major": 2,
       "version_minor": 0
      },
      "text/plain": [
       "Epoch 3 Training:   0%|          | 0/805 [00:00<?, ?it/s]"
      ]
     },
     "metadata": {},
     "output_type": "display_data"
    },
    {
     "data": {
      "application/vnd.jupyter.widget-view+json": {
       "model_id": "5b2541bb574c495db2125620ea309103",
       "version_major": 2,
       "version_minor": 0
      },
      "text/plain": [
       "Epoch 3 Validation:   0%|          | 0/202 [00:00<?, ?it/s]"
      ]
     },
     "metadata": {},
     "output_type": "display_data"
    },
    {
     "name": "stdout",
     "output_type": "stream",
     "text": [
      "모델 저장 완료 (Best Weighted F1: 0.3008).\n",
      "Epoch 3\tTrain Loss: 1.767552\tVal Acc: 0.3153\t\tVal F1 (Weighted): 0.3008\tVal F1 (Macro): 0.2954\tNo Improve Epochs: 0\n"
     ]
    },
    {
     "data": {
      "application/vnd.jupyter.widget-view+json": {
       "model_id": "e01d8150a9e94464831663bc637ed165",
       "version_major": 2,
       "version_minor": 0
      },
      "text/plain": [
       "Epoch 4 Training:   0%|          | 0/805 [00:00<?, ?it/s]"
      ]
     },
     "metadata": {},
     "output_type": "display_data"
    },
    {
     "data": {
      "application/vnd.jupyter.widget-view+json": {
       "model_id": "4e65eb0dcd6e46bd9803b636f9c824ed",
       "version_major": 2,
       "version_minor": 0
      },
      "text/plain": [
       "Epoch 4 Validation:   0%|          | 0/202 [00:00<?, ?it/s]"
      ]
     },
     "metadata": {},
     "output_type": "display_data"
    },
    {
     "name": "stdout",
     "output_type": "stream",
     "text": [
      "모델 저장 완료 (Best Weighted F1: 0.3217).\n",
      "Epoch 4\tTrain Loss: 1.693482\tVal Acc: 0.3440\t\tVal F1 (Weighted): 0.3217\tVal F1 (Macro): 0.3125\tNo Improve Epochs: 0\n"
     ]
    },
    {
     "data": {
      "application/vnd.jupyter.widget-view+json": {
       "model_id": "afe4e9220c2640b59b232030ea75938f",
       "version_major": 2,
       "version_minor": 0
      },
      "text/plain": [
       "Epoch 5 Training:   0%|          | 0/805 [00:00<?, ?it/s]"
      ]
     },
     "metadata": {},
     "output_type": "display_data"
    },
    {
     "data": {
      "application/vnd.jupyter.widget-view+json": {
       "model_id": "79690b9a35484e3c946d132a5aca6170",
       "version_major": 2,
       "version_minor": 0
      },
      "text/plain": [
       "Epoch 5 Validation:   0%|          | 0/202 [00:00<?, ?it/s]"
      ]
     },
     "metadata": {},
     "output_type": "display_data"
    },
    {
     "name": "stdout",
     "output_type": "stream",
     "text": [
      "모델 저장 완료 (Best Weighted F1: 0.3344).\n",
      "Epoch 5\tTrain Loss: 1.639382\tVal Acc: 0.3589\t\tVal F1 (Weighted): 0.3344\tVal F1 (Macro): 0.3253\tNo Improve Epochs: 0\n"
     ]
    },
    {
     "data": {
      "application/vnd.jupyter.widget-view+json": {
       "model_id": "90be347c21cb4f81b539575f2cbbd613",
       "version_major": 2,
       "version_minor": 0
      },
      "text/plain": [
       "Epoch 6 Training:   0%|          | 0/805 [00:00<?, ?it/s]"
      ]
     },
     "metadata": {},
     "output_type": "display_data"
    },
    {
     "data": {
      "application/vnd.jupyter.widget-view+json": {
       "model_id": "59aa698b4c4244b1a9d4e022d226487a",
       "version_major": 2,
       "version_minor": 0
      },
      "text/plain": [
       "Epoch 6 Validation:   0%|          | 0/202 [00:00<?, ?it/s]"
      ]
     },
     "metadata": {},
     "output_type": "display_data"
    },
    {
     "name": "stdout",
     "output_type": "stream",
     "text": [
      "Epoch 6\tTrain Loss: 1.605327\tVal Acc: 0.3572\t\tVal F1 (Weighted): 0.3326\tVal F1 (Macro): 0.3233\tNo Improve Epochs: 1\n"
     ]
    },
    {
     "data": {
      "application/vnd.jupyter.widget-view+json": {
       "model_id": "3a229cc9c2a34417bb65bf4e449d62db",
       "version_major": 2,
       "version_minor": 0
      },
      "text/plain": [
       "Epoch 7 Training:   0%|          | 0/805 [00:00<?, ?it/s]"
      ]
     },
     "metadata": {},
     "output_type": "display_data"
    },
    {
     "data": {
      "application/vnd.jupyter.widget-view+json": {
       "model_id": "bd09ade4c51f487285a16c4bddb240b3",
       "version_major": 2,
       "version_minor": 0
      },
      "text/plain": [
       "Epoch 7 Validation:   0%|          | 0/202 [00:00<?, ?it/s]"
      ]
     },
     "metadata": {},
     "output_type": "display_data"
    },
    {
     "name": "stdout",
     "output_type": "stream",
     "text": [
      "모델 저장 완료 (Best Weighted F1: 0.3576).\n",
      "Epoch 7\tTrain Loss: 1.583828\tVal Acc: 0.3733\t\tVal F1 (Weighted): 0.3576\tVal F1 (Macro): 0.3488\tNo Improve Epochs: 0\n"
     ]
    },
    {
     "data": {
      "application/vnd.jupyter.widget-view+json": {
       "model_id": "d04ec70e1b6f4c7dabdd0282b541485b",
       "version_major": 2,
       "version_minor": 0
      },
      "text/plain": [
       "Epoch 8 Training:   0%|          | 0/805 [00:00<?, ?it/s]"
      ]
     },
     "metadata": {},
     "output_type": "display_data"
    },
    {
     "data": {
      "application/vnd.jupyter.widget-view+json": {
       "model_id": "83d3d260986d404798bc18bdc0695213",
       "version_major": 2,
       "version_minor": 0
      },
      "text/plain": [
       "Epoch 8 Validation:   0%|          | 0/202 [00:00<?, ?it/s]"
      ]
     },
     "metadata": {},
     "output_type": "display_data"
    },
    {
     "name": "stdout",
     "output_type": "stream",
     "text": [
      "모델 저장 완료 (Best Weighted F1: 0.3694).\n",
      "Epoch 8\tTrain Loss: 1.564120\tVal Acc: 0.3727\t\tVal F1 (Weighted): 0.3694\tVal F1 (Macro): 0.3615\tNo Improve Epochs: 0\n"
     ]
    },
    {
     "data": {
      "application/vnd.jupyter.widget-view+json": {
       "model_id": "f82260fae53044638df634e912c21b4f",
       "version_major": 2,
       "version_minor": 0
      },
      "text/plain": [
       "Epoch 9 Training:   0%|          | 0/805 [00:00<?, ?it/s]"
      ]
     },
     "metadata": {},
     "output_type": "display_data"
    },
    {
     "data": {
      "application/vnd.jupyter.widget-view+json": {
       "model_id": "9464e05181294da79178c85d606b3c21",
       "version_major": 2,
       "version_minor": 0
      },
      "text/plain": [
       "Epoch 9 Validation:   0%|          | 0/202 [00:00<?, ?it/s]"
      ]
     },
     "metadata": {},
     "output_type": "display_data"
    },
    {
     "name": "stdout",
     "output_type": "stream",
     "text": [
      "모델 저장 완료 (Best Weighted F1: 0.3886).\n",
      "Epoch 9\tTrain Loss: 1.546276\tVal Acc: 0.3951\t\tVal F1 (Weighted): 0.3886\tVal F1 (Macro): 0.3820\tNo Improve Epochs: 0\n"
     ]
    },
    {
     "data": {
      "application/vnd.jupyter.widget-view+json": {
       "model_id": "01927ced918d45b08dbd9148826cfa24",
       "version_major": 2,
       "version_minor": 0
      },
      "text/plain": [
       "Epoch 10 Training:   0%|          | 0/805 [00:00<?, ?it/s]"
      ]
     },
     "metadata": {},
     "output_type": "display_data"
    },
    {
     "data": {
      "application/vnd.jupyter.widget-view+json": {
       "model_id": "90ea3aa169d44e21834890b6d628a4ac",
       "version_major": 2,
       "version_minor": 0
      },
      "text/plain": [
       "Epoch 10 Validation:   0%|          | 0/202 [00:00<?, ?it/s]"
      ]
     },
     "metadata": {},
     "output_type": "display_data"
    },
    {
     "name": "stdout",
     "output_type": "stream",
     "text": [
      "모델 저장 완료 (Best Weighted F1: 0.4052).\n",
      "Epoch 10\tTrain Loss: 1.530777\tVal Acc: 0.4002\t\tVal F1 (Weighted): 0.4052\tVal F1 (Macro): 0.3996\tNo Improve Epochs: 0\n"
     ]
    },
    {
     "data": {
      "application/vnd.jupyter.widget-view+json": {
       "model_id": "04b2d04d921c4a96bb0b4aacfeb64963",
       "version_major": 2,
       "version_minor": 0
      },
      "text/plain": [
       "Epoch 11 Training:   0%|          | 0/805 [00:00<?, ?it/s]"
      ]
     },
     "metadata": {},
     "output_type": "display_data"
    },
    {
     "data": {
      "application/vnd.jupyter.widget-view+json": {
       "model_id": "b82cab1715df47479dbd1e23ce14b20d",
       "version_major": 2,
       "version_minor": 0
      },
      "text/plain": [
       "Epoch 11 Validation:   0%|          | 0/202 [00:00<?, ?it/s]"
      ]
     },
     "metadata": {},
     "output_type": "display_data"
    },
    {
     "name": "stdout",
     "output_type": "stream",
     "text": [
      "Epoch 11\tTrain Loss: 1.520081\tVal Acc: 0.3980\t\tVal F1 (Weighted): 0.3973\tVal F1 (Macro): 0.3908\tNo Improve Epochs: 1\n"
     ]
    },
    {
     "data": {
      "application/vnd.jupyter.widget-view+json": {
       "model_id": "663a8b080f0d4b04abf1f7472a55a381",
       "version_major": 2,
       "version_minor": 0
      },
      "text/plain": [
       "Epoch 12 Training:   0%|          | 0/805 [00:00<?, ?it/s]"
      ]
     },
     "metadata": {},
     "output_type": "display_data"
    },
    {
     "data": {
      "application/vnd.jupyter.widget-view+json": {
       "model_id": "2ca2cdd2e3ce487cae1b0892e8b0a239",
       "version_major": 2,
       "version_minor": 0
      },
      "text/plain": [
       "Epoch 12 Validation:   0%|          | 0/202 [00:00<?, ?it/s]"
      ]
     },
     "metadata": {},
     "output_type": "display_data"
    },
    {
     "name": "stdout",
     "output_type": "stream",
     "text": [
      "Epoch 12\tTrain Loss: 1.504939\tVal Acc: 0.4125\t\tVal F1 (Weighted): 0.4032\tVal F1 (Macro): 0.3952\tNo Improve Epochs: 2\n"
     ]
    },
    {
     "data": {
      "application/vnd.jupyter.widget-view+json": {
       "model_id": "f71891812b6542ef905c20725c5ba91c",
       "version_major": 2,
       "version_minor": 0
      },
      "text/plain": [
       "Epoch 13 Training:   0%|          | 0/805 [00:00<?, ?it/s]"
      ]
     },
     "metadata": {},
     "output_type": "display_data"
    },
    {
     "data": {
      "application/vnd.jupyter.widget-view+json": {
       "model_id": "8d0111c630934effaf5c437b28aa3223",
       "version_major": 2,
       "version_minor": 0
      },
      "text/plain": [
       "Epoch 13 Validation:   0%|          | 0/202 [00:00<?, ?it/s]"
      ]
     },
     "metadata": {},
     "output_type": "display_data"
    },
    {
     "name": "stdout",
     "output_type": "stream",
     "text": [
      "Epoch 13\tTrain Loss: 1.496016\tVal Acc: 0.4038\t\tVal F1 (Weighted): 0.3971\tVal F1 (Macro): 0.3900\tNo Improve Epochs: 3\n"
     ]
    },
    {
     "data": {
      "application/vnd.jupyter.widget-view+json": {
       "model_id": "cbf2c66ca8c04e7a8e597101c88e834e",
       "version_major": 2,
       "version_minor": 0
      },
      "text/plain": [
       "Epoch 14 Training:   0%|          | 0/805 [00:00<?, ?it/s]"
      ]
     },
     "metadata": {},
     "output_type": "display_data"
    },
    {
     "data": {
      "application/vnd.jupyter.widget-view+json": {
       "model_id": "8b28f04a952f4c6694f30c81f374afbf",
       "version_major": 2,
       "version_minor": 0
      },
      "text/plain": [
       "Epoch 14 Validation:   0%|          | 0/202 [00:00<?, ?it/s]"
      ]
     },
     "metadata": {},
     "output_type": "display_data"
    },
    {
     "name": "stdout",
     "output_type": "stream",
     "text": [
      "모델 저장 완료 (Best Weighted F1: 0.4156).\n",
      "Epoch 14\tTrain Loss: 1.483479\tVal Acc: 0.4117\t\tVal F1 (Weighted): 0.4156\tVal F1 (Macro): 0.4084\tNo Improve Epochs: 0\n"
     ]
    },
    {
     "data": {
      "application/vnd.jupyter.widget-view+json": {
       "model_id": "c099f41e8f814cd69f7d6451c78d2641",
       "version_major": 2,
       "version_minor": 0
      },
      "text/plain": [
       "Epoch 15 Training:   0%|          | 0/805 [00:00<?, ?it/s]"
      ]
     },
     "metadata": {},
     "output_type": "display_data"
    },
    {
     "data": {
      "application/vnd.jupyter.widget-view+json": {
       "model_id": "391828163323429491ffaf99681efe53",
       "version_major": 2,
       "version_minor": 0
      },
      "text/plain": [
       "Epoch 15 Validation:   0%|          | 0/202 [00:00<?, ?it/s]"
      ]
     },
     "metadata": {},
     "output_type": "display_data"
    },
    {
     "name": "stdout",
     "output_type": "stream",
     "text": [
      "모델 저장 완료 (Best Weighted F1: 0.4160).\n",
      "Epoch 15\tTrain Loss: 1.471341\tVal Acc: 0.4171\t\tVal F1 (Weighted): 0.4160\tVal F1 (Macro): 0.4090\tNo Improve Epochs: 0\n"
     ]
    },
    {
     "data": {
      "application/vnd.jupyter.widget-view+json": {
       "model_id": "73fd3745c7cb4e7f814d23a3989d27af",
       "version_major": 2,
       "version_minor": 0
      },
      "text/plain": [
       "Epoch 16 Training:   0%|          | 0/805 [00:00<?, ?it/s]"
      ]
     },
     "metadata": {},
     "output_type": "display_data"
    },
    {
     "data": {
      "application/vnd.jupyter.widget-view+json": {
       "model_id": "569ed1930eae4175867cfb5fb287f2e8",
       "version_major": 2,
       "version_minor": 0
      },
      "text/plain": [
       "Epoch 16 Validation:   0%|          | 0/202 [00:00<?, ?it/s]"
      ]
     },
     "metadata": {},
     "output_type": "display_data"
    },
    {
     "name": "stdout",
     "output_type": "stream",
     "text": [
      "모델 저장 완료 (Best Weighted F1: 0.4383).\n",
      "Epoch 16\tTrain Loss: 1.460300\tVal Acc: 0.4307\t\tVal F1 (Weighted): 0.4383\tVal F1 (Macro): 0.4321\tNo Improve Epochs: 0\n"
     ]
    },
    {
     "data": {
      "application/vnd.jupyter.widget-view+json": {
       "model_id": "12560ccc093d49faa4aebbdc88b3c4c7",
       "version_major": 2,
       "version_minor": 0
      },
      "text/plain": [
       "Epoch 17 Training:   0%|          | 0/805 [00:00<?, ?it/s]"
      ]
     },
     "metadata": {},
     "output_type": "display_data"
    },
    {
     "data": {
      "application/vnd.jupyter.widget-view+json": {
       "model_id": "f39b3c90df8e4eb5adea699211b5a3e2",
       "version_major": 2,
       "version_minor": 0
      },
      "text/plain": [
       "Epoch 17 Validation:   0%|          | 0/202 [00:00<?, ?it/s]"
      ]
     },
     "metadata": {},
     "output_type": "display_data"
    },
    {
     "name": "stdout",
     "output_type": "stream",
     "text": [
      "Epoch 17\tTrain Loss: 1.451971\tVal Acc: 0.4303\t\tVal F1 (Weighted): 0.4383\tVal F1 (Macro): 0.4318\tNo Improve Epochs: 1\n"
     ]
    },
    {
     "data": {
      "application/vnd.jupyter.widget-view+json": {
       "model_id": "59f1f9bbf2ed4d9aa642ddaa085f6387",
       "version_major": 2,
       "version_minor": 0
      },
      "text/plain": [
       "Epoch 18 Training:   0%|          | 0/805 [00:00<?, ?it/s]"
      ]
     },
     "metadata": {},
     "output_type": "display_data"
    },
    {
     "data": {
      "application/vnd.jupyter.widget-view+json": {
       "model_id": "28d0064558be42a6a6024651e61323a0",
       "version_major": 2,
       "version_minor": 0
      },
      "text/plain": [
       "Epoch 18 Validation:   0%|          | 0/202 [00:00<?, ?it/s]"
      ]
     },
     "metadata": {},
     "output_type": "display_data"
    },
    {
     "name": "stdout",
     "output_type": "stream",
     "text": [
      "Epoch 18\tTrain Loss: 1.445431\tVal Acc: 0.4352\t\tVal F1 (Weighted): 0.4378\tVal F1 (Macro): 0.4312\tNo Improve Epochs: 2\n"
     ]
    },
    {
     "data": {
      "application/vnd.jupyter.widget-view+json": {
       "model_id": "a4b895d8ac4c469195811cfd1b74afe4",
       "version_major": 2,
       "version_minor": 0
      },
      "text/plain": [
       "Epoch 19 Training:   0%|          | 0/805 [00:00<?, ?it/s]"
      ]
     },
     "metadata": {},
     "output_type": "display_data"
    },
    {
     "data": {
      "application/vnd.jupyter.widget-view+json": {
       "model_id": "6aa7f49a7b434217aad1f95687ba3006",
       "version_major": 2,
       "version_minor": 0
      },
      "text/plain": [
       "Epoch 19 Validation:   0%|          | 0/202 [00:00<?, ?it/s]"
      ]
     },
     "metadata": {},
     "output_type": "display_data"
    },
    {
     "name": "stdout",
     "output_type": "stream",
     "text": [
      "Epoch 19\tTrain Loss: 1.437252\tVal Acc: 0.4327\t\tVal F1 (Weighted): 0.4344\tVal F1 (Macro): 0.4280\tNo Improve Epochs: 3\n"
     ]
    },
    {
     "data": {
      "application/vnd.jupyter.widget-view+json": {
       "model_id": "23e35a8d5b764918bfd0456367bebfb6",
       "version_major": 2,
       "version_minor": 0
      },
      "text/plain": [
       "Epoch 20 Training:   0%|          | 0/805 [00:00<?, ?it/s]"
      ]
     },
     "metadata": {},
     "output_type": "display_data"
    },
    {
     "data": {
      "application/vnd.jupyter.widget-view+json": {
       "model_id": "92a317ad7c2444ccb418d323c540b169",
       "version_major": 2,
       "version_minor": 0
      },
      "text/plain": [
       "Epoch 20 Validation:   0%|          | 0/202 [00:00<?, ?it/s]"
      ]
     },
     "metadata": {},
     "output_type": "display_data"
    },
    {
     "name": "stdout",
     "output_type": "stream",
     "text": [
      "Epoch 20\tTrain Loss: 1.429772\tVal Acc: 0.4347\t\tVal F1 (Weighted): 0.4352\tVal F1 (Macro): 0.4280\tNo Improve Epochs: 4\n"
     ]
    },
    {
     "data": {
      "application/vnd.jupyter.widget-view+json": {
       "model_id": "c02e1f01a7654448b2d319803cf9f194",
       "version_major": 2,
       "version_minor": 0
      },
      "text/plain": [
       "Epoch 21 Training:   0%|          | 0/805 [00:00<?, ?it/s]"
      ]
     },
     "metadata": {},
     "output_type": "display_data"
    },
    {
     "data": {
      "application/vnd.jupyter.widget-view+json": {
       "model_id": "66dcabe5c5654918a400dade04fddc62",
       "version_major": 2,
       "version_minor": 0
      },
      "text/plain": [
       "Epoch 21 Validation:   0%|          | 0/202 [00:00<?, ?it/s]"
      ]
     },
     "metadata": {},
     "output_type": "display_data"
    },
    {
     "name": "stdout",
     "output_type": "stream",
     "text": [
      "모델 저장 완료 (Best Weighted F1: 0.4439).\n",
      "Epoch 21\tTrain Loss: 1.416681\tVal Acc: 0.4358\t\tVal F1 (Weighted): 0.4439\tVal F1 (Macro): 0.4381\tNo Improve Epochs: 0\n"
     ]
    },
    {
     "data": {
      "application/vnd.jupyter.widget-view+json": {
       "model_id": "37da64e6fa854e75af1e450d16ae1d22",
       "version_major": 2,
       "version_minor": 0
      },
      "text/plain": [
       "Epoch 22 Training:   0%|          | 0/805 [00:00<?, ?it/s]"
      ]
     },
     "metadata": {},
     "output_type": "display_data"
    },
    {
     "data": {
      "application/vnd.jupyter.widget-view+json": {
       "model_id": "e53e2c912d4c401ea43fe95994fa7826",
       "version_major": 2,
       "version_minor": 0
      },
      "text/plain": [
       "Epoch 22 Validation:   0%|          | 0/202 [00:00<?, ?it/s]"
      ]
     },
     "metadata": {},
     "output_type": "display_data"
    },
    {
     "name": "stdout",
     "output_type": "stream",
     "text": [
      "모델 저장 완료 (Best Weighted F1: 0.4540).\n",
      "Epoch 22\tTrain Loss: 1.416768\tVal Acc: 0.4502\t\tVal F1 (Weighted): 0.4540\tVal F1 (Macro): 0.4476\tNo Improve Epochs: 0\n"
     ]
    },
    {
     "data": {
      "application/vnd.jupyter.widget-view+json": {
       "model_id": "2eb754c9e61847f598a4c808ea08c3a2",
       "version_major": 2,
       "version_minor": 0
      },
      "text/plain": [
       "Epoch 23 Training:   0%|          | 0/805 [00:00<?, ?it/s]"
      ]
     },
     "metadata": {},
     "output_type": "display_data"
    },
    {
     "data": {
      "application/vnd.jupyter.widget-view+json": {
       "model_id": "eddd7d33b63b468f8bc3b39d3238b3c1",
       "version_major": 2,
       "version_minor": 0
      },
      "text/plain": [
       "Epoch 23 Validation:   0%|          | 0/202 [00:00<?, ?it/s]"
      ]
     },
     "metadata": {},
     "output_type": "display_data"
    },
    {
     "name": "stdout",
     "output_type": "stream",
     "text": [
      "Epoch 23\tTrain Loss: 1.402074\tVal Acc: 0.4428\t\tVal F1 (Weighted): 0.4462\tVal F1 (Macro): 0.4396\tNo Improve Epochs: 1\n"
     ]
    },
    {
     "data": {
      "application/vnd.jupyter.widget-view+json": {
       "model_id": "bef4d4b1a5764e8391d562a2f8bbed17",
       "version_major": 2,
       "version_minor": 0
      },
      "text/plain": [
       "Epoch 24 Training:   0%|          | 0/805 [00:00<?, ?it/s]"
      ]
     },
     "metadata": {},
     "output_type": "display_data"
    },
    {
     "data": {
      "application/vnd.jupyter.widget-view+json": {
       "model_id": "add619dd1df84a7eafc0452a31b99fc5",
       "version_major": 2,
       "version_minor": 0
      },
      "text/plain": [
       "Epoch 24 Validation:   0%|          | 0/202 [00:00<?, ?it/s]"
      ]
     },
     "metadata": {},
     "output_type": "display_data"
    },
    {
     "name": "stdout",
     "output_type": "stream",
     "text": [
      "Epoch 24\tTrain Loss: 1.402167\tVal Acc: 0.4473\t\tVal F1 (Weighted): 0.4517\tVal F1 (Macro): 0.4454\tNo Improve Epochs: 2\n"
     ]
    },
    {
     "data": {
      "application/vnd.jupyter.widget-view+json": {
       "model_id": "52b1d6b96d324c8790f14fe4f99f3d28",
       "version_major": 2,
       "version_minor": 0
      },
      "text/plain": [
       "Epoch 25 Training:   0%|          | 0/805 [00:00<?, ?it/s]"
      ]
     },
     "metadata": {},
     "output_type": "display_data"
    },
    {
     "data": {
      "application/vnd.jupyter.widget-view+json": {
       "model_id": "5698cf6a1db14935873995bbd82ecde2",
       "version_major": 2,
       "version_minor": 0
      },
      "text/plain": [
       "Epoch 25 Validation:   0%|          | 0/202 [00:00<?, ?it/s]"
      ]
     },
     "metadata": {},
     "output_type": "display_data"
    },
    {
     "name": "stdout",
     "output_type": "stream",
     "text": [
      "Epoch 25\tTrain Loss: 1.394873\tVal Acc: 0.4460\t\tVal F1 (Weighted): 0.4513\tVal F1 (Macro): 0.4446\tNo Improve Epochs: 3\n"
     ]
    },
    {
     "data": {
      "application/vnd.jupyter.widget-view+json": {
       "model_id": "3949416fe98d4d31ac08058ea5687f7f",
       "version_major": 2,
       "version_minor": 0
      },
      "text/plain": [
       "Epoch 26 Training:   0%|          | 0/805 [00:00<?, ?it/s]"
      ]
     },
     "metadata": {},
     "output_type": "display_data"
    },
    {
     "data": {
      "application/vnd.jupyter.widget-view+json": {
       "model_id": "ca58aca361f94493a146db19329cc8a9",
       "version_major": 2,
       "version_minor": 0
      },
      "text/plain": [
       "Epoch 26 Validation:   0%|          | 0/202 [00:00<?, ?it/s]"
      ]
     },
     "metadata": {},
     "output_type": "display_data"
    },
    {
     "name": "stdout",
     "output_type": "stream",
     "text": [
      "모델 저장 완료 (Best Weighted F1: 0.4569).\n",
      "Epoch 26\tTrain Loss: 1.383815\tVal Acc: 0.4498\t\tVal F1 (Weighted): 0.4569\tVal F1 (Macro): 0.4502\tNo Improve Epochs: 0\n"
     ]
    },
    {
     "data": {
      "application/vnd.jupyter.widget-view+json": {
       "model_id": "bab6cbc46bd04bdb8d8ab6b05986a6c2",
       "version_major": 2,
       "version_minor": 0
      },
      "text/plain": [
       "Epoch 27 Training:   0%|          | 0/805 [00:00<?, ?it/s]"
      ]
     },
     "metadata": {},
     "output_type": "display_data"
    },
    {
     "data": {
      "application/vnd.jupyter.widget-view+json": {
       "model_id": "d5dd574e374f4ac7a145e33f60ddcffb",
       "version_major": 2,
       "version_minor": 0
      },
      "text/plain": [
       "Epoch 27 Validation:   0%|          | 0/202 [00:00<?, ?it/s]"
      ]
     },
     "metadata": {},
     "output_type": "display_data"
    },
    {
     "name": "stdout",
     "output_type": "stream",
     "text": [
      "모델 저장 완료 (Best Weighted F1: 0.4582).\n",
      "Epoch 27\tTrain Loss: 1.380220\tVal Acc: 0.4481\t\tVal F1 (Weighted): 0.4582\tVal F1 (Macro): 0.4519\tNo Improve Epochs: 0\n"
     ]
    },
    {
     "data": {
      "application/vnd.jupyter.widget-view+json": {
       "model_id": "a03fc5130c0b407493b048088ee9a487",
       "version_major": 2,
       "version_minor": 0
      },
      "text/plain": [
       "Epoch 28 Training:   0%|          | 0/805 [00:00<?, ?it/s]"
      ]
     },
     "metadata": {},
     "output_type": "display_data"
    },
    {
     "data": {
      "application/vnd.jupyter.widget-view+json": {
       "model_id": "156403f810f14a5e95bd4513fbb03a62",
       "version_major": 2,
       "version_minor": 0
      },
      "text/plain": [
       "Epoch 28 Validation:   0%|          | 0/202 [00:00<?, ?it/s]"
      ]
     },
     "metadata": {},
     "output_type": "display_data"
    },
    {
     "name": "stdout",
     "output_type": "stream",
     "text": [
      "모델 저장 완료 (Best Weighted F1: 0.4647).\n",
      "Epoch 28\tTrain Loss: 1.373972\tVal Acc: 0.4600\t\tVal F1 (Weighted): 0.4647\tVal F1 (Macro): 0.4584\tNo Improve Epochs: 0\n"
     ]
    },
    {
     "data": {
      "application/vnd.jupyter.widget-view+json": {
       "model_id": "acaa5066294348bf8a6c4e57235cb9ac",
       "version_major": 2,
       "version_minor": 0
      },
      "text/plain": [
       "Epoch 29 Training:   0%|          | 0/805 [00:00<?, ?it/s]"
      ]
     },
     "metadata": {},
     "output_type": "display_data"
    },
    {
     "data": {
      "application/vnd.jupyter.widget-view+json": {
       "model_id": "c90b393e90244bf1bfb1202ca96a98d9",
       "version_major": 2,
       "version_minor": 0
      },
      "text/plain": [
       "Epoch 29 Validation:   0%|          | 0/202 [00:00<?, ?it/s]"
      ]
     },
     "metadata": {},
     "output_type": "display_data"
    },
    {
     "name": "stdout",
     "output_type": "stream",
     "text": [
      "Epoch 29\tTrain Loss: 1.368141\tVal Acc: 0.4597\t\tVal F1 (Weighted): 0.4578\tVal F1 (Macro): 0.4511\tNo Improve Epochs: 1\n"
     ]
    },
    {
     "data": {
      "application/vnd.jupyter.widget-view+json": {
       "model_id": "d1384ec94a2441b49f9be16e60bc42f3",
       "version_major": 2,
       "version_minor": 0
      },
      "text/plain": [
       "Epoch 30 Training:   0%|          | 0/805 [00:00<?, ?it/s]"
      ]
     },
     "metadata": {},
     "output_type": "display_data"
    },
    {
     "data": {
      "application/vnd.jupyter.widget-view+json": {
       "model_id": "c8682d1f4a984cb1a3a33ffee2951939",
       "version_major": 2,
       "version_minor": 0
      },
      "text/plain": [
       "Epoch 30 Validation:   0%|          | 0/202 [00:00<?, ?it/s]"
      ]
     },
     "metadata": {},
     "output_type": "display_data"
    },
    {
     "name": "stdout",
     "output_type": "stream",
     "text": [
      "Epoch 30\tTrain Loss: 1.361304\tVal Acc: 0.4594\t\tVal F1 (Weighted): 0.4603\tVal F1 (Macro): 0.4537\tNo Improve Epochs: 2\n"
     ]
    },
    {
     "data": {
      "application/vnd.jupyter.widget-view+json": {
       "model_id": "c13653ea6ecd4284a7900e23c0e4435f",
       "version_major": 2,
       "version_minor": 0
      },
      "text/plain": [
       "Epoch 31 Training:   0%|          | 0/805 [00:00<?, ?it/s]"
      ]
     },
     "metadata": {},
     "output_type": "display_data"
    },
    {
     "data": {
      "application/vnd.jupyter.widget-view+json": {
       "model_id": "cd2f369d8f78465db8db8cc615c87ff2",
       "version_major": 2,
       "version_minor": 0
      },
      "text/plain": [
       "Epoch 31 Validation:   0%|          | 0/202 [00:00<?, ?it/s]"
      ]
     },
     "metadata": {},
     "output_type": "display_data"
    },
    {
     "name": "stdout",
     "output_type": "stream",
     "text": [
      "모델 저장 완료 (Best Weighted F1: 0.4655).\n",
      "Epoch 31\tTrain Loss: 1.351839\tVal Acc: 0.4571\t\tVal F1 (Weighted): 0.4655\tVal F1 (Macro): 0.4588\tNo Improve Epochs: 0\n"
     ]
    },
    {
     "data": {
      "application/vnd.jupyter.widget-view+json": {
       "model_id": "bd77e1ab0031463bb15af9a3fda41348",
       "version_major": 2,
       "version_minor": 0
      },
      "text/plain": [
       "Epoch 32 Training:   0%|          | 0/805 [00:00<?, ?it/s]"
      ]
     },
     "metadata": {},
     "output_type": "display_data"
    },
    {
     "data": {
      "application/vnd.jupyter.widget-view+json": {
       "model_id": "e2100350315a42d0b58176df1c615589",
       "version_major": 2,
       "version_minor": 0
      },
      "text/plain": [
       "Epoch 32 Validation:   0%|          | 0/202 [00:00<?, ?it/s]"
      ]
     },
     "metadata": {},
     "output_type": "display_data"
    },
    {
     "name": "stdout",
     "output_type": "stream",
     "text": [
      "모델 저장 완료 (Best Weighted F1: 0.4656).\n",
      "Epoch 32\tTrain Loss: 1.348361\tVal Acc: 0.4620\t\tVal F1 (Weighted): 0.4656\tVal F1 (Macro): 0.4589\tNo Improve Epochs: 0\n"
     ]
    },
    {
     "data": {
      "application/vnd.jupyter.widget-view+json": {
       "model_id": "11dcfeb6e05548eb94e129e0c7e16d7b",
       "version_major": 2,
       "version_minor": 0
      },
      "text/plain": [
       "Epoch 33 Training:   0%|          | 0/805 [00:00<?, ?it/s]"
      ]
     },
     "metadata": {},
     "output_type": "display_data"
    },
    {
     "data": {
      "application/vnd.jupyter.widget-view+json": {
       "model_id": "5fc7202b7ce9449b97138f12386742db",
       "version_major": 2,
       "version_minor": 0
      },
      "text/plain": [
       "Epoch 33 Validation:   0%|          | 0/202 [00:00<?, ?it/s]"
      ]
     },
     "metadata": {},
     "output_type": "display_data"
    },
    {
     "name": "stdout",
     "output_type": "stream",
     "text": [
      "Epoch 33\tTrain Loss: 1.350737\tVal Acc: 0.4591\t\tVal F1 (Weighted): 0.4586\tVal F1 (Macro): 0.4517\tNo Improve Epochs: 1\n"
     ]
    },
    {
     "data": {
      "application/vnd.jupyter.widget-view+json": {
       "model_id": "5e3dfd85ad6f400b8315d48a6a454a30",
       "version_major": 2,
       "version_minor": 0
      },
      "text/plain": [
       "Epoch 34 Training:   0%|          | 0/805 [00:00<?, ?it/s]"
      ]
     },
     "metadata": {},
     "output_type": "display_data"
    },
    {
     "data": {
      "application/vnd.jupyter.widget-view+json": {
       "model_id": "519455086b1f477aa90c3190ac366a36",
       "version_major": 2,
       "version_minor": 0
      },
      "text/plain": [
       "Epoch 34 Validation:   0%|          | 0/202 [00:00<?, ?it/s]"
      ]
     },
     "metadata": {},
     "output_type": "display_data"
    },
    {
     "name": "stdout",
     "output_type": "stream",
     "text": [
      "Epoch 34\tTrain Loss: 1.347212\tVal Acc: 0.4594\t\tVal F1 (Weighted): 0.4634\tVal F1 (Macro): 0.4567\tNo Improve Epochs: 2\n"
     ]
    },
    {
     "data": {
      "application/vnd.jupyter.widget-view+json": {
       "model_id": "82de930ec99c4441811abf5268d2eec3",
       "version_major": 2,
       "version_minor": 0
      },
      "text/plain": [
       "Epoch 35 Training:   0%|          | 0/805 [00:00<?, ?it/s]"
      ]
     },
     "metadata": {},
     "output_type": "display_data"
    },
    {
     "data": {
      "application/vnd.jupyter.widget-view+json": {
       "model_id": "6ad9f3a99c1241538cc5418cfba9045c",
       "version_major": 2,
       "version_minor": 0
      },
      "text/plain": [
       "Epoch 35 Validation:   0%|          | 0/202 [00:00<?, ?it/s]"
      ]
     },
     "metadata": {},
     "output_type": "display_data"
    },
    {
     "name": "stdout",
     "output_type": "stream",
     "text": [
      "Epoch 35\tTrain Loss: 1.333578\tVal Acc: 0.4583\t\tVal F1 (Weighted): 0.4655\tVal F1 (Macro): 0.4591\tNo Improve Epochs: 3\n"
     ]
    },
    {
     "data": {
      "application/vnd.jupyter.widget-view+json": {
       "model_id": "3eed907f9da04450acecfa682cfce324",
       "version_major": 2,
       "version_minor": 0
      },
      "text/plain": [
       "Epoch 36 Training:   0%|          | 0/805 [00:00<?, ?it/s]"
      ]
     },
     "metadata": {},
     "output_type": "display_data"
    },
    {
     "data": {
      "application/vnd.jupyter.widget-view+json": {
       "model_id": "675261b034be4d60bbdf8d47b24b87e3",
       "version_major": 2,
       "version_minor": 0
      },
      "text/plain": [
       "Epoch 36 Validation:   0%|          | 0/202 [00:00<?, ?it/s]"
      ]
     },
     "metadata": {},
     "output_type": "display_data"
    },
    {
     "name": "stdout",
     "output_type": "stream",
     "text": [
      "모델 저장 완료 (Best Weighted F1: 0.4721).\n",
      "Epoch 36\tTrain Loss: 1.334943\tVal Acc: 0.4670\t\tVal F1 (Weighted): 0.4721\tVal F1 (Macro): 0.4662\tNo Improve Epochs: 0\n"
     ]
    },
    {
     "data": {
      "application/vnd.jupyter.widget-view+json": {
       "model_id": "7ad32bebad034db2933d5aba45754569",
       "version_major": 2,
       "version_minor": 0
      },
      "text/plain": [
       "Epoch 37 Training:   0%|          | 0/805 [00:00<?, ?it/s]"
      ]
     },
     "metadata": {},
     "output_type": "display_data"
    },
    {
     "data": {
      "application/vnd.jupyter.widget-view+json": {
       "model_id": "c6b877f679184d4ead751b002f18ab09",
       "version_major": 2,
       "version_minor": 0
      },
      "text/plain": [
       "Epoch 37 Validation:   0%|          | 0/202 [00:00<?, ?it/s]"
      ]
     },
     "metadata": {},
     "output_type": "display_data"
    },
    {
     "name": "stdout",
     "output_type": "stream",
     "text": [
      "Epoch 37\tTrain Loss: 1.328878\tVal Acc: 0.4648\t\tVal F1 (Weighted): 0.4650\tVal F1 (Macro): 0.4581\tNo Improve Epochs: 1\n"
     ]
    },
    {
     "data": {
      "application/vnd.jupyter.widget-view+json": {
       "model_id": "e31d91a1a5244e64b5b982d022492601",
       "version_major": 2,
       "version_minor": 0
      },
      "text/plain": [
       "Epoch 38 Training:   0%|          | 0/805 [00:00<?, ?it/s]"
      ]
     },
     "metadata": {},
     "output_type": "display_data"
    },
    {
     "data": {
      "application/vnd.jupyter.widget-view+json": {
       "model_id": "67e91440cc904608bca6b5fba342e419",
       "version_major": 2,
       "version_minor": 0
      },
      "text/plain": [
       "Epoch 38 Validation:   0%|          | 0/202 [00:00<?, ?it/s]"
      ]
     },
     "metadata": {},
     "output_type": "display_data"
    },
    {
     "name": "stdout",
     "output_type": "stream",
     "text": [
      "Epoch 38\tTrain Loss: 1.322494\tVal Acc: 0.4651\t\tVal F1 (Weighted): 0.4569\tVal F1 (Macro): 0.4495\tNo Improve Epochs: 2\n"
     ]
    },
    {
     "data": {
      "application/vnd.jupyter.widget-view+json": {
       "model_id": "ecc2b62559eb4c738f3a3719ead70ec5",
       "version_major": 2,
       "version_minor": 0
      },
      "text/plain": [
       "Epoch 39 Training:   0%|          | 0/805 [00:00<?, ?it/s]"
      ]
     },
     "metadata": {},
     "output_type": "display_data"
    },
    {
     "data": {
      "application/vnd.jupyter.widget-view+json": {
       "model_id": "125638d9b8a64a1fb50f000ca40f1916",
       "version_major": 2,
       "version_minor": 0
      },
      "text/plain": [
       "Epoch 39 Validation:   0%|          | 0/202 [00:00<?, ?it/s]"
      ]
     },
     "metadata": {},
     "output_type": "display_data"
    },
    {
     "name": "stdout",
     "output_type": "stream",
     "text": [
      "모델 저장 완료 (Best Weighted F1: 0.4725).\n",
      "Epoch 39\tTrain Loss: 1.311807\tVal Acc: 0.4665\t\tVal F1 (Weighted): 0.4725\tVal F1 (Macro): 0.4656\tNo Improve Epochs: 0\n"
     ]
    },
    {
     "data": {
      "application/vnd.jupyter.widget-view+json": {
       "model_id": "547764bfbc4b4897a4198972089ba844",
       "version_major": 2,
       "version_minor": 0
      },
      "text/plain": [
       "Epoch 40 Training:   0%|          | 0/805 [00:00<?, ?it/s]"
      ]
     },
     "metadata": {},
     "output_type": "display_data"
    },
    {
     "data": {
      "application/vnd.jupyter.widget-view+json": {
       "model_id": "239c1cfe93a0450cb237fb0ce0563dd7",
       "version_major": 2,
       "version_minor": 0
      },
      "text/plain": [
       "Epoch 40 Validation:   0%|          | 0/202 [00:00<?, ?it/s]"
      ]
     },
     "metadata": {},
     "output_type": "display_data"
    },
    {
     "name": "stdout",
     "output_type": "stream",
     "text": [
      "Epoch 40\tTrain Loss: 1.317443\tVal Acc: 0.4715\t\tVal F1 (Weighted): 0.4683\tVal F1 (Macro): 0.4611\tNo Improve Epochs: 1\n"
     ]
    },
    {
     "data": {
      "application/vnd.jupyter.widget-view+json": {
       "model_id": "681b3c1da5684fda8d32ee118625ca19",
       "version_major": 2,
       "version_minor": 0
      },
      "text/plain": [
       "Epoch 41 Training:   0%|          | 0/805 [00:00<?, ?it/s]"
      ]
     },
     "metadata": {},
     "output_type": "display_data"
    },
    {
     "data": {
      "application/vnd.jupyter.widget-view+json": {
       "model_id": "5a043258095e43509f569dc67ccf2514",
       "version_major": 2,
       "version_minor": 0
      },
      "text/plain": [
       "Epoch 41 Validation:   0%|          | 0/202 [00:00<?, ?it/s]"
      ]
     },
     "metadata": {},
     "output_type": "display_data"
    },
    {
     "name": "stdout",
     "output_type": "stream",
     "text": [
      "Epoch 41\tTrain Loss: 1.313774\tVal Acc: 0.4633\t\tVal F1 (Weighted): 0.4679\tVal F1 (Macro): 0.4610\tNo Improve Epochs: 2\n"
     ]
    },
    {
     "data": {
      "application/vnd.jupyter.widget-view+json": {
       "model_id": "a6e3fa0ea93c4be889bc2bd9abcdb5c6",
       "version_major": 2,
       "version_minor": 0
      },
      "text/plain": [
       "Epoch 42 Training:   0%|          | 0/805 [00:00<?, ?it/s]"
      ]
     },
     "metadata": {},
     "output_type": "display_data"
    },
    {
     "data": {
      "application/vnd.jupyter.widget-view+json": {
       "model_id": "144f53f39f5340be82f14b989da851b0",
       "version_major": 2,
       "version_minor": 0
      },
      "text/plain": [
       "Epoch 42 Validation:   0%|          | 0/202 [00:00<?, ?it/s]"
      ]
     },
     "metadata": {},
     "output_type": "display_data"
    },
    {
     "name": "stdout",
     "output_type": "stream",
     "text": [
      "Epoch 42\tTrain Loss: 1.307039\tVal Acc: 0.4661\t\tVal F1 (Weighted): 0.4720\tVal F1 (Macro): 0.4655\tNo Improve Epochs: 3\n"
     ]
    },
    {
     "data": {
      "application/vnd.jupyter.widget-view+json": {
       "model_id": "a078f902c6af4c4fa2d00c3b4bfc3410",
       "version_major": 2,
       "version_minor": 0
      },
      "text/plain": [
       "Epoch 43 Training:   0%|          | 0/805 [00:00<?, ?it/s]"
      ]
     },
     "metadata": {},
     "output_type": "display_data"
    },
    {
     "data": {
      "application/vnd.jupyter.widget-view+json": {
       "model_id": "01671613c8d94aa3abfe144642110b0d",
       "version_major": 2,
       "version_minor": 0
      },
      "text/plain": [
       "Epoch 43 Validation:   0%|          | 0/202 [00:00<?, ?it/s]"
      ]
     },
     "metadata": {},
     "output_type": "display_data"
    },
    {
     "name": "stdout",
     "output_type": "stream",
     "text": [
      "모델 저장 완료 (Best Weighted F1: 0.4752).\n",
      "Epoch 43\tTrain Loss: 1.299112\tVal Acc: 0.4698\t\tVal F1 (Weighted): 0.4752\tVal F1 (Macro): 0.4684\tNo Improve Epochs: 0\n"
     ]
    },
    {
     "data": {
      "application/vnd.jupyter.widget-view+json": {
       "model_id": "359b0b99e7e5454bb8a58caf2c4d5a40",
       "version_major": 2,
       "version_minor": 0
      },
      "text/plain": [
       "Epoch 44 Training:   0%|          | 0/805 [00:00<?, ?it/s]"
      ]
     },
     "metadata": {},
     "output_type": "display_data"
    },
    {
     "data": {
      "application/vnd.jupyter.widget-view+json": {
       "model_id": "2fe8c8d464864df3acacbd28f25cd622",
       "version_major": 2,
       "version_minor": 0
      },
      "text/plain": [
       "Epoch 44 Validation:   0%|          | 0/202 [00:00<?, ?it/s]"
      ]
     },
     "metadata": {},
     "output_type": "display_data"
    },
    {
     "name": "stdout",
     "output_type": "stream",
     "text": [
      "Epoch 44\tTrain Loss: 1.302141\tVal Acc: 0.4718\t\tVal F1 (Weighted): 0.4693\tVal F1 (Macro): 0.4618\tNo Improve Epochs: 1\n"
     ]
    },
    {
     "data": {
      "application/vnd.jupyter.widget-view+json": {
       "model_id": "5c627248086e4d628dc43dd34b3b809c",
       "version_major": 2,
       "version_minor": 0
      },
      "text/plain": [
       "Epoch 45 Training:   0%|          | 0/805 [00:00<?, ?it/s]"
      ]
     },
     "metadata": {},
     "output_type": "display_data"
    },
    {
     "data": {
      "application/vnd.jupyter.widget-view+json": {
       "model_id": "08dfb10f15624fcebd77d4fc78062f21",
       "version_major": 2,
       "version_minor": 0
      },
      "text/plain": [
       "Epoch 45 Validation:   0%|          | 0/202 [00:00<?, ?it/s]"
      ]
     },
     "metadata": {},
     "output_type": "display_data"
    },
    {
     "name": "stdout",
     "output_type": "stream",
     "text": [
      "Epoch 45\tTrain Loss: 1.292045\tVal Acc: 0.4724\t\tVal F1 (Weighted): 0.4746\tVal F1 (Macro): 0.4680\tNo Improve Epochs: 2\n"
     ]
    },
    {
     "data": {
      "application/vnd.jupyter.widget-view+json": {
       "model_id": "08c9d172db96426fbd263591e49457c1",
       "version_major": 2,
       "version_minor": 0
      },
      "text/plain": [
       "Epoch 46 Training:   0%|          | 0/805 [00:00<?, ?it/s]"
      ]
     },
     "metadata": {},
     "output_type": "display_data"
    },
    {
     "data": {
      "application/vnd.jupyter.widget-view+json": {
       "model_id": "db81ec7e82134e30a1665016727e1d3b",
       "version_major": 2,
       "version_minor": 0
      },
      "text/plain": [
       "Epoch 46 Validation:   0%|          | 0/202 [00:00<?, ?it/s]"
      ]
     },
     "metadata": {},
     "output_type": "display_data"
    },
    {
     "name": "stdout",
     "output_type": "stream",
     "text": [
      "Epoch 46\tTrain Loss: 1.286109\tVal Acc: 0.4713\t\tVal F1 (Weighted): 0.4736\tVal F1 (Macro): 0.4673\tNo Improve Epochs: 3\n"
     ]
    },
    {
     "data": {
      "application/vnd.jupyter.widget-view+json": {
       "model_id": "cc063941630345acba2c2aa5d8763740",
       "version_major": 2,
       "version_minor": 0
      },
      "text/plain": [
       "Epoch 47 Training:   0%|          | 0/805 [00:00<?, ?it/s]"
      ]
     },
     "metadata": {},
     "output_type": "display_data"
    },
    {
     "data": {
      "application/vnd.jupyter.widget-view+json": {
       "model_id": "b521a025c51040b2a3d082e589e17790",
       "version_major": 2,
       "version_minor": 0
      },
      "text/plain": [
       "Epoch 47 Validation:   0%|          | 0/202 [00:00<?, ?it/s]"
      ]
     },
     "metadata": {},
     "output_type": "display_data"
    },
    {
     "name": "stdout",
     "output_type": "stream",
     "text": [
      "모델 저장 완료 (Best Weighted F1: 0.4766).\n",
      "Epoch 47\tTrain Loss: 1.276794\tVal Acc: 0.4783\t\tVal F1 (Weighted): 0.4766\tVal F1 (Macro): 0.4699\tNo Improve Epochs: 0\n"
     ]
    },
    {
     "data": {
      "application/vnd.jupyter.widget-view+json": {
       "model_id": "0bf89688e63b4b008ad7c94785210a1e",
       "version_major": 2,
       "version_minor": 0
      },
      "text/plain": [
       "Epoch 48 Training:   0%|          | 0/805 [00:00<?, ?it/s]"
      ]
     },
     "metadata": {},
     "output_type": "display_data"
    },
    {
     "data": {
      "application/vnd.jupyter.widget-view+json": {
       "model_id": "399f7e9eeec3411b8a6b8379401080c2",
       "version_major": 2,
       "version_minor": 0
      },
      "text/plain": [
       "Epoch 48 Validation:   0%|          | 0/202 [00:00<?, ?it/s]"
      ]
     },
     "metadata": {},
     "output_type": "display_data"
    },
    {
     "name": "stdout",
     "output_type": "stream",
     "text": [
      "Epoch 48\tTrain Loss: 1.276130\tVal Acc: 0.4651\t\tVal F1 (Weighted): 0.4743\tVal F1 (Macro): 0.4681\tNo Improve Epochs: 1\n"
     ]
    },
    {
     "data": {
      "application/vnd.jupyter.widget-view+json": {
       "model_id": "e9f70b4a64fc45bab0d566ae27912298",
       "version_major": 2,
       "version_minor": 0
      },
      "text/plain": [
       "Epoch 49 Training:   0%|          | 0/805 [00:00<?, ?it/s]"
      ]
     },
     "metadata": {},
     "output_type": "display_data"
    },
    {
     "data": {
      "application/vnd.jupyter.widget-view+json": {
       "model_id": "87bfb14111cf4b058ec35dbce690de51",
       "version_major": 2,
       "version_minor": 0
      },
      "text/plain": [
       "Epoch 49 Validation:   0%|          | 0/202 [00:00<?, ?it/s]"
      ]
     },
     "metadata": {},
     "output_type": "display_data"
    },
    {
     "name": "stdout",
     "output_type": "stream",
     "text": [
      "모델 저장 완료 (Best Weighted F1: 0.4773).\n",
      "Epoch 49\tTrain Loss: 1.278035\tVal Acc: 0.4695\t\tVal F1 (Weighted): 0.4773\tVal F1 (Macro): 0.4706\tNo Improve Epochs: 0\n"
     ]
    },
    {
     "data": {
      "application/vnd.jupyter.widget-view+json": {
       "model_id": "668f7b98e44f4a8da6841ca02bc42a9a",
       "version_major": 2,
       "version_minor": 0
      },
      "text/plain": [
       "Epoch 50 Training:   0%|          | 0/805 [00:00<?, ?it/s]"
      ]
     },
     "metadata": {},
     "output_type": "display_data"
    },
    {
     "data": {
      "application/vnd.jupyter.widget-view+json": {
       "model_id": "4623863aadbd4bc3b5018d7786f3a90b",
       "version_major": 2,
       "version_minor": 0
      },
      "text/plain": [
       "Epoch 50 Validation:   0%|          | 0/202 [00:00<?, ?it/s]"
      ]
     },
     "metadata": {},
     "output_type": "display_data"
    },
    {
     "name": "stdout",
     "output_type": "stream",
     "text": [
      "모델 저장 완료 (Best Weighted F1: 0.4811).\n",
      "Epoch 50\tTrain Loss: 1.271330\tVal Acc: 0.4762\t\tVal F1 (Weighted): 0.4811\tVal F1 (Macro): 0.4744\tNo Improve Epochs: 0\n"
     ]
    },
    {
     "data": {
      "application/vnd.jupyter.widget-view+json": {
       "model_id": "eeddb1e554a743dab65665e890f83017",
       "version_major": 2,
       "version_minor": 0
      },
      "text/plain": [
       "Epoch 51 Training:   0%|          | 0/805 [00:00<?, ?it/s]"
      ]
     },
     "metadata": {},
     "output_type": "display_data"
    },
    {
     "data": {
      "application/vnd.jupyter.widget-view+json": {
       "model_id": "8382a569212d47f0bf74280027fb9530",
       "version_major": 2,
       "version_minor": 0
      },
      "text/plain": [
       "Epoch 51 Validation:   0%|          | 0/202 [00:00<?, ?it/s]"
      ]
     },
     "metadata": {},
     "output_type": "display_data"
    },
    {
     "name": "stdout",
     "output_type": "stream",
     "text": [
      "모델 저장 완료 (Best Weighted F1: 0.4824).\n",
      "Epoch 51\tTrain Loss: 1.264969\tVal Acc: 0.4777\t\tVal F1 (Weighted): 0.4824\tVal F1 (Macro): 0.4759\tNo Improve Epochs: 0\n"
     ]
    },
    {
     "data": {
      "application/vnd.jupyter.widget-view+json": {
       "model_id": "801be234bcc14ebd9b6f42e1a2ec4eb7",
       "version_major": 2,
       "version_minor": 0
      },
      "text/plain": [
       "Epoch 52 Training:   0%|          | 0/805 [00:00<?, ?it/s]"
      ]
     },
     "metadata": {},
     "output_type": "display_data"
    },
    {
     "data": {
      "application/vnd.jupyter.widget-view+json": {
       "model_id": "e560d63ade4d45eb982374b4762b6f15",
       "version_major": 2,
       "version_minor": 0
      },
      "text/plain": [
       "Epoch 52 Validation:   0%|          | 0/202 [00:00<?, ?it/s]"
      ]
     },
     "metadata": {},
     "output_type": "display_data"
    },
    {
     "name": "stdout",
     "output_type": "stream",
     "text": [
      "Epoch 52\tTrain Loss: 1.265729\tVal Acc: 0.4754\t\tVal F1 (Weighted): 0.4815\tVal F1 (Macro): 0.4753\tNo Improve Epochs: 1\n"
     ]
    },
    {
     "data": {
      "application/vnd.jupyter.widget-view+json": {
       "model_id": "c8a03b7563f846d595146ababed4a332",
       "version_major": 2,
       "version_minor": 0
      },
      "text/plain": [
       "Epoch 53 Training:   0%|          | 0/805 [00:00<?, ?it/s]"
      ]
     },
     "metadata": {},
     "output_type": "display_data"
    },
    {
     "data": {
      "application/vnd.jupyter.widget-view+json": {
       "model_id": "de8d65e9b9924fe9be4f4e4de2d98fdc",
       "version_major": 2,
       "version_minor": 0
      },
      "text/plain": [
       "Epoch 53 Validation:   0%|          | 0/202 [00:00<?, ?it/s]"
      ]
     },
     "metadata": {},
     "output_type": "display_data"
    },
    {
     "name": "stdout",
     "output_type": "stream",
     "text": [
      "Epoch 53\tTrain Loss: 1.261885\tVal Acc: 0.4762\t\tVal F1 (Weighted): 0.4819\tVal F1 (Macro): 0.4752\tNo Improve Epochs: 2\n"
     ]
    },
    {
     "data": {
      "application/vnd.jupyter.widget-view+json": {
       "model_id": "66e03ca4b82e407bb1974c870b143757",
       "version_major": 2,
       "version_minor": 0
      },
      "text/plain": [
       "Epoch 54 Training:   0%|          | 0/805 [00:00<?, ?it/s]"
      ]
     },
     "metadata": {},
     "output_type": "display_data"
    },
    {
     "data": {
      "application/vnd.jupyter.widget-view+json": {
       "model_id": "f0fb6565c4e148b1a0acf9e319a21400",
       "version_major": 2,
       "version_minor": 0
      },
      "text/plain": [
       "Epoch 54 Validation:   0%|          | 0/202 [00:00<?, ?it/s]"
      ]
     },
     "metadata": {},
     "output_type": "display_data"
    },
    {
     "name": "stdout",
     "output_type": "stream",
     "text": [
      "Epoch 54\tTrain Loss: 1.257609\tVal Acc: 0.4791\t\tVal F1 (Weighted): 0.4811\tVal F1 (Macro): 0.4746\tNo Improve Epochs: 3\n"
     ]
    },
    {
     "data": {
      "application/vnd.jupyter.widget-view+json": {
       "model_id": "5ca4d13ebb57435b9b27fcf13d9bd7e9",
       "version_major": 2,
       "version_minor": 0
      },
      "text/plain": [
       "Epoch 55 Training:   0%|          | 0/805 [00:00<?, ?it/s]"
      ]
     },
     "metadata": {},
     "output_type": "display_data"
    },
    {
     "data": {
      "application/vnd.jupyter.widget-view+json": {
       "model_id": "1f3d7054374f4bcd9277bfeac54c1e8e",
       "version_major": 2,
       "version_minor": 0
      },
      "text/plain": [
       "Epoch 55 Validation:   0%|          | 0/202 [00:00<?, ?it/s]"
      ]
     },
     "metadata": {},
     "output_type": "display_data"
    },
    {
     "name": "stdout",
     "output_type": "stream",
     "text": [
      "Epoch 55\tTrain Loss: 1.249116\tVal Acc: 0.4828\t\tVal F1 (Weighted): 0.4801\tVal F1 (Macro): 0.4731\tNo Improve Epochs: 4\n"
     ]
    },
    {
     "data": {
      "application/vnd.jupyter.widget-view+json": {
       "model_id": "7453baf5d85b486d809f10d626242c60",
       "version_major": 2,
       "version_minor": 0
      },
      "text/plain": [
       "Epoch 56 Training:   0%|          | 0/805 [00:00<?, ?it/s]"
      ]
     },
     "metadata": {},
     "output_type": "display_data"
    },
    {
     "data": {
      "application/vnd.jupyter.widget-view+json": {
       "model_id": "faf9d25003164cdeacb85016a27571b0",
       "version_major": 2,
       "version_minor": 0
      },
      "text/plain": [
       "Epoch 56 Validation:   0%|          | 0/202 [00:00<?, ?it/s]"
      ]
     },
     "metadata": {},
     "output_type": "display_data"
    },
    {
     "name": "stdout",
     "output_type": "stream",
     "text": [
      "Epoch 56\tTrain Loss: 1.243955\tVal Acc: 0.4755\t\tVal F1 (Weighted): 0.4792\tVal F1 (Macro): 0.4723\tNo Improve Epochs: 5\n"
     ]
    },
    {
     "data": {
      "application/vnd.jupyter.widget-view+json": {
       "model_id": "f94e93e84d6047539c67903d006009ca",
       "version_major": 2,
       "version_minor": 0
      },
      "text/plain": [
       "Epoch 57 Training:   0%|          | 0/805 [00:00<?, ?it/s]"
      ]
     },
     "metadata": {},
     "output_type": "display_data"
    },
    {
     "data": {
      "application/vnd.jupyter.widget-view+json": {
       "model_id": "c04a4403290b49898851adcafbeb647f",
       "version_major": 2,
       "version_minor": 0
      },
      "text/plain": [
       "Epoch 57 Validation:   0%|          | 0/202 [00:00<?, ?it/s]"
      ]
     },
     "metadata": {},
     "output_type": "display_data"
    },
    {
     "name": "stdout",
     "output_type": "stream",
     "text": [
      "Epoch 57\tTrain Loss: 1.243090\tVal Acc: 0.4774\t\tVal F1 (Weighted): 0.4823\tVal F1 (Macro): 0.4763\tNo Improve Epochs: 6\n"
     ]
    },
    {
     "data": {
      "application/vnd.jupyter.widget-view+json": {
       "model_id": "45d3ba2fc00640bbbd36c55fc190a607",
       "version_major": 2,
       "version_minor": 0
      },
      "text/plain": [
       "Epoch 58 Training:   0%|          | 0/805 [00:00<?, ?it/s]"
      ]
     },
     "metadata": {},
     "output_type": "display_data"
    },
    {
     "data": {
      "application/vnd.jupyter.widget-view+json": {
       "model_id": "e62c0f19150c47f4bf48a5da76448a78",
       "version_major": 2,
       "version_minor": 0
      },
      "text/plain": [
       "Epoch 58 Validation:   0%|          | 0/202 [00:00<?, ?it/s]"
      ]
     },
     "metadata": {},
     "output_type": "display_data"
    },
    {
     "name": "stdout",
     "output_type": "stream",
     "text": [
      "Epoch 58\tTrain Loss: 1.238915\tVal Acc: 0.4749\t\tVal F1 (Weighted): 0.4796\tVal F1 (Macro): 0.4732\tNo Improve Epochs: 7\n"
     ]
    },
    {
     "data": {
      "application/vnd.jupyter.widget-view+json": {
       "model_id": "4a531f364bb34e52808c0c6059c55ae9",
       "version_major": 2,
       "version_minor": 0
      },
      "text/plain": [
       "Epoch 59 Training:   0%|          | 0/805 [00:00<?, ?it/s]"
      ]
     },
     "metadata": {},
     "output_type": "display_data"
    },
    {
     "data": {
      "application/vnd.jupyter.widget-view+json": {
       "model_id": "c101c0de9963420ba65a1be7ceada17b",
       "version_major": 2,
       "version_minor": 0
      },
      "text/plain": [
       "Epoch 59 Validation:   0%|          | 0/202 [00:00<?, ?it/s]"
      ]
     },
     "metadata": {},
     "output_type": "display_data"
    },
    {
     "name": "stdout",
     "output_type": "stream",
     "text": [
      "모델 저장 완료 (Best Weighted F1: 0.4834).\n",
      "Epoch 59\tTrain Loss: 1.231758\tVal Acc: 0.4772\t\tVal F1 (Weighted): 0.4834\tVal F1 (Macro): 0.4770\tNo Improve Epochs: 0\n"
     ]
    },
    {
     "data": {
      "application/vnd.jupyter.widget-view+json": {
       "model_id": "9dc2f8e7262f40818d9f14a3844db8b5",
       "version_major": 2,
       "version_minor": 0
      },
      "text/plain": [
       "Epoch 60 Training:   0%|          | 0/805 [00:00<?, ?it/s]"
      ]
     },
     "metadata": {},
     "output_type": "display_data"
    },
    {
     "data": {
      "application/vnd.jupyter.widget-view+json": {
       "model_id": "8a138fefef0c46e2ae4b4e07efe0c7b8",
       "version_major": 2,
       "version_minor": 0
      },
      "text/plain": [
       "Epoch 60 Validation:   0%|          | 0/202 [00:00<?, ?it/s]"
      ]
     },
     "metadata": {},
     "output_type": "display_data"
    },
    {
     "name": "stdout",
     "output_type": "stream",
     "text": [
      "모델 저장 완료 (Best Weighted F1: 0.4865).\n",
      "Epoch 60\tTrain Loss: 1.230893\tVal Acc: 0.4774\t\tVal F1 (Weighted): 0.4865\tVal F1 (Macro): 0.4801\tNo Improve Epochs: 0\n"
     ]
    },
    {
     "data": {
      "application/vnd.jupyter.widget-view+json": {
       "model_id": "3daeab0d27434acbbd27acaa461c39f3",
       "version_major": 2,
       "version_minor": 0
      },
      "text/plain": [
       "Epoch 61 Training:   0%|          | 0/805 [00:00<?, ?it/s]"
      ]
     },
     "metadata": {},
     "output_type": "display_data"
    },
    {
     "data": {
      "application/vnd.jupyter.widget-view+json": {
       "model_id": "66537f5163d34d51bf70fc6fd72a2f6a",
       "version_major": 2,
       "version_minor": 0
      },
      "text/plain": [
       "Epoch 61 Validation:   0%|          | 0/202 [00:00<?, ?it/s]"
      ]
     },
     "metadata": {},
     "output_type": "display_data"
    },
    {
     "name": "stdout",
     "output_type": "stream",
     "text": [
      "Epoch 61\tTrain Loss: 1.224925\tVal Acc: 0.4828\t\tVal F1 (Weighted): 0.4795\tVal F1 (Macro): 0.4728\tNo Improve Epochs: 1\n"
     ]
    },
    {
     "data": {
      "application/vnd.jupyter.widget-view+json": {
       "model_id": "2e96e3f54ce244dbb66f456e1994fe60",
       "version_major": 2,
       "version_minor": 0
      },
      "text/plain": [
       "Epoch 62 Training:   0%|          | 0/805 [00:00<?, ?it/s]"
      ]
     },
     "metadata": {},
     "output_type": "display_data"
    },
    {
     "data": {
      "application/vnd.jupyter.widget-view+json": {
       "model_id": "20054f3065c7475988e7f5a6d6696682",
       "version_major": 2,
       "version_minor": 0
      },
      "text/plain": [
       "Epoch 62 Validation:   0%|          | 0/202 [00:00<?, ?it/s]"
      ]
     },
     "metadata": {},
     "output_type": "display_data"
    },
    {
     "name": "stdout",
     "output_type": "stream",
     "text": [
      "모델 저장 완료 (Best Weighted F1: 0.4872).\n",
      "Epoch 62\tTrain Loss: 1.221546\tVal Acc: 0.4841\t\tVal F1 (Weighted): 0.4872\tVal F1 (Macro): 0.4807\tNo Improve Epochs: 0\n"
     ]
    },
    {
     "data": {
      "application/vnd.jupyter.widget-view+json": {
       "model_id": "123b694c842a4d4db3aa4b09aae2ce46",
       "version_major": 2,
       "version_minor": 0
      },
      "text/plain": [
       "Epoch 63 Training:   0%|          | 0/805 [00:00<?, ?it/s]"
      ]
     },
     "metadata": {},
     "output_type": "display_data"
    },
    {
     "data": {
      "application/vnd.jupyter.widget-view+json": {
       "model_id": "948e5aead5064a9590c8e1631cd54d30",
       "version_major": 2,
       "version_minor": 0
      },
      "text/plain": [
       "Epoch 63 Validation:   0%|          | 0/202 [00:00<?, ?it/s]"
      ]
     },
     "metadata": {},
     "output_type": "display_data"
    },
    {
     "name": "stdout",
     "output_type": "stream",
     "text": [
      "Epoch 63\tTrain Loss: 1.225622\tVal Acc: 0.4842\t\tVal F1 (Weighted): 0.4871\tVal F1 (Macro): 0.4806\tNo Improve Epochs: 1\n"
     ]
    },
    {
     "data": {
      "application/vnd.jupyter.widget-view+json": {
       "model_id": "4817a5eea9ee4c06b23b42687a269895",
       "version_major": 2,
       "version_minor": 0
      },
      "text/plain": [
       "Epoch 64 Training:   0%|          | 0/805 [00:00<?, ?it/s]"
      ]
     },
     "metadata": {},
     "output_type": "display_data"
    },
    {
     "data": {
      "application/vnd.jupyter.widget-view+json": {
       "model_id": "14bcc39fb79642dbb7e9da40cc85d81c",
       "version_major": 2,
       "version_minor": 0
      },
      "text/plain": [
       "Epoch 64 Validation:   0%|          | 0/202 [00:00<?, ?it/s]"
      ]
     },
     "metadata": {},
     "output_type": "display_data"
    },
    {
     "name": "stdout",
     "output_type": "stream",
     "text": [
      "Epoch 64\tTrain Loss: 1.217259\tVal Acc: 0.4802\t\tVal F1 (Weighted): 0.4839\tVal F1 (Macro): 0.4774\tNo Improve Epochs: 2\n"
     ]
    },
    {
     "data": {
      "application/vnd.jupyter.widget-view+json": {
       "model_id": "a3237c1cd03b45b590aab5e828c11559",
       "version_major": 2,
       "version_minor": 0
      },
      "text/plain": [
       "Epoch 65 Training:   0%|          | 0/805 [00:00<?, ?it/s]"
      ]
     },
     "metadata": {},
     "output_type": "display_data"
    },
    {
     "data": {
      "application/vnd.jupyter.widget-view+json": {
       "model_id": "5978a28a3be14b13ac9b324bc53eb248",
       "version_major": 2,
       "version_minor": 0
      },
      "text/plain": [
       "Epoch 65 Validation:   0%|          | 0/202 [00:00<?, ?it/s]"
      ]
     },
     "metadata": {},
     "output_type": "display_data"
    },
    {
     "name": "stdout",
     "output_type": "stream",
     "text": [
      "Epoch 65\tTrain Loss: 1.216629\tVal Acc: 0.4797\t\tVal F1 (Weighted): 0.4823\tVal F1 (Macro): 0.4756\tNo Improve Epochs: 3\n"
     ]
    },
    {
     "data": {
      "application/vnd.jupyter.widget-view+json": {
       "model_id": "9ddd8d5655f943f7afa4a89e47405511",
       "version_major": 2,
       "version_minor": 0
      },
      "text/plain": [
       "Epoch 66 Training:   0%|          | 0/805 [00:00<?, ?it/s]"
      ]
     },
     "metadata": {},
     "output_type": "display_data"
    },
    {
     "data": {
      "application/vnd.jupyter.widget-view+json": {
       "model_id": "57860d8c562f4788a3944050cb59f491",
       "version_major": 2,
       "version_minor": 0
      },
      "text/plain": [
       "Epoch 66 Validation:   0%|          | 0/202 [00:00<?, ?it/s]"
      ]
     },
     "metadata": {},
     "output_type": "display_data"
    },
    {
     "name": "stdout",
     "output_type": "stream",
     "text": [
      "Epoch 66\tTrain Loss: 1.215984\tVal Acc: 0.4853\t\tVal F1 (Weighted): 0.4820\tVal F1 (Macro): 0.4746\tNo Improve Epochs: 4\n"
     ]
    },
    {
     "data": {
      "application/vnd.jupyter.widget-view+json": {
       "model_id": "3e4fa405b10f47d08397dfbcd7cfb3ab",
       "version_major": 2,
       "version_minor": 0
      },
      "text/plain": [
       "Epoch 67 Training:   0%|          | 0/805 [00:00<?, ?it/s]"
      ]
     },
     "metadata": {},
     "output_type": "display_data"
    },
    {
     "data": {
      "application/vnd.jupyter.widget-view+json": {
       "model_id": "7de36ee4c283477bb9713ec1dd9374f7",
       "version_major": 2,
       "version_minor": 0
      },
      "text/plain": [
       "Epoch 67 Validation:   0%|          | 0/202 [00:00<?, ?it/s]"
      ]
     },
     "metadata": {},
     "output_type": "display_data"
    },
    {
     "name": "stdout",
     "output_type": "stream",
     "text": [
      "모델 저장 완료 (Best Weighted F1: 0.4895).\n",
      "Epoch 67\tTrain Loss: 1.207876\tVal Acc: 0.4836\t\tVal F1 (Weighted): 0.4895\tVal F1 (Macro): 0.4833\tNo Improve Epochs: 0\n"
     ]
    },
    {
     "data": {
      "application/vnd.jupyter.widget-view+json": {
       "model_id": "8e403a644750437ba964819dfa8821be",
       "version_major": 2,
       "version_minor": 0
      },
      "text/plain": [
       "Epoch 68 Training:   0%|          | 0/805 [00:00<?, ?it/s]"
      ]
     },
     "metadata": {},
     "output_type": "display_data"
    },
    {
     "data": {
      "application/vnd.jupyter.widget-view+json": {
       "model_id": "574aaba632c54218a21427e6de19eb95",
       "version_major": 2,
       "version_minor": 0
      },
      "text/plain": [
       "Epoch 68 Validation:   0%|          | 0/202 [00:00<?, ?it/s]"
      ]
     },
     "metadata": {},
     "output_type": "display_data"
    },
    {
     "name": "stdout",
     "output_type": "stream",
     "text": [
      "Epoch 68\tTrain Loss: 1.205618\tVal Acc: 0.4808\t\tVal F1 (Weighted): 0.4840\tVal F1 (Macro): 0.4774\tNo Improve Epochs: 1\n"
     ]
    },
    {
     "data": {
      "application/vnd.jupyter.widget-view+json": {
       "model_id": "6766c3656cfa46b0b601866a88767f05",
       "version_major": 2,
       "version_minor": 0
      },
      "text/plain": [
       "Epoch 69 Training:   0%|          | 0/805 [00:00<?, ?it/s]"
      ]
     },
     "metadata": {},
     "output_type": "display_data"
    },
    {
     "data": {
      "application/vnd.jupyter.widget-view+json": {
       "model_id": "e1eac5a6f3ca4d7ba5657b595faaf623",
       "version_major": 2,
       "version_minor": 0
      },
      "text/plain": [
       "Epoch 69 Validation:   0%|          | 0/202 [00:00<?, ?it/s]"
      ]
     },
     "metadata": {},
     "output_type": "display_data"
    },
    {
     "name": "stdout",
     "output_type": "stream",
     "text": [
      "Epoch 69\tTrain Loss: 1.200885\tVal Acc: 0.4802\t\tVal F1 (Weighted): 0.4880\tVal F1 (Macro): 0.4817\tNo Improve Epochs: 2\n"
     ]
    },
    {
     "data": {
      "application/vnd.jupyter.widget-view+json": {
       "model_id": "7313641e47754e858eee316f97a4eb2b",
       "version_major": 2,
       "version_minor": 0
      },
      "text/plain": [
       "Epoch 70 Training:   0%|          | 0/805 [00:00<?, ?it/s]"
      ]
     },
     "metadata": {},
     "output_type": "display_data"
    },
    {
     "data": {
      "application/vnd.jupyter.widget-view+json": {
       "model_id": "aa29f536defa4f0e83f22deb5fef1175",
       "version_major": 2,
       "version_minor": 0
      },
      "text/plain": [
       "Epoch 70 Validation:   0%|          | 0/202 [00:00<?, ?it/s]"
      ]
     },
     "metadata": {},
     "output_type": "display_data"
    },
    {
     "name": "stdout",
     "output_type": "stream",
     "text": [
      "Epoch 70\tTrain Loss: 1.199107\tVal Acc: 0.4772\t\tVal F1 (Weighted): 0.4848\tVal F1 (Macro): 0.4787\tNo Improve Epochs: 3\n"
     ]
    },
    {
     "data": {
      "application/vnd.jupyter.widget-view+json": {
       "model_id": "15cd03fde41e4f95bcd009020cdb6839",
       "version_major": 2,
       "version_minor": 0
      },
      "text/plain": [
       "Epoch 71 Training:   0%|          | 0/805 [00:00<?, ?it/s]"
      ]
     },
     "metadata": {},
     "output_type": "display_data"
    },
    {
     "data": {
      "application/vnd.jupyter.widget-view+json": {
       "model_id": "d86fc998784c495ba0fbbe825fc3815f",
       "version_major": 2,
       "version_minor": 0
      },
      "text/plain": [
       "Epoch 71 Validation:   0%|          | 0/202 [00:00<?, ?it/s]"
      ]
     },
     "metadata": {},
     "output_type": "display_data"
    },
    {
     "name": "stdout",
     "output_type": "stream",
     "text": [
      "Epoch 71\tTrain Loss: 1.195301\tVal Acc: 0.4808\t\tVal F1 (Weighted): 0.4879\tVal F1 (Macro): 0.4816\tNo Improve Epochs: 4\n"
     ]
    },
    {
     "data": {
      "application/vnd.jupyter.widget-view+json": {
       "model_id": "53ac0444f1c845b8ae715d40025a0da6",
       "version_major": 2,
       "version_minor": 0
      },
      "text/plain": [
       "Epoch 72 Training:   0%|          | 0/805 [00:00<?, ?it/s]"
      ]
     },
     "metadata": {},
     "output_type": "display_data"
    },
    {
     "data": {
      "application/vnd.jupyter.widget-view+json": {
       "model_id": "959eb8df7a184b1da542852dcbef2151",
       "version_major": 2,
       "version_minor": 0
      },
      "text/plain": [
       "Epoch 72 Validation:   0%|          | 0/202 [00:00<?, ?it/s]"
      ]
     },
     "metadata": {},
     "output_type": "display_data"
    },
    {
     "name": "stdout",
     "output_type": "stream",
     "text": [
      "Epoch 72\tTrain Loss: 1.200955\tVal Acc: 0.4805\t\tVal F1 (Weighted): 0.4858\tVal F1 (Macro): 0.4794\tNo Improve Epochs: 5\n"
     ]
    },
    {
     "data": {
      "application/vnd.jupyter.widget-view+json": {
       "model_id": "e27bc81cbddb4fe5ad9d43c384173987",
       "version_major": 2,
       "version_minor": 0
      },
      "text/plain": [
       "Epoch 73 Training:   0%|          | 0/805 [00:00<?, ?it/s]"
      ]
     },
     "metadata": {},
     "output_type": "display_data"
    },
    {
     "data": {
      "application/vnd.jupyter.widget-view+json": {
       "model_id": "d025571bb33644d19691841ac422fc53",
       "version_major": 2,
       "version_minor": 0
      },
      "text/plain": [
       "Epoch 73 Validation:   0%|          | 0/202 [00:00<?, ?it/s]"
      ]
     },
     "metadata": {},
     "output_type": "display_data"
    },
    {
     "name": "stdout",
     "output_type": "stream",
     "text": [
      "Epoch 73\tTrain Loss: 1.195244\tVal Acc: 0.4802\t\tVal F1 (Weighted): 0.4827\tVal F1 (Macro): 0.4758\tNo Improve Epochs: 6\n"
     ]
    },
    {
     "data": {
      "application/vnd.jupyter.widget-view+json": {
       "model_id": "4cc41f3f0fb34b91b4713a061392e3d9",
       "version_major": 2,
       "version_minor": 0
      },
      "text/plain": [
       "Epoch 74 Training:   0%|          | 0/805 [00:00<?, ?it/s]"
      ]
     },
     "metadata": {},
     "output_type": "display_data"
    },
    {
     "data": {
      "application/vnd.jupyter.widget-view+json": {
       "model_id": "3825daa13bd4446fb44e64e1ea26f117",
       "version_major": 2,
       "version_minor": 0
      },
      "text/plain": [
       "Epoch 74 Validation:   0%|          | 0/202 [00:00<?, ?it/s]"
      ]
     },
     "metadata": {},
     "output_type": "display_data"
    },
    {
     "name": "stdout",
     "output_type": "stream",
     "text": [
      "Epoch 74\tTrain Loss: 1.187557\tVal Acc: 0.4847\t\tVal F1 (Weighted): 0.4866\tVal F1 (Macro): 0.4803\tNo Improve Epochs: 7\n"
     ]
    },
    {
     "data": {
      "application/vnd.jupyter.widget-view+json": {
       "model_id": "2f6d285f2f704243bf595322badd8273",
       "version_major": 2,
       "version_minor": 0
      },
      "text/plain": [
       "Epoch 75 Training:   0%|          | 0/805 [00:00<?, ?it/s]"
      ]
     },
     "metadata": {},
     "output_type": "display_data"
    },
    {
     "data": {
      "application/vnd.jupyter.widget-view+json": {
       "model_id": "937fe2d380bc43e297f5541803643796",
       "version_major": 2,
       "version_minor": 0
      },
      "text/plain": [
       "Epoch 75 Validation:   0%|          | 0/202 [00:00<?, ?it/s]"
      ]
     },
     "metadata": {},
     "output_type": "display_data"
    },
    {
     "name": "stdout",
     "output_type": "stream",
     "text": [
      "모델 저장 완료 (Best Weighted F1: 0.4915).\n",
      "Epoch 75\tTrain Loss: 1.182149\tVal Acc: 0.4898\t\tVal F1 (Weighted): 0.4915\tVal F1 (Macro): 0.4849\tNo Improve Epochs: 0\n"
     ]
    },
    {
     "data": {
      "application/vnd.jupyter.widget-view+json": {
       "model_id": "8f0236aa7eb1473bb67c25c7b6262d78",
       "version_major": 2,
       "version_minor": 0
      },
      "text/plain": [
       "Epoch 76 Training:   0%|          | 0/805 [00:00<?, ?it/s]"
      ]
     },
     "metadata": {},
     "output_type": "display_data"
    },
    {
     "data": {
      "application/vnd.jupyter.widget-view+json": {
       "model_id": "09bde1f3c29e4aa380cb1fb625b44f48",
       "version_major": 2,
       "version_minor": 0
      },
      "text/plain": [
       "Epoch 76 Validation:   0%|          | 0/202 [00:00<?, ?it/s]"
      ]
     },
     "metadata": {},
     "output_type": "display_data"
    },
    {
     "name": "stdout",
     "output_type": "stream",
     "text": [
      "Epoch 76\tTrain Loss: 1.184504\tVal Acc: 0.4824\t\tVal F1 (Weighted): 0.4851\tVal F1 (Macro): 0.4782\tNo Improve Epochs: 1\n"
     ]
    },
    {
     "data": {
      "application/vnd.jupyter.widget-view+json": {
       "model_id": "405889db775346c5a5bd60839b64db52",
       "version_major": 2,
       "version_minor": 0
      },
      "text/plain": [
       "Epoch 77 Training:   0%|          | 0/805 [00:00<?, ?it/s]"
      ]
     },
     "metadata": {},
     "output_type": "display_data"
    },
    {
     "data": {
      "application/vnd.jupyter.widget-view+json": {
       "model_id": "8719a0e4b4b04028aa67e1e5b971a670",
       "version_major": 2,
       "version_minor": 0
      },
      "text/plain": [
       "Epoch 77 Validation:   0%|          | 0/202 [00:00<?, ?it/s]"
      ]
     },
     "metadata": {},
     "output_type": "display_data"
    },
    {
     "name": "stdout",
     "output_type": "stream",
     "text": [
      "Epoch 77\tTrain Loss: 1.180428\tVal Acc: 0.4875\t\tVal F1 (Weighted): 0.4873\tVal F1 (Macro): 0.4805\tNo Improve Epochs: 2\n"
     ]
    },
    {
     "data": {
      "application/vnd.jupyter.widget-view+json": {
       "model_id": "acbaaf1074bc479eb19dbb26f707a835",
       "version_major": 2,
       "version_minor": 0
      },
      "text/plain": [
       "Epoch 78 Training:   0%|          | 0/805 [00:00<?, ?it/s]"
      ]
     },
     "metadata": {},
     "output_type": "display_data"
    },
    {
     "data": {
      "application/vnd.jupyter.widget-view+json": {
       "model_id": "fdf9029fc4974feba33354fbd93179cb",
       "version_major": 2,
       "version_minor": 0
      },
      "text/plain": [
       "Epoch 78 Validation:   0%|          | 0/202 [00:00<?, ?it/s]"
      ]
     },
     "metadata": {},
     "output_type": "display_data"
    },
    {
     "name": "stdout",
     "output_type": "stream",
     "text": [
      "모델 저장 완료 (Best Weighted F1: 0.4915).\n",
      "Epoch 78\tTrain Loss: 1.175427\tVal Acc: 0.4877\t\tVal F1 (Weighted): 0.4915\tVal F1 (Macro): 0.4850\tNo Improve Epochs: 0\n"
     ]
    },
    {
     "data": {
      "application/vnd.jupyter.widget-view+json": {
       "model_id": "f710a03ddf664634b6adfee33f0fe785",
       "version_major": 2,
       "version_minor": 0
      },
      "text/plain": [
       "Epoch 79 Training:   0%|          | 0/805 [00:00<?, ?it/s]"
      ]
     },
     "metadata": {},
     "output_type": "display_data"
    },
    {
     "data": {
      "application/vnd.jupyter.widget-view+json": {
       "model_id": "3ef91e98413f48ed9331e91caefac09e",
       "version_major": 2,
       "version_minor": 0
      },
      "text/plain": [
       "Epoch 79 Validation:   0%|          | 0/202 [00:00<?, ?it/s]"
      ]
     },
     "metadata": {},
     "output_type": "display_data"
    },
    {
     "name": "stdout",
     "output_type": "stream",
     "text": [
      "Epoch 79\tTrain Loss: 1.171111\tVal Acc: 0.4858\t\tVal F1 (Weighted): 0.4906\tVal F1 (Macro): 0.4839\tNo Improve Epochs: 1\n"
     ]
    },
    {
     "data": {
      "application/vnd.jupyter.widget-view+json": {
       "model_id": "ec49aa62bf1d4d9b8d8ad9504ced498e",
       "version_major": 2,
       "version_minor": 0
      },
      "text/plain": [
       "Epoch 80 Training:   0%|          | 0/805 [00:00<?, ?it/s]"
      ]
     },
     "metadata": {},
     "output_type": "display_data"
    },
    {
     "data": {
      "application/vnd.jupyter.widget-view+json": {
       "model_id": "38ade2fc2d74492c848717335bb2d30b",
       "version_major": 2,
       "version_minor": 0
      },
      "text/plain": [
       "Epoch 80 Validation:   0%|          | 0/202 [00:00<?, ?it/s]"
      ]
     },
     "metadata": {},
     "output_type": "display_data"
    },
    {
     "name": "stdout",
     "output_type": "stream",
     "text": [
      "Epoch 80\tTrain Loss: 1.178629\tVal Acc: 0.4855\t\tVal F1 (Weighted): 0.4892\tVal F1 (Macro): 0.4824\tNo Improve Epochs: 2\n"
     ]
    },
    {
     "data": {
      "application/vnd.jupyter.widget-view+json": {
       "model_id": "8785912e1cc44505a9ee1878bb61d8e0",
       "version_major": 2,
       "version_minor": 0
      },
      "text/plain": [
       "Epoch 81 Training:   0%|          | 0/805 [00:00<?, ?it/s]"
      ]
     },
     "metadata": {},
     "output_type": "display_data"
    },
    {
     "data": {
      "application/vnd.jupyter.widget-view+json": {
       "model_id": "73de98fbf6654c87ab392f5bc9f1c3ea",
       "version_major": 2,
       "version_minor": 0
      },
      "text/plain": [
       "Epoch 81 Validation:   0%|          | 0/202 [00:00<?, ?it/s]"
      ]
     },
     "metadata": {},
     "output_type": "display_data"
    },
    {
     "name": "stdout",
     "output_type": "stream",
     "text": [
      "Epoch 81\tTrain Loss: 1.174666\tVal Acc: 0.4825\t\tVal F1 (Weighted): 0.4902\tVal F1 (Macro): 0.4839\tNo Improve Epochs: 3\n"
     ]
    },
    {
     "data": {
      "application/vnd.jupyter.widget-view+json": {
       "model_id": "113f626bb7ee44358872abd407cc8401",
       "version_major": 2,
       "version_minor": 0
      },
      "text/plain": [
       "Epoch 82 Training:   0%|          | 0/805 [00:00<?, ?it/s]"
      ]
     },
     "metadata": {},
     "output_type": "display_data"
    },
    {
     "data": {
      "application/vnd.jupyter.widget-view+json": {
       "model_id": "098f9cae850241d09d9de6f0f50b9888",
       "version_major": 2,
       "version_minor": 0
      },
      "text/plain": [
       "Epoch 82 Validation:   0%|          | 0/202 [00:00<?, ?it/s]"
      ]
     },
     "metadata": {},
     "output_type": "display_data"
    },
    {
     "name": "stdout",
     "output_type": "stream",
     "text": [
      "모델 저장 완료 (Best Weighted F1: 0.4917).\n",
      "Epoch 82\tTrain Loss: 1.166813\tVal Acc: 0.4884\t\tVal F1 (Weighted): 0.4917\tVal F1 (Macro): 0.4853\tNo Improve Epochs: 0\n"
     ]
    },
    {
     "data": {
      "application/vnd.jupyter.widget-view+json": {
       "model_id": "ffc45bad42a24a34870ee11771862dd8",
       "version_major": 2,
       "version_minor": 0
      },
      "text/plain": [
       "Epoch 83 Training:   0%|          | 0/805 [00:00<?, ?it/s]"
      ]
     },
     "metadata": {},
     "output_type": "display_data"
    },
    {
     "data": {
      "application/vnd.jupyter.widget-view+json": {
       "model_id": "e86ec28c04144dff9671b30d93b29f47",
       "version_major": 2,
       "version_minor": 0
      },
      "text/plain": [
       "Epoch 83 Validation:   0%|          | 0/202 [00:00<?, ?it/s]"
      ]
     },
     "metadata": {},
     "output_type": "display_data"
    },
    {
     "name": "stdout",
     "output_type": "stream",
     "text": [
      "Epoch 83\tTrain Loss: 1.166266\tVal Acc: 0.4850\t\tVal F1 (Weighted): 0.4904\tVal F1 (Macro): 0.4837\tNo Improve Epochs: 1\n"
     ]
    },
    {
     "data": {
      "application/vnd.jupyter.widget-view+json": {
       "model_id": "a77d04c9b85b4b98a85a2afe44fc6b09",
       "version_major": 2,
       "version_minor": 0
      },
      "text/plain": [
       "Epoch 84 Training:   0%|          | 0/805 [00:00<?, ?it/s]"
      ]
     },
     "metadata": {},
     "output_type": "display_data"
    },
    {
     "data": {
      "application/vnd.jupyter.widget-view+json": {
       "model_id": "f6d086cfd5dd4f4da48f0132e1fa6712",
       "version_major": 2,
       "version_minor": 0
      },
      "text/plain": [
       "Epoch 84 Validation:   0%|          | 0/202 [00:00<?, ?it/s]"
      ]
     },
     "metadata": {},
     "output_type": "display_data"
    },
    {
     "name": "stdout",
     "output_type": "stream",
     "text": [
      "Epoch 84\tTrain Loss: 1.160768\tVal Acc: 0.4883\t\tVal F1 (Weighted): 0.4911\tVal F1 (Macro): 0.4840\tNo Improve Epochs: 2\n"
     ]
    },
    {
     "data": {
      "application/vnd.jupyter.widget-view+json": {
       "model_id": "7de4606fc82643788eedb159d7b1a8c9",
       "version_major": 2,
       "version_minor": 0
      },
      "text/plain": [
       "Epoch 85 Training:   0%|          | 0/805 [00:00<?, ?it/s]"
      ]
     },
     "metadata": {},
     "output_type": "display_data"
    },
    {
     "data": {
      "application/vnd.jupyter.widget-view+json": {
       "model_id": "fc919b9d21fb4919b1c29779b9ba4332",
       "version_major": 2,
       "version_minor": 0
      },
      "text/plain": [
       "Epoch 85 Validation:   0%|          | 0/202 [00:00<?, ?it/s]"
      ]
     },
     "metadata": {},
     "output_type": "display_data"
    },
    {
     "name": "stdout",
     "output_type": "stream",
     "text": [
      "모델 저장 완료 (Best Weighted F1: 0.4939).\n",
      "Epoch 85\tTrain Loss: 1.161435\tVal Acc: 0.4892\t\tVal F1 (Weighted): 0.4939\tVal F1 (Macro): 0.4872\tNo Improve Epochs: 0\n"
     ]
    },
    {
     "data": {
      "application/vnd.jupyter.widget-view+json": {
       "model_id": "04fa7b28309a44ed9bccd9ef89b2c49f",
       "version_major": 2,
       "version_minor": 0
      },
      "text/plain": [
       "Epoch 86 Training:   0%|          | 0/805 [00:00<?, ?it/s]"
      ]
     },
     "metadata": {},
     "output_type": "display_data"
    },
    {
     "data": {
      "application/vnd.jupyter.widget-view+json": {
       "model_id": "596b417eee544b16aa9a2f39f266d035",
       "version_major": 2,
       "version_minor": 0
      },
      "text/plain": [
       "Epoch 86 Validation:   0%|          | 0/202 [00:00<?, ?it/s]"
      ]
     },
     "metadata": {},
     "output_type": "display_data"
    },
    {
     "name": "stdout",
     "output_type": "stream",
     "text": [
      "Epoch 86\tTrain Loss: 1.155974\tVal Acc: 0.4894\t\tVal F1 (Weighted): 0.4938\tVal F1 (Macro): 0.4870\tNo Improve Epochs: 1\n"
     ]
    },
    {
     "data": {
      "application/vnd.jupyter.widget-view+json": {
       "model_id": "83ba0a10ae56480baa862ed53cf17c2e",
       "version_major": 2,
       "version_minor": 0
      },
      "text/plain": [
       "Epoch 87 Training:   0%|          | 0/805 [00:00<?, ?it/s]"
      ]
     },
     "metadata": {},
     "output_type": "display_data"
    },
    {
     "data": {
      "application/vnd.jupyter.widget-view+json": {
       "model_id": "fa37754a93e94d168964948dfc2dd451",
       "version_major": 2,
       "version_minor": 0
      },
      "text/plain": [
       "Epoch 87 Validation:   0%|          | 0/202 [00:00<?, ?it/s]"
      ]
     },
     "metadata": {},
     "output_type": "display_data"
    },
    {
     "name": "stdout",
     "output_type": "stream",
     "text": [
      "모델 저장 완료 (Best Weighted F1: 0.4960).\n",
      "Epoch 87\tTrain Loss: 1.166050\tVal Acc: 0.4911\t\tVal F1 (Weighted): 0.4960\tVal F1 (Macro): 0.4894\tNo Improve Epochs: 0\n"
     ]
    },
    {
     "data": {
      "application/vnd.jupyter.widget-view+json": {
       "model_id": "7ed56bd065e54a6c9262e867ad950082",
       "version_major": 2,
       "version_minor": 0
      },
      "text/plain": [
       "Epoch 88 Training:   0%|          | 0/805 [00:00<?, ?it/s]"
      ]
     },
     "metadata": {},
     "output_type": "display_data"
    },
    {
     "data": {
      "application/vnd.jupyter.widget-view+json": {
       "model_id": "624c9911cc5b4c36a1be9a9a8b1ccfef",
       "version_major": 2,
       "version_minor": 0
      },
      "text/plain": [
       "Epoch 88 Validation:   0%|          | 0/202 [00:00<?, ?it/s]"
      ]
     },
     "metadata": {},
     "output_type": "display_data"
    },
    {
     "name": "stdout",
     "output_type": "stream",
     "text": [
      "Epoch 88\tTrain Loss: 1.161810\tVal Acc: 0.4900\t\tVal F1 (Weighted): 0.4921\tVal F1 (Macro): 0.4854\tNo Improve Epochs: 1\n"
     ]
    },
    {
     "data": {
      "application/vnd.jupyter.widget-view+json": {
       "model_id": "6ac0b16ef4824ece9deb9de87b597c8e",
       "version_major": 2,
       "version_minor": 0
      },
      "text/plain": [
       "Epoch 89 Training:   0%|          | 0/805 [00:00<?, ?it/s]"
      ]
     },
     "metadata": {},
     "output_type": "display_data"
    },
    {
     "data": {
      "application/vnd.jupyter.widget-view+json": {
       "model_id": "cfc446da8e124fec8df8c74c2ec5b2ca",
       "version_major": 2,
       "version_minor": 0
      },
      "text/plain": [
       "Epoch 89 Validation:   0%|          | 0/202 [00:00<?, ?it/s]"
      ]
     },
     "metadata": {},
     "output_type": "display_data"
    },
    {
     "name": "stdout",
     "output_type": "stream",
     "text": [
      "Epoch 89\tTrain Loss: 1.155794\tVal Acc: 0.4912\t\tVal F1 (Weighted): 0.4939\tVal F1 (Macro): 0.4873\tNo Improve Epochs: 2\n"
     ]
    },
    {
     "data": {
      "application/vnd.jupyter.widget-view+json": {
       "model_id": "b6b3be72a203466796d09b057e4a3689",
       "version_major": 2,
       "version_minor": 0
      },
      "text/plain": [
       "Epoch 90 Training:   0%|          | 0/805 [00:00<?, ?it/s]"
      ]
     },
     "metadata": {},
     "output_type": "display_data"
    },
    {
     "data": {
      "application/vnd.jupyter.widget-view+json": {
       "model_id": "126f1d673ec741e59712c68458b3fa74",
       "version_major": 2,
       "version_minor": 0
      },
      "text/plain": [
       "Epoch 90 Validation:   0%|          | 0/202 [00:00<?, ?it/s]"
      ]
     },
     "metadata": {},
     "output_type": "display_data"
    },
    {
     "name": "stdout",
     "output_type": "stream",
     "text": [
      "Epoch 90\tTrain Loss: 1.150953\tVal Acc: 0.4914\t\tVal F1 (Weighted): 0.4948\tVal F1 (Macro): 0.4882\tNo Improve Epochs: 3\n"
     ]
    },
    {
     "data": {
      "application/vnd.jupyter.widget-view+json": {
       "model_id": "a137e9bf31ae42cfbd8c1e3c56d6acf1",
       "version_major": 2,
       "version_minor": 0
      },
      "text/plain": [
       "Epoch 91 Training:   0%|          | 0/805 [00:00<?, ?it/s]"
      ]
     },
     "metadata": {},
     "output_type": "display_data"
    },
    {
     "data": {
      "application/vnd.jupyter.widget-view+json": {
       "model_id": "8a4faeb062fb48c6bbdf894829cde83e",
       "version_major": 2,
       "version_minor": 0
      },
      "text/plain": [
       "Epoch 91 Validation:   0%|          | 0/202 [00:00<?, ?it/s]"
      ]
     },
     "metadata": {},
     "output_type": "display_data"
    },
    {
     "name": "stdout",
     "output_type": "stream",
     "text": [
      "Epoch 91\tTrain Loss: 1.157819\tVal Acc: 0.4850\t\tVal F1 (Weighted): 0.4906\tVal F1 (Macro): 0.4843\tNo Improve Epochs: 4\n"
     ]
    },
    {
     "data": {
      "application/vnd.jupyter.widget-view+json": {
       "model_id": "e47afe3da13e4acaa5e5c82d748e4876",
       "version_major": 2,
       "version_minor": 0
      },
      "text/plain": [
       "Epoch 92 Training:   0%|          | 0/805 [00:00<?, ?it/s]"
      ]
     },
     "metadata": {},
     "output_type": "display_data"
    },
    {
     "data": {
      "application/vnd.jupyter.widget-view+json": {
       "model_id": "7fcfcdd098394813915b39ab151bb561",
       "version_major": 2,
       "version_minor": 0
      },
      "text/plain": [
       "Epoch 92 Validation:   0%|          | 0/202 [00:00<?, ?it/s]"
      ]
     },
     "metadata": {},
     "output_type": "display_data"
    },
    {
     "name": "stdout",
     "output_type": "stream",
     "text": [
      "Epoch 92\tTrain Loss: 1.147417\tVal Acc: 0.4889\t\tVal F1 (Weighted): 0.4903\tVal F1 (Macro): 0.4829\tNo Improve Epochs: 5\n"
     ]
    },
    {
     "data": {
      "application/vnd.jupyter.widget-view+json": {
       "model_id": "bd2b0ad715824a6bbe02d3bdaa6b8281",
       "version_major": 2,
       "version_minor": 0
      },
      "text/plain": [
       "Epoch 93 Training:   0%|          | 0/805 [00:00<?, ?it/s]"
      ]
     },
     "metadata": {},
     "output_type": "display_data"
    },
    {
     "data": {
      "application/vnd.jupyter.widget-view+json": {
       "model_id": "6dec5d0f85de4fce84cd77e00bd5ffba",
       "version_major": 2,
       "version_minor": 0
      },
      "text/plain": [
       "Epoch 93 Validation:   0%|          | 0/202 [00:00<?, ?it/s]"
      ]
     },
     "metadata": {},
     "output_type": "display_data"
    },
    {
     "name": "stdout",
     "output_type": "stream",
     "text": [
      "Epoch 93\tTrain Loss: 1.151033\tVal Acc: 0.4889\t\tVal F1 (Weighted): 0.4921\tVal F1 (Macro): 0.4854\tNo Improve Epochs: 6\n"
     ]
    },
    {
     "data": {
      "application/vnd.jupyter.widget-view+json": {
       "model_id": "3b84663788724b33b304bf3c85a37f77",
       "version_major": 2,
       "version_minor": 0
      },
      "text/plain": [
       "Epoch 94 Training:   0%|          | 0/805 [00:00<?, ?it/s]"
      ]
     },
     "metadata": {},
     "output_type": "display_data"
    },
    {
     "data": {
      "application/vnd.jupyter.widget-view+json": {
       "model_id": "7aa69d5415074c1998be330263cf3acc",
       "version_major": 2,
       "version_minor": 0
      },
      "text/plain": [
       "Epoch 94 Validation:   0%|          | 0/202 [00:00<?, ?it/s]"
      ]
     },
     "metadata": {},
     "output_type": "display_data"
    },
    {
     "name": "stdout",
     "output_type": "stream",
     "text": [
      "Epoch 94\tTrain Loss: 1.141038\tVal Acc: 0.4835\t\tVal F1 (Weighted): 0.4895\tVal F1 (Macro): 0.4831\tNo Improve Epochs: 7\n"
     ]
    },
    {
     "data": {
      "application/vnd.jupyter.widget-view+json": {
       "model_id": "db276d6c2d3c40ac92d8549a315983df",
       "version_major": 2,
       "version_minor": 0
      },
      "text/plain": [
       "Epoch 95 Training:   0%|          | 0/805 [00:00<?, ?it/s]"
      ]
     },
     "metadata": {},
     "output_type": "display_data"
    },
    {
     "data": {
      "application/vnd.jupyter.widget-view+json": {
       "model_id": "1f547cc604a94f748c55dd9ac2a3e4e8",
       "version_major": 2,
       "version_minor": 0
      },
      "text/plain": [
       "Epoch 95 Validation:   0%|          | 0/202 [00:00<?, ?it/s]"
      ]
     },
     "metadata": {},
     "output_type": "display_data"
    },
    {
     "name": "stdout",
     "output_type": "stream",
     "text": [
      "Epoch 95\tTrain Loss: 1.139391\tVal Acc: 0.4847\t\tVal F1 (Weighted): 0.4909\tVal F1 (Macro): 0.4843\tNo Improve Epochs: 8\n"
     ]
    },
    {
     "data": {
      "application/vnd.jupyter.widget-view+json": {
       "model_id": "51f2a6e5ae9b41e7b0ffb3c6504b2de0",
       "version_major": 2,
       "version_minor": 0
      },
      "text/plain": [
       "Epoch 96 Training:   0%|          | 0/805 [00:00<?, ?it/s]"
      ]
     },
     "metadata": {},
     "output_type": "display_data"
    },
    {
     "data": {
      "application/vnd.jupyter.widget-view+json": {
       "model_id": "16dde764147c4ad4992cb4ced482f9d6",
       "version_major": 2,
       "version_minor": 0
      },
      "text/plain": [
       "Epoch 96 Validation:   0%|          | 0/202 [00:00<?, ?it/s]"
      ]
     },
     "metadata": {},
     "output_type": "display_data"
    },
    {
     "name": "stdout",
     "output_type": "stream",
     "text": [
      "Epoch 96\tTrain Loss: 1.139707\tVal Acc: 0.4887\t\tVal F1 (Weighted): 0.4928\tVal F1 (Macro): 0.4861\tNo Improve Epochs: 9\n"
     ]
    },
    {
     "data": {
      "application/vnd.jupyter.widget-view+json": {
       "model_id": "e341b44020ab4294ab1e465dfe67a3dc",
       "version_major": 2,
       "version_minor": 0
      },
      "text/plain": [
       "Epoch 97 Training:   0%|          | 0/805 [00:00<?, ?it/s]"
      ]
     },
     "metadata": {},
     "output_type": "display_data"
    },
    {
     "data": {
      "application/vnd.jupyter.widget-view+json": {
       "model_id": "9baf59cea0a0411cbd1cf3c45bdcd545",
       "version_major": 2,
       "version_minor": 0
      },
      "text/plain": [
       "Epoch 97 Validation:   0%|          | 0/202 [00:00<?, ?it/s]"
      ]
     },
     "metadata": {},
     "output_type": "display_data"
    },
    {
     "name": "stdout",
     "output_type": "stream",
     "text": [
      "Epoch 97\tTrain Loss: 1.132695\tVal Acc: 0.4864\t\tVal F1 (Weighted): 0.4921\tVal F1 (Macro): 0.4853\tNo Improve Epochs: 10\n"
     ]
    },
    {
     "data": {
      "application/vnd.jupyter.widget-view+json": {
       "model_id": "ca082c20bb814cecbd3460936cbd6963",
       "version_major": 2,
       "version_minor": 0
      },
      "text/plain": [
       "Epoch 98 Training:   0%|          | 0/805 [00:00<?, ?it/s]"
      ]
     },
     "metadata": {},
     "output_type": "display_data"
    },
    {
     "data": {
      "application/vnd.jupyter.widget-view+json": {
       "model_id": "338f0c3738204c77bfa12a42b206b01b",
       "version_major": 2,
       "version_minor": 0
      },
      "text/plain": [
       "Epoch 98 Validation:   0%|          | 0/202 [00:00<?, ?it/s]"
      ]
     },
     "metadata": {},
     "output_type": "display_data"
    },
    {
     "name": "stdout",
     "output_type": "stream",
     "text": [
      "Epoch 98\tTrain Loss: 1.133604\tVal Acc: 0.4887\t\tVal F1 (Weighted): 0.4923\tVal F1 (Macro): 0.4855\tNo Improve Epochs: 11\n"
     ]
    },
    {
     "data": {
      "application/vnd.jupyter.widget-view+json": {
       "model_id": "8d69c045871e468aa018186c565b185e",
       "version_major": 2,
       "version_minor": 0
      },
      "text/plain": [
       "Epoch 99 Training:   0%|          | 0/805 [00:00<?, ?it/s]"
      ]
     },
     "metadata": {},
     "output_type": "display_data"
    },
    {
     "data": {
      "application/vnd.jupyter.widget-view+json": {
       "model_id": "334e376cf8144fd69a4528748444f561",
       "version_major": 2,
       "version_minor": 0
      },
      "text/plain": [
       "Epoch 99 Validation:   0%|          | 0/202 [00:00<?, ?it/s]"
      ]
     },
     "metadata": {},
     "output_type": "display_data"
    },
    {
     "name": "stdout",
     "output_type": "stream",
     "text": [
      "Epoch 99\tTrain Loss: 1.136126\tVal Acc: 0.4928\t\tVal F1 (Weighted): 0.4951\tVal F1 (Macro): 0.4881\tNo Improve Epochs: 12\n"
     ]
    },
    {
     "data": {
      "application/vnd.jupyter.widget-view+json": {
       "model_id": "0a0ef554ce364e65b4e1e0910f865a41",
       "version_major": 2,
       "version_minor": 0
      },
      "text/plain": [
       "Epoch 100 Training:   0%|          | 0/805 [00:00<?, ?it/s]"
      ]
     },
     "metadata": {},
     "output_type": "display_data"
    },
    {
     "data": {
      "application/vnd.jupyter.widget-view+json": {
       "model_id": "78d4691973664ea2bf4f809e176111f6",
       "version_major": 2,
       "version_minor": 0
      },
      "text/plain": [
       "Epoch 100 Validation:   0%|          | 0/202 [00:00<?, ?it/s]"
      ]
     },
     "metadata": {},
     "output_type": "display_data"
    },
    {
     "name": "stdout",
     "output_type": "stream",
     "text": [
      "Epoch 100\tTrain Loss: 1.130352\tVal Acc: 0.4887\t\tVal F1 (Weighted): 0.4939\tVal F1 (Macro): 0.4871\tNo Improve Epochs: 13\n"
     ]
    },
    {
     "data": {
      "application/vnd.jupyter.widget-view+json": {
       "model_id": "9e6bfb20b1214796890de22efcc77316",
       "version_major": 2,
       "version_minor": 0
      },
      "text/plain": [
       "Epoch 101 Training:   0%|          | 0/805 [00:00<?, ?it/s]"
      ]
     },
     "metadata": {},
     "output_type": "display_data"
    },
    {
     "data": {
      "application/vnd.jupyter.widget-view+json": {
       "model_id": "d415a3957e83469faeff77d317589e51",
       "version_major": 2,
       "version_minor": 0
      },
      "text/plain": [
       "Epoch 101 Validation:   0%|          | 0/202 [00:00<?, ?it/s]"
      ]
     },
     "metadata": {},
     "output_type": "display_data"
    },
    {
     "name": "stdout",
     "output_type": "stream",
     "text": [
      "Epoch 101\tTrain Loss: 1.127166\tVal Acc: 0.4922\t\tVal F1 (Weighted): 0.4950\tVal F1 (Macro): 0.4881\tNo Improve Epochs: 14\n"
     ]
    },
    {
     "data": {
      "application/vnd.jupyter.widget-view+json": {
       "model_id": "ee208ba926294e21a89b3e98326400c1",
       "version_major": 2,
       "version_minor": 0
      },
      "text/plain": [
       "Epoch 102 Training:   0%|          | 0/805 [00:00<?, ?it/s]"
      ]
     },
     "metadata": {},
     "output_type": "display_data"
    },
    {
     "data": {
      "application/vnd.jupyter.widget-view+json": {
       "model_id": "5fbc1ff0998945388fd4a74350858d0a",
       "version_major": 2,
       "version_minor": 0
      },
      "text/plain": [
       "Epoch 102 Validation:   0%|          | 0/202 [00:00<?, ?it/s]"
      ]
     },
     "metadata": {},
     "output_type": "display_data"
    },
    {
     "name": "stdout",
     "output_type": "stream",
     "text": [
      "모델 저장 완료 (Best Weighted F1: 0.4962).\n",
      "Epoch 102\tTrain Loss: 1.130192\tVal Acc: 0.4911\t\tVal F1 (Weighted): 0.4962\tVal F1 (Macro): 0.4897\tNo Improve Epochs: 0\n"
     ]
    },
    {
     "data": {
      "application/vnd.jupyter.widget-view+json": {
       "model_id": "49b0bc21cd614785a0d1f5dfd8a95cc8",
       "version_major": 2,
       "version_minor": 0
      },
      "text/plain": [
       "Epoch 103 Training:   0%|          | 0/805 [00:00<?, ?it/s]"
      ]
     },
     "metadata": {},
     "output_type": "display_data"
    },
    {
     "data": {
      "application/vnd.jupyter.widget-view+json": {
       "model_id": "2a77e783fc5d4a9c84b2f76569a20af0",
       "version_major": 2,
       "version_minor": 0
      },
      "text/plain": [
       "Epoch 103 Validation:   0%|          | 0/202 [00:00<?, ?it/s]"
      ]
     },
     "metadata": {},
     "output_type": "display_data"
    },
    {
     "name": "stdout",
     "output_type": "stream",
     "text": [
      "Epoch 103\tTrain Loss: 1.131395\tVal Acc: 0.4912\t\tVal F1 (Weighted): 0.4943\tVal F1 (Macro): 0.4874\tNo Improve Epochs: 1\n"
     ]
    },
    {
     "data": {
      "application/vnd.jupyter.widget-view+json": {
       "model_id": "586162dfab9f4e4a82742adb65cdffaa",
       "version_major": 2,
       "version_minor": 0
      },
      "text/plain": [
       "Epoch 104 Training:   0%|          | 0/805 [00:00<?, ?it/s]"
      ]
     },
     "metadata": {},
     "output_type": "display_data"
    },
    {
     "data": {
      "application/vnd.jupyter.widget-view+json": {
       "model_id": "aae5b7424a9b45d89c78f7c2e09efcb7",
       "version_major": 2,
       "version_minor": 0
      },
      "text/plain": [
       "Epoch 104 Validation:   0%|          | 0/202 [00:00<?, ?it/s]"
      ]
     },
     "metadata": {},
     "output_type": "display_data"
    },
    {
     "name": "stdout",
     "output_type": "stream",
     "text": [
      "Epoch 104\tTrain Loss: 1.126450\tVal Acc: 0.4915\t\tVal F1 (Weighted): 0.4957\tVal F1 (Macro): 0.4888\tNo Improve Epochs: 2\n"
     ]
    },
    {
     "data": {
      "application/vnd.jupyter.widget-view+json": {
       "model_id": "40dadd6c16ee4defb8b7e9b5bb353b2d",
       "version_major": 2,
       "version_minor": 0
      },
      "text/plain": [
       "Epoch 105 Training:   0%|          | 0/805 [00:00<?, ?it/s]"
      ]
     },
     "metadata": {},
     "output_type": "display_data"
    },
    {
     "data": {
      "application/vnd.jupyter.widget-view+json": {
       "model_id": "2efc1f67092e4602a55e6a7ee2577c1e",
       "version_major": 2,
       "version_minor": 0
      },
      "text/plain": [
       "Epoch 105 Validation:   0%|          | 0/202 [00:00<?, ?it/s]"
      ]
     },
     "metadata": {},
     "output_type": "display_data"
    },
    {
     "name": "stdout",
     "output_type": "stream",
     "text": [
      "Epoch 105\tTrain Loss: 1.126129\tVal Acc: 0.4931\t\tVal F1 (Weighted): 0.4961\tVal F1 (Macro): 0.4894\tNo Improve Epochs: 3\n"
     ]
    },
    {
     "data": {
      "application/vnd.jupyter.widget-view+json": {
       "model_id": "00bd043a7e684d7fab9d014717f8b55e",
       "version_major": 2,
       "version_minor": 0
      },
      "text/plain": [
       "Epoch 106 Training:   0%|          | 0/805 [00:00<?, ?it/s]"
      ]
     },
     "metadata": {},
     "output_type": "display_data"
    },
    {
     "data": {
      "application/vnd.jupyter.widget-view+json": {
       "model_id": "151f884a77164bb1aa7a9bc106ef34c5",
       "version_major": 2,
       "version_minor": 0
      },
      "text/plain": [
       "Epoch 106 Validation:   0%|          | 0/202 [00:00<?, ?it/s]"
      ]
     },
     "metadata": {},
     "output_type": "display_data"
    },
    {
     "name": "stdout",
     "output_type": "stream",
     "text": [
      "Epoch 106\tTrain Loss: 1.124732\tVal Acc: 0.4877\t\tVal F1 (Weighted): 0.4922\tVal F1 (Macro): 0.4853\tNo Improve Epochs: 4\n"
     ]
    },
    {
     "data": {
      "application/vnd.jupyter.widget-view+json": {
       "model_id": "a0cd57c799b54055842fc75ae2134a68",
       "version_major": 2,
       "version_minor": 0
      },
      "text/plain": [
       "Epoch 107 Training:   0%|          | 0/805 [00:00<?, ?it/s]"
      ]
     },
     "metadata": {},
     "output_type": "display_data"
    },
    {
     "data": {
      "application/vnd.jupyter.widget-view+json": {
       "model_id": "fcf1d77a27984a1a8383e756406b9ae1",
       "version_major": 2,
       "version_minor": 0
      },
      "text/plain": [
       "Epoch 107 Validation:   0%|          | 0/202 [00:00<?, ?it/s]"
      ]
     },
     "metadata": {},
     "output_type": "display_data"
    },
    {
     "name": "stdout",
     "output_type": "stream",
     "text": [
      "Epoch 107\tTrain Loss: 1.123111\tVal Acc: 0.4856\t\tVal F1 (Weighted): 0.4915\tVal F1 (Macro): 0.4852\tNo Improve Epochs: 5\n"
     ]
    },
    {
     "data": {
      "application/vnd.jupyter.widget-view+json": {
       "model_id": "e62c07305bac4b5dbb4eb1ad0029aceb",
       "version_major": 2,
       "version_minor": 0
      },
      "text/plain": [
       "Epoch 108 Training:   0%|          | 0/805 [00:00<?, ?it/s]"
      ]
     },
     "metadata": {},
     "output_type": "display_data"
    },
    {
     "data": {
      "application/vnd.jupyter.widget-view+json": {
       "model_id": "3409d4badb514f8c9e2bf85591f8c30d",
       "version_major": 2,
       "version_minor": 0
      },
      "text/plain": [
       "Epoch 108 Validation:   0%|          | 0/202 [00:00<?, ?it/s]"
      ]
     },
     "metadata": {},
     "output_type": "display_data"
    },
    {
     "name": "stdout",
     "output_type": "stream",
     "text": [
      "Epoch 108\tTrain Loss: 1.130742\tVal Acc: 0.4842\t\tVal F1 (Weighted): 0.4906\tVal F1 (Macro): 0.4840\tNo Improve Epochs: 6\n"
     ]
    },
    {
     "data": {
      "application/vnd.jupyter.widget-view+json": {
       "model_id": "dd56de97293140acbd9ccc28c60e8243",
       "version_major": 2,
       "version_minor": 0
      },
      "text/plain": [
       "Epoch 109 Training:   0%|          | 0/805 [00:00<?, ?it/s]"
      ]
     },
     "metadata": {},
     "output_type": "display_data"
    },
    {
     "data": {
      "application/vnd.jupyter.widget-view+json": {
       "model_id": "8ae92a3d0feb4aad9177b70d19d9910e",
       "version_major": 2,
       "version_minor": 0
      },
      "text/plain": [
       "Epoch 109 Validation:   0%|          | 0/202 [00:00<?, ?it/s]"
      ]
     },
     "metadata": {},
     "output_type": "display_data"
    },
    {
     "name": "stdout",
     "output_type": "stream",
     "text": [
      "Epoch 109\tTrain Loss: 1.121605\tVal Acc: 0.4900\t\tVal F1 (Weighted): 0.4947\tVal F1 (Macro): 0.4882\tNo Improve Epochs: 7\n"
     ]
    },
    {
     "data": {
      "application/vnd.jupyter.widget-view+json": {
       "model_id": "bf97b16e417d4641869f8294dd4972c3",
       "version_major": 2,
       "version_minor": 0
      },
      "text/plain": [
       "Epoch 110 Training:   0%|          | 0/805 [00:00<?, ?it/s]"
      ]
     },
     "metadata": {},
     "output_type": "display_data"
    },
    {
     "data": {
      "application/vnd.jupyter.widget-view+json": {
       "model_id": "c9ef0712df504e52aac59c90e20c4a92",
       "version_major": 2,
       "version_minor": 0
      },
      "text/plain": [
       "Epoch 110 Validation:   0%|          | 0/202 [00:00<?, ?it/s]"
      ]
     },
     "metadata": {},
     "output_type": "display_data"
    },
    {
     "name": "stdout",
     "output_type": "stream",
     "text": [
      "Epoch 110\tTrain Loss: 1.119309\tVal Acc: 0.4914\t\tVal F1 (Weighted): 0.4943\tVal F1 (Macro): 0.4874\tNo Improve Epochs: 8\n"
     ]
    },
    {
     "data": {
      "application/vnd.jupyter.widget-view+json": {
       "model_id": "19b0abceb7cc49609110eebe0174e3bc",
       "version_major": 2,
       "version_minor": 0
      },
      "text/plain": [
       "Epoch 111 Training:   0%|          | 0/805 [00:00<?, ?it/s]"
      ]
     },
     "metadata": {},
     "output_type": "display_data"
    },
    {
     "data": {
      "application/vnd.jupyter.widget-view+json": {
       "model_id": "7930a67bda05482e9be1a30d188cd3af",
       "version_major": 2,
       "version_minor": 0
      },
      "text/plain": [
       "Epoch 111 Validation:   0%|          | 0/202 [00:00<?, ?it/s]"
      ]
     },
     "metadata": {},
     "output_type": "display_data"
    },
    {
     "name": "stdout",
     "output_type": "stream",
     "text": [
      "Epoch 111\tTrain Loss: 1.121011\tVal Acc: 0.4906\t\tVal F1 (Weighted): 0.4940\tVal F1 (Macro): 0.4875\tNo Improve Epochs: 9\n"
     ]
    },
    {
     "data": {
      "application/vnd.jupyter.widget-view+json": {
       "model_id": "8c2b69299013432baaf5628986fd9e98",
       "version_major": 2,
       "version_minor": 0
      },
      "text/plain": [
       "Epoch 112 Training:   0%|          | 0/805 [00:00<?, ?it/s]"
      ]
     },
     "metadata": {},
     "output_type": "display_data"
    },
    {
     "data": {
      "application/vnd.jupyter.widget-view+json": {
       "model_id": "57345a48e18c4f25a48f709723bc8a90",
       "version_major": 2,
       "version_minor": 0
      },
      "text/plain": [
       "Epoch 112 Validation:   0%|          | 0/202 [00:00<?, ?it/s]"
      ]
     },
     "metadata": {},
     "output_type": "display_data"
    },
    {
     "name": "stdout",
     "output_type": "stream",
     "text": [
      "Epoch 112\tTrain Loss: 1.122695\tVal Acc: 0.4895\t\tVal F1 (Weighted): 0.4935\tVal F1 (Macro): 0.4870\tNo Improve Epochs: 10\n"
     ]
    },
    {
     "data": {
      "application/vnd.jupyter.widget-view+json": {
       "model_id": "362e80bb54934b34a29e94895493ad84",
       "version_major": 2,
       "version_minor": 0
      },
      "text/plain": [
       "Epoch 113 Training:   0%|          | 0/805 [00:00<?, ?it/s]"
      ]
     },
     "metadata": {},
     "output_type": "display_data"
    },
    {
     "data": {
      "application/vnd.jupyter.widget-view+json": {
       "model_id": "65861d9f42a54d7d90a78b663101dbe4",
       "version_major": 2,
       "version_minor": 0
      },
      "text/plain": [
       "Epoch 113 Validation:   0%|          | 0/202 [00:00<?, ?it/s]"
      ]
     },
     "metadata": {},
     "output_type": "display_data"
    },
    {
     "name": "stdout",
     "output_type": "stream",
     "text": [
      "Epoch 113\tTrain Loss: 1.121867\tVal Acc: 0.4906\t\tVal F1 (Weighted): 0.4918\tVal F1 (Macro): 0.4847\tNo Improve Epochs: 11\n"
     ]
    },
    {
     "data": {
      "application/vnd.jupyter.widget-view+json": {
       "model_id": "4565ac087b24421db7b01cb8ae6c813d",
       "version_major": 2,
       "version_minor": 0
      },
      "text/plain": [
       "Epoch 114 Training:   0%|          | 0/805 [00:00<?, ?it/s]"
      ]
     },
     "metadata": {},
     "output_type": "display_data"
    },
    {
     "data": {
      "application/vnd.jupyter.widget-view+json": {
       "model_id": "361ea527fffc4248a1cb9108796695f4",
       "version_major": 2,
       "version_minor": 0
      },
      "text/plain": [
       "Epoch 114 Validation:   0%|          | 0/202 [00:00<?, ?it/s]"
      ]
     },
     "metadata": {},
     "output_type": "display_data"
    },
    {
     "name": "stdout",
     "output_type": "stream",
     "text": [
      "Epoch 114\tTrain Loss: 1.119921\tVal Acc: 0.4898\t\tVal F1 (Weighted): 0.4925\tVal F1 (Macro): 0.4855\tNo Improve Epochs: 12\n"
     ]
    },
    {
     "data": {
      "application/vnd.jupyter.widget-view+json": {
       "model_id": "6ac26dc5d93e489ebb9f079f10072eb7",
       "version_major": 2,
       "version_minor": 0
      },
      "text/plain": [
       "Epoch 115 Training:   0%|          | 0/805 [00:00<?, ?it/s]"
      ]
     },
     "metadata": {},
     "output_type": "display_data"
    },
    {
     "data": {
      "application/vnd.jupyter.widget-view+json": {
       "model_id": "ca649412c7584f24b0a5561342a0a182",
       "version_major": 2,
       "version_minor": 0
      },
      "text/plain": [
       "Epoch 115 Validation:   0%|          | 0/202 [00:00<?, ?it/s]"
      ]
     },
     "metadata": {},
     "output_type": "display_data"
    },
    {
     "name": "stdout",
     "output_type": "stream",
     "text": [
      "모델 저장 완료 (Best Weighted F1: 0.4963).\n",
      "Epoch 115\tTrain Loss: 1.117557\tVal Acc: 0.4912\t\tVal F1 (Weighted): 0.4963\tVal F1 (Macro): 0.4896\tNo Improve Epochs: 0\n"
     ]
    },
    {
     "data": {
      "application/vnd.jupyter.widget-view+json": {
       "model_id": "baabb95046b04570a103778836f20603",
       "version_major": 2,
       "version_minor": 0
      },
      "text/plain": [
       "Epoch 116 Training:   0%|          | 0/805 [00:00<?, ?it/s]"
      ]
     },
     "metadata": {},
     "output_type": "display_data"
    },
    {
     "data": {
      "application/vnd.jupyter.widget-view+json": {
       "model_id": "8aef1c12da6a4e648ffd56ebe8f432ed",
       "version_major": 2,
       "version_minor": 0
      },
      "text/plain": [
       "Epoch 116 Validation:   0%|          | 0/202 [00:00<?, ?it/s]"
      ]
     },
     "metadata": {},
     "output_type": "display_data"
    },
    {
     "name": "stdout",
     "output_type": "stream",
     "text": [
      "Epoch 116\tTrain Loss: 1.115266\tVal Acc: 0.4925\t\tVal F1 (Weighted): 0.4954\tVal F1 (Macro): 0.4886\tNo Improve Epochs: 1\n"
     ]
    },
    {
     "data": {
      "application/vnd.jupyter.widget-view+json": {
       "model_id": "cb4f1ee4a6bd43b2bc8af23f0efe6844",
       "version_major": 2,
       "version_minor": 0
      },
      "text/plain": [
       "Epoch 117 Training:   0%|          | 0/805 [00:00<?, ?it/s]"
      ]
     },
     "metadata": {},
     "output_type": "display_data"
    },
    {
     "data": {
      "application/vnd.jupyter.widget-view+json": {
       "model_id": "0932973885f94ae8bf3872b7bfb1137a",
       "version_major": 2,
       "version_minor": 0
      },
      "text/plain": [
       "Epoch 117 Validation:   0%|          | 0/202 [00:00<?, ?it/s]"
      ]
     },
     "metadata": {},
     "output_type": "display_data"
    },
    {
     "name": "stdout",
     "output_type": "stream",
     "text": [
      "Epoch 117\tTrain Loss: 1.114556\tVal Acc: 0.4898\t\tVal F1 (Weighted): 0.4949\tVal F1 (Macro): 0.4882\tNo Improve Epochs: 2\n"
     ]
    },
    {
     "data": {
      "application/vnd.jupyter.widget-view+json": {
       "model_id": "293db788af614ab2a571fab3ee1f9fe2",
       "version_major": 2,
       "version_minor": 0
      },
      "text/plain": [
       "Epoch 118 Training:   0%|          | 0/805 [00:00<?, ?it/s]"
      ]
     },
     "metadata": {},
     "output_type": "display_data"
    },
    {
     "data": {
      "application/vnd.jupyter.widget-view+json": {
       "model_id": "8ba0dd2d12694ffaa8459ea919c5f1d3",
       "version_major": 2,
       "version_minor": 0
      },
      "text/plain": [
       "Epoch 118 Validation:   0%|          | 0/202 [00:00<?, ?it/s]"
      ]
     },
     "metadata": {},
     "output_type": "display_data"
    },
    {
     "name": "stdout",
     "output_type": "stream",
     "text": [
      "Epoch 118\tTrain Loss: 1.110038\tVal Acc: 0.4917\t\tVal F1 (Weighted): 0.4953\tVal F1 (Macro): 0.4886\tNo Improve Epochs: 3\n"
     ]
    },
    {
     "data": {
      "application/vnd.jupyter.widget-view+json": {
       "model_id": "e044c8bb643544c88276fdebf0335eb0",
       "version_major": 2,
       "version_minor": 0
      },
      "text/plain": [
       "Epoch 119 Training:   0%|          | 0/805 [00:00<?, ?it/s]"
      ]
     },
     "metadata": {},
     "output_type": "display_data"
    },
    {
     "data": {
      "application/vnd.jupyter.widget-view+json": {
       "model_id": "72edab91523946dca1c0068674edd454",
       "version_major": 2,
       "version_minor": 0
      },
      "text/plain": [
       "Epoch 119 Validation:   0%|          | 0/202 [00:00<?, ?it/s]"
      ]
     },
     "metadata": {},
     "output_type": "display_data"
    },
    {
     "name": "stdout",
     "output_type": "stream",
     "text": [
      "Epoch 119\tTrain Loss: 1.107140\tVal Acc: 0.4912\t\tVal F1 (Weighted): 0.4958\tVal F1 (Macro): 0.4892\tNo Improve Epochs: 4\n"
     ]
    },
    {
     "data": {
      "application/vnd.jupyter.widget-view+json": {
       "model_id": "6b5f9610d9304a9094c20a90af221faa",
       "version_major": 2,
       "version_minor": 0
      },
      "text/plain": [
       "Epoch 120 Training:   0%|          | 0/805 [00:00<?, ?it/s]"
      ]
     },
     "metadata": {},
     "output_type": "display_data"
    },
    {
     "data": {
      "application/vnd.jupyter.widget-view+json": {
       "model_id": "0af037b45e2c4a5d9a7d170638c29533",
       "version_major": 2,
       "version_minor": 0
      },
      "text/plain": [
       "Epoch 120 Validation:   0%|          | 0/202 [00:00<?, ?it/s]"
      ]
     },
     "metadata": {},
     "output_type": "display_data"
    },
    {
     "name": "stdout",
     "output_type": "stream",
     "text": [
      "Epoch 120\tTrain Loss: 1.115624\tVal Acc: 0.4895\t\tVal F1 (Weighted): 0.4948\tVal F1 (Macro): 0.4880\tNo Improve Epochs: 5\n"
     ]
    },
    {
     "data": {
      "application/vnd.jupyter.widget-view+json": {
       "model_id": "e5aecb9eb6a74e49b0e92bd8f3cd9d26",
       "version_major": 2,
       "version_minor": 0
      },
      "text/plain": [
       "Epoch 121 Training:   0%|          | 0/805 [00:00<?, ?it/s]"
      ]
     },
     "metadata": {},
     "output_type": "display_data"
    },
    {
     "data": {
      "application/vnd.jupyter.widget-view+json": {
       "model_id": "32f99cb98a7d4639b3be766277f1b5b5",
       "version_major": 2,
       "version_minor": 0
      },
      "text/plain": [
       "Epoch 121 Validation:   0%|          | 0/202 [00:00<?, ?it/s]"
      ]
     },
     "metadata": {},
     "output_type": "display_data"
    },
    {
     "name": "stdout",
     "output_type": "stream",
     "text": [
      "Epoch 121\tTrain Loss: 1.109585\tVal Acc: 0.4886\t\tVal F1 (Weighted): 0.4938\tVal F1 (Macro): 0.4869\tNo Improve Epochs: 6\n"
     ]
    },
    {
     "data": {
      "application/vnd.jupyter.widget-view+json": {
       "model_id": "fdc5b10d17c643d5995428e748dae105",
       "version_major": 2,
       "version_minor": 0
      },
      "text/plain": [
       "Epoch 122 Training:   0%|          | 0/805 [00:00<?, ?it/s]"
      ]
     },
     "metadata": {},
     "output_type": "display_data"
    },
    {
     "data": {
      "application/vnd.jupyter.widget-view+json": {
       "model_id": "7512e280e1c14e779689baa351a0cebf",
       "version_major": 2,
       "version_minor": 0
      },
      "text/plain": [
       "Epoch 122 Validation:   0%|          | 0/202 [00:00<?, ?it/s]"
      ]
     },
     "metadata": {},
     "output_type": "display_data"
    },
    {
     "name": "stdout",
     "output_type": "stream",
     "text": [
      "Epoch 122\tTrain Loss: 1.110718\tVal Acc: 0.4901\t\tVal F1 (Weighted): 0.4948\tVal F1 (Macro): 0.4881\tNo Improve Epochs: 7\n"
     ]
    },
    {
     "data": {
      "application/vnd.jupyter.widget-view+json": {
       "model_id": "0c7b710384744edaa91cccbdbe8d7c41",
       "version_major": 2,
       "version_minor": 0
      },
      "text/plain": [
       "Epoch 123 Training:   0%|          | 0/805 [00:00<?, ?it/s]"
      ]
     },
     "metadata": {},
     "output_type": "display_data"
    },
    {
     "data": {
      "application/vnd.jupyter.widget-view+json": {
       "model_id": "bdc21dd309e14fa4a84fc521cdb79b85",
       "version_major": 2,
       "version_minor": 0
      },
      "text/plain": [
       "Epoch 123 Validation:   0%|          | 0/202 [00:00<?, ?it/s]"
      ]
     },
     "metadata": {},
     "output_type": "display_data"
    },
    {
     "name": "stdout",
     "output_type": "stream",
     "text": [
      "Epoch 123\tTrain Loss: 1.112843\tVal Acc: 0.4940\t\tVal F1 (Weighted): 0.4959\tVal F1 (Macro): 0.4890\tNo Improve Epochs: 8\n"
     ]
    },
    {
     "data": {
      "application/vnd.jupyter.widget-view+json": {
       "model_id": "9a2d6a949a99439baf4e636fe6ceba36",
       "version_major": 2,
       "version_minor": 0
      },
      "text/plain": [
       "Epoch 124 Training:   0%|          | 0/805 [00:00<?, ?it/s]"
      ]
     },
     "metadata": {},
     "output_type": "display_data"
    },
    {
     "data": {
      "application/vnd.jupyter.widget-view+json": {
       "model_id": "f32c457fa8054cc6a157019009d5912f",
       "version_major": 2,
       "version_minor": 0
      },
      "text/plain": [
       "Epoch 124 Validation:   0%|          | 0/202 [00:00<?, ?it/s]"
      ]
     },
     "metadata": {},
     "output_type": "display_data"
    },
    {
     "name": "stdout",
     "output_type": "stream",
     "text": [
      "Epoch 124\tTrain Loss: 1.104466\tVal Acc: 0.4900\t\tVal F1 (Weighted): 0.4928\tVal F1 (Macro): 0.4861\tNo Improve Epochs: 9\n"
     ]
    },
    {
     "data": {
      "application/vnd.jupyter.widget-view+json": {
       "model_id": "2d8bc9e85a2c45d38fea83e1d45efa76",
       "version_major": 2,
       "version_minor": 0
      },
      "text/plain": [
       "Epoch 125 Training:   0%|          | 0/805 [00:00<?, ?it/s]"
      ]
     },
     "metadata": {},
     "output_type": "display_data"
    },
    {
     "data": {
      "application/vnd.jupyter.widget-view+json": {
       "model_id": "5f8a1ed56500484aaa6ebbf56ab98fe1",
       "version_major": 2,
       "version_minor": 0
      },
      "text/plain": [
       "Epoch 125 Validation:   0%|          | 0/202 [00:00<?, ?it/s]"
      ]
     },
     "metadata": {},
     "output_type": "display_data"
    },
    {
     "name": "stdout",
     "output_type": "stream",
     "text": [
      "Epoch 125\tTrain Loss: 1.106159\tVal Acc: 0.4922\t\tVal F1 (Weighted): 0.4947\tVal F1 (Macro): 0.4879\tNo Improve Epochs: 10\n"
     ]
    },
    {
     "data": {
      "application/vnd.jupyter.widget-view+json": {
       "model_id": "d57cedf5909f44e5bdbf1861d4b8b76f",
       "version_major": 2,
       "version_minor": 0
      },
      "text/plain": [
       "Epoch 126 Training:   0%|          | 0/805 [00:00<?, ?it/s]"
      ]
     },
     "metadata": {},
     "output_type": "display_data"
    },
    {
     "data": {
      "application/vnd.jupyter.widget-view+json": {
       "model_id": "dd25d104801d4a499ce2f183314abafd",
       "version_major": 2,
       "version_minor": 0
      },
      "text/plain": [
       "Epoch 126 Validation:   0%|          | 0/202 [00:00<?, ?it/s]"
      ]
     },
     "metadata": {},
     "output_type": "display_data"
    },
    {
     "name": "stdout",
     "output_type": "stream",
     "text": [
      "Epoch 126\tTrain Loss: 1.101606\tVal Acc: 0.4884\t\tVal F1 (Weighted): 0.4915\tVal F1 (Macro): 0.4845\tNo Improve Epochs: 11\n"
     ]
    },
    {
     "data": {
      "application/vnd.jupyter.widget-view+json": {
       "model_id": "a38570e1ea2f40dc981e86d7b7e31b05",
       "version_major": 2,
       "version_minor": 0
      },
      "text/plain": [
       "Epoch 127 Training:   0%|          | 0/805 [00:00<?, ?it/s]"
      ]
     },
     "metadata": {},
     "output_type": "display_data"
    },
    {
     "data": {
      "application/vnd.jupyter.widget-view+json": {
       "model_id": "6a60a374e7454d7eb606dcd62a1e0f2c",
       "version_major": 2,
       "version_minor": 0
      },
      "text/plain": [
       "Epoch 127 Validation:   0%|          | 0/202 [00:00<?, ?it/s]"
      ]
     },
     "metadata": {},
     "output_type": "display_data"
    },
    {
     "name": "stdout",
     "output_type": "stream",
     "text": [
      "Epoch 127\tTrain Loss: 1.102969\tVal Acc: 0.4915\t\tVal F1 (Weighted): 0.4950\tVal F1 (Macro): 0.4885\tNo Improve Epochs: 12\n"
     ]
    },
    {
     "data": {
      "application/vnd.jupyter.widget-view+json": {
       "model_id": "6f8f40531a024f4db519e8f5aa82a0a5",
       "version_major": 2,
       "version_minor": 0
      },
      "text/plain": [
       "Epoch 128 Training:   0%|          | 0/805 [00:00<?, ?it/s]"
      ]
     },
     "metadata": {},
     "output_type": "display_data"
    },
    {
     "data": {
      "application/vnd.jupyter.widget-view+json": {
       "model_id": "6bab30b365fa4851b6fb79216d826d43",
       "version_major": 2,
       "version_minor": 0
      },
      "text/plain": [
       "Epoch 128 Validation:   0%|          | 0/202 [00:00<?, ?it/s]"
      ]
     },
     "metadata": {},
     "output_type": "display_data"
    },
    {
     "name": "stdout",
     "output_type": "stream",
     "text": [
      "Epoch 128\tTrain Loss: 1.106687\tVal Acc: 0.4894\t\tVal F1 (Weighted): 0.4927\tVal F1 (Macro): 0.4859\tNo Improve Epochs: 13\n"
     ]
    },
    {
     "data": {
      "application/vnd.jupyter.widget-view+json": {
       "model_id": "1f132f1cc81144d7bc91f1a6dc5193fc",
       "version_major": 2,
       "version_minor": 0
      },
      "text/plain": [
       "Epoch 129 Training:   0%|          | 0/805 [00:00<?, ?it/s]"
      ]
     },
     "metadata": {},
     "output_type": "display_data"
    },
    {
     "data": {
      "application/vnd.jupyter.widget-view+json": {
       "model_id": "755d3a527f504f1fa776cd160a48c38c",
       "version_major": 2,
       "version_minor": 0
      },
      "text/plain": [
       "Epoch 129 Validation:   0%|          | 0/202 [00:00<?, ?it/s]"
      ]
     },
     "metadata": {},
     "output_type": "display_data"
    },
    {
     "name": "stdout",
     "output_type": "stream",
     "text": [
      "Epoch 129\tTrain Loss: 1.107325\tVal Acc: 0.4918\t\tVal F1 (Weighted): 0.4933\tVal F1 (Macro): 0.4865\tNo Improve Epochs: 14\n"
     ]
    },
    {
     "data": {
      "application/vnd.jupyter.widget-view+json": {
       "model_id": "e5863b1aab224e4e92df6be88d6b52a3",
       "version_major": 2,
       "version_minor": 0
      },
      "text/plain": [
       "Epoch 130 Training:   0%|          | 0/805 [00:00<?, ?it/s]"
      ]
     },
     "metadata": {},
     "output_type": "display_data"
    },
    {
     "data": {
      "application/vnd.jupyter.widget-view+json": {
       "model_id": "a483913a05854d48958fcd457eebe2df",
       "version_major": 2,
       "version_minor": 0
      },
      "text/plain": [
       "Epoch 130 Validation:   0%|          | 0/202 [00:00<?, ?it/s]"
      ]
     },
     "metadata": {},
     "output_type": "display_data"
    },
    {
     "name": "stdout",
     "output_type": "stream",
     "text": [
      "Epoch 130\tTrain Loss: 1.103159\tVal Acc: 0.4917\t\tVal F1 (Weighted): 0.4936\tVal F1 (Macro): 0.4867\tNo Improve Epochs: 15\n"
     ]
    },
    {
     "data": {
      "application/vnd.jupyter.widget-view+json": {
       "model_id": "42749c0ca61546c79699177bc2a5224c",
       "version_major": 2,
       "version_minor": 0
      },
      "text/plain": [
       "Epoch 131 Training:   0%|          | 0/805 [00:00<?, ?it/s]"
      ]
     },
     "metadata": {},
     "output_type": "display_data"
    },
    {
     "data": {
      "application/vnd.jupyter.widget-view+json": {
       "model_id": "333200b20aec4b1499e3f628f29f0557",
       "version_major": 2,
       "version_minor": 0
      },
      "text/plain": [
       "Epoch 131 Validation:   0%|          | 0/202 [00:00<?, ?it/s]"
      ]
     },
     "metadata": {},
     "output_type": "display_data"
    },
    {
     "name": "stdout",
     "output_type": "stream",
     "text": [
      "Epoch 131\tTrain Loss: 1.107754\tVal Acc: 0.4904\t\tVal F1 (Weighted): 0.4938\tVal F1 (Macro): 0.4871\tNo Improve Epochs: 16\n"
     ]
    },
    {
     "data": {
      "application/vnd.jupyter.widget-view+json": {
       "model_id": "50b678adc2b1495696b06867790445ca",
       "version_major": 2,
       "version_minor": 0
      },
      "text/plain": [
       "Epoch 132 Training:   0%|          | 0/805 [00:00<?, ?it/s]"
      ]
     },
     "metadata": {},
     "output_type": "display_data"
    },
    {
     "data": {
      "application/vnd.jupyter.widget-view+json": {
       "model_id": "04cbadef0d0345cd8d3a3e677b67b1a9",
       "version_major": 2,
       "version_minor": 0
      },
      "text/plain": [
       "Epoch 132 Validation:   0%|          | 0/202 [00:00<?, ?it/s]"
      ]
     },
     "metadata": {},
     "output_type": "display_data"
    },
    {
     "name": "stdout",
     "output_type": "stream",
     "text": [
      "Epoch 132\tTrain Loss: 1.100190\tVal Acc: 0.4891\t\tVal F1 (Weighted): 0.4924\tVal F1 (Macro): 0.4855\tNo Improve Epochs: 17\n"
     ]
    },
    {
     "data": {
      "application/vnd.jupyter.widget-view+json": {
       "model_id": "2e7f5a89e57b48d3b76d5a1a8da0b740",
       "version_major": 2,
       "version_minor": 0
      },
      "text/plain": [
       "Epoch 133 Training:   0%|          | 0/805 [00:00<?, ?it/s]"
      ]
     },
     "metadata": {},
     "output_type": "display_data"
    },
    {
     "data": {
      "application/vnd.jupyter.widget-view+json": {
       "model_id": "45f7402aa4f94c0d9c15af84e124570b",
       "version_major": 2,
       "version_minor": 0
      },
      "text/plain": [
       "Epoch 133 Validation:   0%|          | 0/202 [00:00<?, ?it/s]"
      ]
     },
     "metadata": {},
     "output_type": "display_data"
    },
    {
     "name": "stdout",
     "output_type": "stream",
     "text": [
      "Epoch 133\tTrain Loss: 1.100698\tVal Acc: 0.4909\t\tVal F1 (Weighted): 0.4941\tVal F1 (Macro): 0.4872\tNo Improve Epochs: 18\n"
     ]
    },
    {
     "data": {
      "application/vnd.jupyter.widget-view+json": {
       "model_id": "a87b5b30c9204846b96328971058ac63",
       "version_major": 2,
       "version_minor": 0
      },
      "text/plain": [
       "Epoch 134 Training:   0%|          | 0/805 [00:00<?, ?it/s]"
      ]
     },
     "metadata": {},
     "output_type": "display_data"
    },
    {
     "data": {
      "application/vnd.jupyter.widget-view+json": {
       "model_id": "e64eeb9c67c74a08a4a93d1655d52fa4",
       "version_major": 2,
       "version_minor": 0
      },
      "text/plain": [
       "Epoch 134 Validation:   0%|          | 0/202 [00:00<?, ?it/s]"
      ]
     },
     "metadata": {},
     "output_type": "display_data"
    },
    {
     "name": "stdout",
     "output_type": "stream",
     "text": [
      "Epoch 134\tTrain Loss: 1.100763\tVal Acc: 0.4920\t\tVal F1 (Weighted): 0.4947\tVal F1 (Macro): 0.4878\tNo Improve Epochs: 19\n"
     ]
    },
    {
     "data": {
      "application/vnd.jupyter.widget-view+json": {
       "model_id": "3ea418224c0347b38670f3445eaaffef",
       "version_major": 2,
       "version_minor": 0
      },
      "text/plain": [
       "Epoch 135 Training:   0%|          | 0/805 [00:00<?, ?it/s]"
      ]
     },
     "metadata": {},
     "output_type": "display_data"
    },
    {
     "data": {
      "application/vnd.jupyter.widget-view+json": {
       "model_id": "686891d152ee48ff98077d1e6bb00f61",
       "version_major": 2,
       "version_minor": 0
      },
      "text/plain": [
       "Epoch 135 Validation:   0%|          | 0/202 [00:00<?, ?it/s]"
      ]
     },
     "metadata": {},
     "output_type": "display_data"
    },
    {
     "name": "stdout",
     "output_type": "stream",
     "text": [
      "Epoch 135\tTrain Loss: 1.099477\tVal Acc: 0.4937\t\tVal F1 (Weighted): 0.4962\tVal F1 (Macro): 0.4893\tNo Improve Epochs: 20\n",
      "조기 종료: 검증 F1 점수 개선 없음.\n",
      "---------- 학습 종료 ----------\n"
     ]
    }
   ],
   "source": [
    "train_number = 24\n",
    "save_path = f\"saves/models/Sentiment_v{train_number}.pt\"\n",
    "NN = Transformer(vocab_size=VOCAB_SIZE,embedding_dim=256,hidden_dim=128,output_dim=7,n_layers=4,\n",
    "                 n_heads=8,dropout_p=0.4,max_len=128,pad_token_id=0)\n",
    "# NN.load_state_dict(torch.load(\"saves/models/Sentiment_v19.pt\"))\n",
    "all_train_labels_original = train_df['감정'].values.astype(int)\n",
    "\n",
    "num_classes = NN.output_dim\n",
    "\n",
    "label_counts_original = np.bincount(all_train_labels_original, minlength=num_classes)\n",
    "class_counts_tensor = torch.tensor(label_counts_original, dtype=torch.float)\n",
    "\n",
    "class_counts_tensor = torch.where(class_counts_tensor == 0, torch.tensor(1.0), class_counts_tensor)\n",
    "\n",
    "print(f\"학습 데이터 클래스별 샘플 수: {class_counts_tensor.tolist()}\")\n",
    "print(f\"학습 데이터 클래스 분포: {Counter(all_train_labels_original)}\")\n",
    "\n",
    "class_weights = (class_counts_tensor.sum() / class_counts_tensor)\n",
    "\n",
    "class_weights = class_weights.to(device)\n",
    "\n",
    "print(f\"계산된 클래스 가중치: {class_weights.tolist()}\")\n",
    "\n",
    "# loss_function = nn.CrossEntropyLoss(weight=class_weights)\n",
    "loss_function = nn.CrossEntropyLoss()\n",
    "optimizer = torch.optim.AdamW(NN.parameters(), lr=4.565359362828951e-05)\n",
    "scheduler_plateau = ReduceLROnPlateau(optimizer, mode=\"max\", factor=0.8, patience=5,min_lr=1e-7)\n",
    "epoch = 10000\n",
    "\n",
    "data, attention_mask, labels = next(iter(train_loader))\n",
    "print(f\"첫 배치 레이블 분포: {Counter(labels.cpu().numpy())}\")\n",
    "\n",
    "Transformer_Train(epoch, device, train_loader, val_loader, NN, loss_function, optimizer, scheduler_plateau,\n",
    "                  warmup_epochs=5,\n",
    "                  log_dir=f\"runs/sentiment_experiment_v{train_number}\",\n",
    "                  save_path=save_path,\n",
    "                  multiplier=1.0,\n",
    "                  patience=20)"
   ]
  },
  {
   "cell_type": "code",
   "execution_count": null,
   "id": "a8789baa-6fb4-4cac-84bc-84cf7971e4b0",
   "metadata": {},
   "outputs": [],
   "source": []
  },
  {
   "cell_type": "markdown",
   "id": "d93f8250-467c-435f-82c2-1f5712586b2b",
   "metadata": {
    "jp-MarkdownHeadingCollapsed": true
   },
   "source": [
    "# Transfer Model"
   ]
  },
  {
   "cell_type": "markdown",
   "id": "a46ea231-0a55-42ea-9eaf-091ad3f4c2a0",
   "metadata": {},
   "source": [
    "PRETRAIN_MODEL_SAVE_PATH = \"saves/Pretrain.pt\"\n",
    "MODEL_SAVE_PATH = \"Sentiment.pt\"\n",
    "HIDDEN_SIZE = 768\n",
    "NUM_HIDDEN_LAYERS = 12\n",
    "NUM_ATTENTION_HEADS = 12\n",
    "INTERMEDIATE_SIZE = 3072\n",
    "TYPE_VOCAB_SIZE = 2\n",
    "DROPOUT_PROB = 0.1\n",
    "\n",
    "config = CustomBertConfig(\n",
    "    VOCAB_SIZE=VOCAB_SIZE,\n",
    "    HIDDEN_SIZE=HIDDEN_SIZE,\n",
    "    NUM_HIDDEN_LAYERS=NUM_HIDDEN_LAYERS,\n",
    "    NUM_ATTENTION_HEADS=NUM_ATTENTION_HEADS,\n",
    "    INTERMEDIATE_SIZE=INTERMEDIATE_SIZE,\n",
    "    MAX_SEQUENCE_LENGTH=MAX_SEQUENCE_LENGTH,\n",
    "    TYPE_VOCAB_SIZE=TYPE_VOCAB_SIZE,\n",
    "    DROPOUT_PROB=DROPOUT_PROB\n",
    ")\n",
    "\n",
    "model = CustomBertSequenceClassification(config,PRETRAIN_MODEL_SAVE_PATH,7)\n",
    "\n",
    "if os.path.exists(MODEL_SAVE_PATH):\n",
    "    print(\"모델 가중치 로드 중...\")\n",
    "    # 먼저 CPU에 로드한 후 모델에 로드합니다.\n",
    "    loaded_state_dict = torch.load(MODEL_SAVE_PATH, map_location='cpu')\n",
    "    model.load_state_dict(loaded_state_dict)\n",
    "    print(\"모델 가중치 로드 완료.\")\n",
    "else:\n",
    "    print(\"새로운 모델 초기화 완료. 저장된 가중치를 찾을 수 없습니다.\")\n",
    "\n",
    "model.to(device)\n",
    "\n",
    "num_params = sum(p.numel() for p in model.parameters() if p.requires_grad)\n",
    "print(f'Custom Bert 모델 초기화 완료. 총 학습 가능 파라미터 수 : {num_params}')\n",
    "print(f'모델이 담긴 장치 : {device}')"
   ]
  },
  {
   "cell_type": "markdown",
   "id": "1943dc6e-66bf-40fb-9ebd-59b3a1d055a8",
   "metadata": {},
   "source": [
    "EPOCHS = 3\n",
    "LEARNING_RATE = 5e-8\n",
    "WEIGHT_DECAY = 0.1\n",
    "optimizer = AdamW(model.parameters(),lr=LEARNING_RATE,weight_decay=WEIGHT_DECAY)"
   ]
  },
  {
   "cell_type": "markdown",
   "id": "f75f8ff3-f849-4353-b91b-d7f0280e9002",
   "metadata": {},
   "source": [
    "train_losses = []\n",
    "acc = 0\n",
    "prev_acc = 0\n",
    "cnt = 0\n",
    "\n",
    "print(f\"\\n<--- 학습 시작 ---> ({EPOCHS} 에폭)\")\n",
    "\n",
    "for e in range(EPOCHS):\n",
    "    loss_sum = 0\n",
    "    progress_bar = tqdm(train_loader,desc=f\"Train Epoch {e+1}\")\n",
    "    model.train()\n",
    "    for step, batch in enumerate(progress_bar):\n",
    "        batch = {k: v.to(device) for k, v in batch.items()}\n",
    "        \n",
    "        outputs = model.forward(\n",
    "            input_ids=batch[\"input_ids\"],\n",
    "            attention_mask=batch[\"attention_mask\"],\n",
    "            token_type_ids=batch[\"token_type_ids\"],\n",
    "            labels=batch[\"labels\"]\n",
    "        )\n",
    "        loss = outputs[\"loss\"]\n",
    "\n",
    "        loss.backward()\n",
    "        optimizer.step()\n",
    "        optimizer.zero_grad()\n",
    "\n",
    "        loss_sum += loss.item()\n",
    "        progress_bar.set_postfix({'loss':f\"{(loss_sum/(step+1)):.4f}\"})\n",
    "        del outputs, loss\n",
    "        if 'ccuda' in str(device):\n",
    "            torch.cuda.empty_cache()\n",
    "\n",
    "    avg_train_loss = loss_sum / len(train_loader)\n",
    "    train_losses.append(avg_train_loss)\n",
    "\n",
    "    print(f\"Train Epoch {e+1} 완료. 평균 학습 손실 : {avg_train_loss:.4f}\")\n",
    "\n",
    "    model.eval()\n",
    "    correct = 0\n",
    "    total = 0\n",
    "    val_progress = tqdm(val_loader, desc=f\"Validation Epoch {e+1}\")\n",
    "    with torch.no_grad():\n",
    "        for step, batch in enumerate(val_progress):\n",
    "            batch = {k: v.to(device) for k, v in batch.items()}\n",
    "            \n",
    "            y = model.forward(input_ids=batch[\"input_ids\"],\n",
    "                attention_mask=batch[\"attention_mask\"],\n",
    "                token_type_ids=batch[\"token_type_ids\"]\n",
    "            )\n",
    "            y_logits = y[\"logits\"]\n",
    "            t = batch[\"labels\"]\n",
    "            correct += (y_logits.argmax(dim=-1) == t).sum().item()\n",
    "            total += len(batch[\"input_ids\"])\n",
    "            val_progress.set_postfix({\"acc\" : f\"{((correct/total)*100):.2f}%\"})\n",
    "            \n",
    "    acc = correct / total\n",
    "    \n",
    "    print(f\"Validation Epoch {e+1} 완료. 검증 정확도 : {(acc*100):.2f}%\")\n",
    "    \n",
    "    if acc <= prev_acc:\n",
    "        cnt += 1\n",
    "    else :\n",
    "        torch.save(model.state_dict(), MODEL_SAVE_PATH)\n",
    "        cnt = 0\n",
    "        prev_acc = acc\n",
    "\n",
    "    if cnt >= 5:\n",
    "        print(\"train halted\")\n",
    "        break\n",
    "       \n",
    "print(\"\\n<--- 학습 완료 --->\")"
   ]
  },
  {
   "cell_type": "code",
   "execution_count": null,
   "id": "284cadfc-c327-42f7-ad3c-86197a281f04",
   "metadata": {},
   "outputs": [],
   "source": []
  }
 ],
 "metadata": {
  "kernelspec": {
   "display_name": "Python 3 (ipykernel)",
   "language": "python",
   "name": "python3"
  },
  "language_info": {
   "codemirror_mode": {
    "name": "ipython",
    "version": 3
   },
   "file_extension": ".py",
   "mimetype": "text/x-python",
   "name": "python",
   "nbconvert_exporter": "python",
   "pygments_lexer": "ipython3",
   "version": "3.12.9"
  }
 },
 "nbformat": 4,
 "nbformat_minor": 5
}
