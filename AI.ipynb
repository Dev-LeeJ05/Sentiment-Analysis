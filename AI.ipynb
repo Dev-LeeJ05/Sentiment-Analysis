{
 "cells": [
  {
   "cell_type": "code",
   "execution_count": 1,
   "id": "5c84beab-fdd3-4b92-b4ff-53216eb51626",
   "metadata": {},
   "outputs": [],
   "source": [
    "import warnings\n",
    "warnings.filterwarnings(\"ignore\", message=\"The PyTorch API of nested tensors is in prototype stage and will change in the near future.\")\n",
    "# warnings.filterwarnings(\"ignore\", message=\"The epoch parameter in `scheduler.step()` was not necessary and is being deprecated where possible.\")\n",
    "import torch\n",
    "import torch.nn as nn\n",
    "from torch.utils.data import TensorDataset, DataLoader\n",
    "from CustomDataCollatorForSequenceClassification import CustomDataCollatorForSequenceClassification\n",
    "from torch.optim import AdamW\n",
    "from datasets import Dataset\n",
    "import random\n",
    "import pandas as pd\n",
    "import numpy as np\n",
    "from WordPieceTokenizer import WordPieceTokenizer as Tokenizer\n",
    "from sklearn.model_selection import train_test_split\n",
    "from tqdm.auto import tqdm\n",
    "from CustomBertSequenceClassification import CustomBertSequenceClassification\n",
    "from CustomBert import CustomBertConfig\n",
    "import CustomBert\n",
    "from collections import Counter\n",
    "import os\n",
    "from Model import LSTM\n",
    "from Model import Transformer, PositionalEncoding\n",
    "from sklearn.metrics import f1_score\n",
    "from torch.optim.lr_scheduler import _LRScheduler,ReduceLROnPlateau\n",
    "from torch.utils.tensorboard import SummaryWriter\n",
    "from TrainDataset import prepare_classification_dataset, tensor_dataset\n",
    "os.environ[\"CUDA_LAUNCH_BLOCKING\"] = \"1\"\n",
    "\n",
    "dataFilePath = 'datasets/'\n",
    "saveFilePath = 'saves/'\n",
    "vocab_file_path = f'{saveFilePath}vocab.txt'\n",
    "device = 'cuda' if torch.cuda.is_available() else 'cpu'\n",
    "tokenizer = Tokenizer(vocab_file_path,do_lower_case=False,strip_accents=False,clean_text=True)\n",
    "VOCAB_SIZE = tokenizer.get_vocab_size()\n",
    "MAX_SEQUENCE_LENGTH = 128\n",
    "BATCH_SIZE = 32"
   ]
  },
  {
   "cell_type": "code",
   "execution_count": 2,
   "id": "1c5827d4-8e1d-4be5-8dce-3025bcc53885",
   "metadata": {},
   "outputs": [],
   "source": [
    "def set_seed(seed):\n",
    "    torch.manual_seed(seed)\n",
    "    torch.cuda.manual_seed(seed)\n",
    "    torch.cuda.manual_seed_all(seed)\n",
    "    np.random.seed(seed)\n",
    "    random.seed(seed)\n",
    "    torch.backends.cudnn.benchmark = False\n",
    "    torch.backends.cudnn.deterministic = True\n",
    "\n",
    "# SEED = 32\n",
    "# set_seed(SEED)"
   ]
  },
  {
   "cell_type": "code",
   "execution_count": 3,
   "id": "da38b69e-5ccd-4751-a66e-934077285c6d",
   "metadata": {},
   "outputs": [
    {
     "name": "stdout",
     "output_type": "stream",
     "text": [
      "원본 df 크기: 138664\n",
      "원본 df 감정 분포 (매핑 후): Counter({4: 48501, 3: 24748, 2: 18171, 0: 14651, 5: 13727, 1: 13224, 6: 5642})\n",
      "학습 데이터프레임 크기: 110931\n",
      "검증 데이터프레임 크기: 27733\n",
      "학습 데이터프레임 감정 분포: Counter({4: 38801, 3: 19798, 2: 14537, 0: 11721, 5: 10981, 1: 10579, 6: 4514})\n",
      "검증 데이터프레임 감정 분포: Counter({4: 9700, 3: 4950, 2: 3634, 0: 2930, 5: 2746, 1: 2645, 6: 1128})\n",
      "학습 데이터 파싱 중...\n"
     ]
    },
    {
     "data": {
      "application/vnd.jupyter.widget-view+json": {
       "model_id": "375f27e0dd0e4891b3bafe0e739191cb",
       "version_major": 2,
       "version_minor": 0
      },
      "text/plain": [
       "데이터 파싱 중:   0%|          | 0/110931 [00:00<?, ?it/s]"
      ]
     },
     "metadata": {},
     "output_type": "display_data"
    },
    {
     "name": "stdout",
     "output_type": "stream",
     "text": [
      "검증 데이터 파싱 중...\n"
     ]
    },
    {
     "data": {
      "application/vnd.jupyter.widget-view+json": {
       "model_id": "254ff76345984a91a923d529a8c6df91",
       "version_major": 2,
       "version_minor": 0
      },
      "text/plain": [
       "데이터 파싱 중:   0%|          | 0/27733 [00:00<?, ?it/s]"
      ]
     },
     "metadata": {},
     "output_type": "display_data"
    },
    {
     "name": "stdout",
     "output_type": "stream",
     "text": [
      "학습 데이터셋 크기: 110931\n",
      "검증 데이터셋 크기: 27733\n",
      "학습 DataLoader 배치 수: 3467\n",
      "검증 DataLoader 배치 수: 867\n"
     ]
    }
   ],
   "source": [
    "df = pd.read_csv(f'datasets/sentiment_train.csv', index_col=0)\n",
    "\n",
    "# '감정' 레이블을 숫자로 매핑\n",
    "df.loc[(df['감정'] == '불안'), '감정'] = 0\n",
    "df.loc[(df['감정'] == '당황'), '감정'] = 1\n",
    "df.loc[(df['감정'] == '분노'), '감정'] = 2\n",
    "df.loc[(df['감정'] == '슬픔'), '감정'] = 3\n",
    "df.loc[(df['감정'] == '중립'), '감정'] = 4\n",
    "df.loc[(df['감정'] == '행복'), '감정'] = 5\n",
    "df.loc[(df['감정'] == '혐오'), '감정'] = 6\n",
    "\n",
    "print(f\"원본 df 크기: {len(df)}\")\n",
    "print(f\"원본 df 감정 분포 (매핑 후): {Counter(df['감정'])}\")\n",
    "\n",
    "train_df, val_df = train_test_split(df, train_size=0.8, test_size=0.2, stratify=df['감정'], random_state=42) # 재현성을 위해 random_state 추가\n",
    "\n",
    "print(f\"학습 데이터프레임 크기: {len(train_df)}\")\n",
    "print(f\"검증 데이터프레임 크기: {len(val_df)}\")\n",
    "print(f\"학습 데이터프레임 감정 분포: {Counter(train_df['감정'])}\")\n",
    "print(f\"검증 데이터프레임 감정 분포: {Counter(val_df['감정'])}\")\n",
    "\n",
    "\n",
    "print(\"학습 데이터 파싱 중...\")\n",
    "train_datasets_dict = prepare_classification_dataset(train_df)\n",
    "print(\"검증 데이터 파싱 중...\")\n",
    "val_datasets_dict = prepare_classification_dataset(val_df)\n",
    "\n",
    "train_datasets = tensor_dataset(train_datasets_dict)\n",
    "val_datasets = tensor_dataset(val_datasets_dict)\n",
    "\n",
    "print(f\"학습 데이터셋 크기: {len(train_datasets)}\")\n",
    "print(f\"검증 데이터셋 크기: {len(val_datasets)}\")\n",
    "\n",
    "train_loader = DataLoader(\n",
    "    train_datasets,\n",
    "    batch_size=BATCH_SIZE,\n",
    "    shuffle=True,\n",
    "    num_workers=0\n",
    ")\n",
    "print(f\"학습 DataLoader 배치 수: {len(train_loader)}\")\n",
    "\n",
    "val_loader = DataLoader(\n",
    "    val_datasets,\n",
    "    batch_size=BATCH_SIZE,\n",
    "    shuffle=False,\n",
    "    num_workers=0\n",
    ")\n",
    "print(f\"검증 DataLoader 배치 수: {len(val_loader)}\")"
   ]
  },
  {
   "cell_type": "markdown",
   "id": "39f1f979-cd2b-403d-adfa-28d9d39a6b92",
   "metadata": {
    "jp-MarkdownHeadingCollapsed": true
   },
   "source": [
    "## LSTM"
   ]
  },
  {
   "cell_type": "code",
   "execution_count": 4,
   "id": "404c17eb-9dbf-4369-81f5-218c8a2be20f",
   "metadata": {},
   "outputs": [],
   "source": [
    "# def process_dataframe(data_frame, device,batch_size,shuffle=False):\n",
    "#     tensor_x_list = []\n",
    "#     attentions = []\n",
    "#     token_type_ids_ = []\n",
    "#     for i in tqdm(range(len(data_frame))):\n",
    "#         token = data_frame.iloc[i,0]\n",
    "#         token = token.split(\" \")\n",
    "#         token_list = []\n",
    "#         for t in token:\n",
    "#             token_list.append(int(t))\n",
    "#         tensor_x_list.append(token_list)\n",
    "        \n",
    "#         attention = data_frame.iloc[i,3]\n",
    "#         attention = attention.split(\" \")\n",
    "#         attention_list = []\n",
    "#         for a in attention:\n",
    "#             attention_list.append(int(a))\n",
    "#         attentions.append(attention_list)\n",
    "\n",
    "#         token_type_ids = data_frame.iloc[i,4]\n",
    "#         token_type_ids = token_type_ids.split(\" \")\n",
    "#         token_type_ids_list = []\n",
    "#         for t in token_type_ids:\n",
    "#             token_type_ids_list.append(int(t))\n",
    "#         token_type_ids_.append(attention_list)\n",
    "        \n",
    "#     tensor_x = torch.tensor(tensor_x_list, dtype=torch.long, device=device)\n",
    "#     tensor_attention = torch.tensor(attentions, dtype=torch.long, device=device)\n",
    "#     tensor_token_type_ids = torch.tensor(token_type_ids_, dtype=torch.long, device=device)\n",
    "#     tensor_t = torch.tensor(data_frame[\"감정\"].values.tolist(), dtype=torch.long, device=device)\n",
    "\n",
    "#     dataset = TensorDataset(tensor_x,tensor_attention,tensor_t,tensor_token_type_ids)\n",
    "#     loader = DataLoader(dataset,batch_size=batch_size,shuffle=shuffle,drop_last=True)\n",
    "#     return loader\n",
    "    \n",
    "#     dataset = {\"input_ids\" : tensor_x, \"attention_mask\":tensor_attention,\"token_type_ids\":tensor_token_type_ids,\"labels\":tensor_t}\n",
    "    \n",
    "    \n",
    "\n",
    "#     data_collator = DataCollatorWithPadding(tokenizer=tokenizer)"
   ]
  },
  {
   "cell_type": "code",
   "execution_count": 5,
   "id": "3d065c33-266a-43af-924c-c76f35f47549",
   "metadata": {},
   "outputs": [],
   "source": [
    "def LSTM_Train(epoch,device,train_loader,val_loader,NN,loss_function,optimizer):\n",
    "    acc = 0\n",
    "    prev_acc = 0\n",
    "    cnt = 0\n",
    "    for e in range(epoch):\n",
    "        NN.to(device)\n",
    "        loss_sum = 0\n",
    "        NN.train()\n",
    "        for x, attention,t in train_loader:\n",
    "            y = NN(x,attention)\n",
    "            loss = loss_function(y,t)\n",
    "            loss_sum += loss.item()\n",
    "    \n",
    "            optimizer.zero_grad()\n",
    "            loss.backward()\n",
    "            optimizer.step()\n",
    "        loss_sum /= len(train_loader)\n",
    "    \n",
    "        NN.eval()\n",
    "        correct = 0\n",
    "        total = 0\n",
    "        with torch.no_grad():\n",
    "            for x, attention, t in val_loader:\n",
    "                x = x.to(device)\n",
    "                attention = attention.to(device)\n",
    "                t = t.to(device)\n",
    "    \n",
    "                y = NN(x, attention)\n",
    "                correct += (y.argmax(dim=-1) == t).sum().item()\n",
    "                total += len(x)\n",
    "        acc = correct / total\n",
    "    \n",
    "        if acc <= prev_acc:\n",
    "            cnt += 1\n",
    "        else :\n",
    "            torch.save(NN.state_dict(), \"Sentiment.pt\")\n",
    "            cnt = 0\n",
    "            prev_acc = acc\n",
    "        \n",
    "        print(f\"epoch  {e+1}\\t\\tloss {loss_sum:.12f}\\tacc {acc:.4f}\\tcnt {cnt}\")\n",
    "        \n",
    "        if cnt >= 5:\n",
    "            print(\"train halted\")\n",
    "            break\n",
    "            \n",
    "    print(\"---------- 학습 종료 ----------\")"
   ]
  },
  {
   "cell_type": "code",
   "execution_count": 6,
   "id": "7a68f657-9e9f-47d8-b477-2cb4ec4601f3",
   "metadata": {},
   "outputs": [],
   "source": [
    "# NN = LSTM(vocab_size=vocab_size,embedding_dim=embedding_dim,hidden_dim=64,output_dim=7,n_layers=4,bidirectional=True,dropout_p=0.1)\n",
    "# NN.to(device)\n",
    "# loss_function = nn.CrossEntropyLoss()\n",
    "# optimizer = torch.optim.Adam(NN.parameters(),lr=0.001)\n",
    "# epoch = 500\n",
    "# LSTM_Train(epoch,device,train_loader,val_loader,NN,loss_function,optimizer)"
   ]
  },
  {
   "cell_type": "markdown",
   "id": "8ef3a0ef-22f3-4ed6-8b5d-4676131d5f34",
   "metadata": {},
   "source": [
    "## Transformer"
   ]
  },
  {
   "cell_type": "code",
   "execution_count": 7,
   "id": "b599944c-bab7-4d2e-986e-bf50e02b409a",
   "metadata": {},
   "outputs": [],
   "source": [
    "class GradualWarmupScheduler(_LRScheduler):\n",
    "    def __init__(self, optimizer, multiplier, total_epoch, after_scheduler=None):\n",
    "        self.multiplier = multiplier\n",
    "        self.total_epoch = total_epoch\n",
    "        self.after_scheduler = after_scheduler\n",
    "        self.finished = False\n",
    "        super().__init__(optimizer)\n",
    "\n",
    "    def get_lr(self):\n",
    "        if self.last_epoch > self.total_epoch:\n",
    "            if self.after_scheduler:\n",
    "                if not self.finished:\n",
    "                    self.after_scheduler.base_lrs = self.base_lrs\n",
    "                    self.finished = True\n",
    "                return self.after_scheduler.get_last_lr()\n",
    "            return [base_lr * self.multiplier for base_lr in self.base_lrs]\n",
    "\n",
    "        return [base_lr * ((self.multiplier - 1.) * self.last_epoch / self.total_epoch + 1.) for base_lr in self.base_lrs]\n",
    "\n",
    "    def step(self, metrics=None):\n",
    "        if self.finished and self.after_scheduler:\n",
    "            if isinstance(self.after_scheduler, ReduceLROnPlateau) and metrics is not None:\n",
    "                return self.after_scheduler.step(metrics)\n",
    "            else:\n",
    "                return self.after_scheduler.step() # metrics가 없으면 파라미터 없이 호출 (일반 스케줄러)\n",
    "        else:\n",
    "            return super(GradualWarmupScheduler, self).step() # Warmup 기간에는 파라미터 없이 호출\n",
    "\n",
    "def Transformer_Train(epoch, device, train_loader, val_loader, NN, loss_function, optimizer, scheduler,\n",
    "                      warmup_epochs=5, log_dir=\"runs/sentiment_experiment\", \n",
    "                      save_path=\"saves/models/Sentiment.pt\", multiplier=1.0, patience=5):\n",
    "    \n",
    "    writer = SummaryWriter(log_dir)\n",
    "\n",
    "    combined_scheduler = GradualWarmupScheduler(optimizer, multiplier=multiplier, total_epoch=warmup_epochs, after_scheduler=scheduler)\n",
    "    \n",
    "    best_f1_weighted = 0.0\n",
    "    epochs_no_improve = 0\n",
    "    \n",
    "    for e in range(epoch):\n",
    "        NN.to(device)\n",
    "        \n",
    "        train_loss_sum = 0\n",
    "        NN.train()\n",
    "        for x, attention, t in tqdm(train_loader, desc=f\"Epoch {e+1} Training\"):\n",
    "            x = x.to(device)\n",
    "            attention = attention.to(device)\n",
    "            t = t.to(device)\n",
    "\n",
    "            y = NN(x, attention)\n",
    "            loss = loss_function(y, t)\n",
    "            train_loss_sum += loss.item()\n",
    "            \n",
    "            optimizer.zero_grad()\n",
    "            loss.backward()\n",
    "            nn.utils.clip_grad_norm_(NN.parameters(), 1.0)\n",
    "            optimizer.step()\n",
    "        train_loss_sum /= len(train_loader)\n",
    "        \n",
    "        NN.eval()\n",
    "        val_correct = 0\n",
    "        val_total = 0\n",
    "        val_all_preds = []\n",
    "        val_all_targets = []\n",
    "        with torch.no_grad():\n",
    "            for x, attention, t in tqdm(val_loader, desc=f\"Epoch {e+1} Validation\", leave=False):\n",
    "                x = x.to(device)\n",
    "                attention = attention.to(device)\n",
    "                t = t.to(device)\n",
    "                \n",
    "                y = NN(x, attention)\n",
    "                \n",
    "                preds = y.argmax(dim=-1)\n",
    "                val_correct += (preds == t).sum().item()\n",
    "                val_total += len(x)\n",
    "\n",
    "                val_all_preds.extend(preds.cpu().numpy())\n",
    "                val_all_targets.extend(t.cpu().numpy())\n",
    "        \n",
    "        val_acc = val_correct / val_total\n",
    "        \n",
    "        if len(np.unique(val_all_targets)) > 1:\n",
    "            val_f1_weighted = f1_score(val_all_targets, val_all_preds, average='weighted', zero_division=0)\n",
    "            val_f1_macro = f1_score(val_all_targets, val_all_preds, average='macro', zero_division=0)\n",
    "        else:\n",
    "            val_f1_weighted = 1.0 if (len(val_all_targets) > 0 and np.all(np.array(val_all_preds) == np.array(val_all_targets))) else 0.0\n",
    "            val_f1_macro = val_f1_weighted\n",
    "\n",
    "        if val_f1_weighted > best_f1_weighted:\n",
    "            best_f1_weighted = val_f1_weighted\n",
    "            torch.save(NN.state_dict(), save_path)\n",
    "            print(f\"모델 저장 완료 (Best Weighted F1: {best_f1_weighted:.4f}).\")\n",
    "            epochs_no_improve = 0\n",
    "        else:\n",
    "            epochs_no_improve += 1\n",
    "\n",
    "        # 스케줄러 스텝: val_f1_weighted 값을 'metrics' 파라미터로 전달\n",
    "        combined_scheduler.step(val_f1_weighted)\n",
    "        \n",
    "        # TensorBoard에 로깅\n",
    "        writer.add_scalar('Loss/train', train_loss_sum, e)\n",
    "        writer.add_scalar('Metrics/val_accuracy', val_acc, e)\n",
    "        writer.add_scalar('Metrics/val_f1_weighted', val_f1_weighted, e)\n",
    "        writer.add_scalar('Metrics/val_f1_macro', val_f1_macro, e)\n",
    "        writer.add_scalar('LearningRate', optimizer.param_groups[0]['lr'], e)\n",
    "        \n",
    "        print(f\"Epoch {e+1}\\tTrain Loss: {train_loss_sum:.6f}\\tVal Acc: {val_acc:.4f}\\t\\tVal F1 (Weighted): {val_f1_weighted:.4f}\\tVal F1 (Macro): {val_f1_macro:.4f}\\tNo Improve Epochs: {epochs_no_improve}\")\n",
    "        \n",
    "        if epochs_no_improve >= patience:\n",
    "            print(\"조기 종료: 검증 F1 점수 개선 없음.\")\n",
    "            break\n",
    "            \n",
    "    writer.close()\n",
    "    print(\"---------- 학습 종료 ----------\")"
   ]
  },
  {
   "cell_type": "code",
   "execution_count": 8,
   "id": "1875b120-9a16-4755-ac20-2d2ffa247ef0",
   "metadata": {},
   "outputs": [
    {
     "name": "stdout",
     "output_type": "stream",
     "text": [
      "학습 데이터 클래스별 샘플 수: [11721.0, 10579.0, 14537.0, 19798.0, 38801.0, 10981.0, 4514.0]\n",
      "학습 데이터 클래스 분포: Counter({np.int64(4): 38801, np.int64(3): 19798, np.int64(2): 14537, np.int64(0): 11721, np.int64(5): 10981, np.int64(1): 10579, np.int64(6): 4514})\n",
      "계산된 클래스 가중치: [9.46429443359375, 10.485962867736816, 7.630941867828369, 5.603141784667969, 2.8589727878570557, 10.10208511352539, 24.574878692626953]\n",
      "첫 배치 레이블 분포: Counter({np.int64(4): 8, np.int64(3): 8, np.int64(5): 6, np.int64(1): 4, np.int64(0): 2, np.int64(6): 2, np.int64(2): 2})\n"
     ]
    },
    {
     "data": {
      "application/vnd.jupyter.widget-view+json": {
       "model_id": "81d33e17aa9b434b98f5f5096608496d",
       "version_major": 2,
       "version_minor": 0
      },
      "text/plain": [
       "Epoch 1 Training:   0%|          | 0/3467 [00:00<?, ?it/s]"
      ]
     },
     "metadata": {},
     "output_type": "display_data"
    },
    {
     "data": {
      "application/vnd.jupyter.widget-view+json": {
       "model_id": "4bda7569afa94534a411de408e8fbd61",
       "version_major": 2,
       "version_minor": 0
      },
      "text/plain": [
       "Epoch 1 Validation:   0%|          | 0/867 [00:00<?, ?it/s]"
      ]
     },
     "metadata": {},
     "output_type": "display_data"
    },
    {
     "name": "stdout",
     "output_type": "stream",
     "text": [
      "모델 저장 완료 (Best Weighted F1: 0.6511).\n",
      "Epoch 1\tTrain Loss: 1.059796\tVal Acc: 0.6437\t\tVal F1 (Weighted): 0.6511\tVal F1 (Macro): 0.5963\tNo Improve Epochs: 0\n"
     ]
    },
    {
     "data": {
      "application/vnd.jupyter.widget-view+json": {
       "model_id": "73b57f49ea474bd29089a97caaa983c8",
       "version_major": 2,
       "version_minor": 0
      },
      "text/plain": [
       "Epoch 2 Training:   0%|          | 0/3467 [00:00<?, ?it/s]"
      ]
     },
     "metadata": {},
     "output_type": "display_data"
    },
    {
     "data": {
      "application/vnd.jupyter.widget-view+json": {
       "model_id": "a985f39d354a4787847e6f2f09b43298",
       "version_major": 2,
       "version_minor": 0
      },
      "text/plain": [
       "Epoch 2 Validation:   0%|          | 0/867 [00:00<?, ?it/s]"
      ]
     },
     "metadata": {},
     "output_type": "display_data"
    },
    {
     "name": "stdout",
     "output_type": "stream",
     "text": [
      "모델 저장 완료 (Best Weighted F1: 0.6521).\n",
      "Epoch 2\tTrain Loss: 1.053838\tVal Acc: 0.6459\t\tVal F1 (Weighted): 0.6521\tVal F1 (Macro): 0.6001\tNo Improve Epochs: 0\n"
     ]
    },
    {
     "data": {
      "application/vnd.jupyter.widget-view+json": {
       "model_id": "76443dd747f14446849f48313bebc09f",
       "version_major": 2,
       "version_minor": 0
      },
      "text/plain": [
       "Epoch 3 Training:   0%|          | 0/3467 [00:00<?, ?it/s]"
      ]
     },
     "metadata": {},
     "output_type": "display_data"
    },
    {
     "data": {
      "application/vnd.jupyter.widget-view+json": {
       "model_id": "0f0e54493bd949fdbc62d3bb9d784193",
       "version_major": 2,
       "version_minor": 0
      },
      "text/plain": [
       "Epoch 3 Validation:   0%|          | 0/867 [00:00<?, ?it/s]"
      ]
     },
     "metadata": {},
     "output_type": "display_data"
    },
    {
     "name": "stdout",
     "output_type": "stream",
     "text": [
      "모델 저장 완료 (Best Weighted F1: 0.6528).\n",
      "Epoch 3\tTrain Loss: 1.053319\tVal Acc: 0.6455\t\tVal F1 (Weighted): 0.6528\tVal F1 (Macro): 0.5991\tNo Improve Epochs: 0\n"
     ]
    },
    {
     "data": {
      "application/vnd.jupyter.widget-view+json": {
       "model_id": "d45b06d34e684e07aaa0b55650b20830",
       "version_major": 2,
       "version_minor": 0
      },
      "text/plain": [
       "Epoch 4 Training:   0%|          | 0/3467 [00:00<?, ?it/s]"
      ]
     },
     "metadata": {},
     "output_type": "display_data"
    },
    {
     "data": {
      "application/vnd.jupyter.widget-view+json": {
       "model_id": "b3888004855a4d6db234c636aba142af",
       "version_major": 2,
       "version_minor": 0
      },
      "text/plain": [
       "Epoch 4 Validation:   0%|          | 0/867 [00:00<?, ?it/s]"
      ]
     },
     "metadata": {},
     "output_type": "display_data"
    },
    {
     "name": "stdout",
     "output_type": "stream",
     "text": [
      "모델 저장 완료 (Best Weighted F1: 0.6532).\n",
      "Epoch 4\tTrain Loss: 1.050151\tVal Acc: 0.6435\t\tVal F1 (Weighted): 0.6532\tVal F1 (Macro): 0.5992\tNo Improve Epochs: 0\n"
     ]
    },
    {
     "data": {
      "application/vnd.jupyter.widget-view+json": {
       "model_id": "cc8318db873b43e6a99e90c1840bf059",
       "version_major": 2,
       "version_minor": 0
      },
      "text/plain": [
       "Epoch 5 Training:   0%|          | 0/3467 [00:00<?, ?it/s]"
      ]
     },
     "metadata": {},
     "output_type": "display_data"
    },
    {
     "data": {
      "application/vnd.jupyter.widget-view+json": {
       "model_id": "60b810f48ba146079e604aed435ce6b5",
       "version_major": 2,
       "version_minor": 0
      },
      "text/plain": [
       "Epoch 5 Validation:   0%|          | 0/867 [00:00<?, ?it/s]"
      ]
     },
     "metadata": {},
     "output_type": "display_data"
    },
    {
     "name": "stdout",
     "output_type": "stream",
     "text": [
      "Epoch 5\tTrain Loss: 1.050916\tVal Acc: 0.6409\t\tVal F1 (Weighted): 0.6496\tVal F1 (Macro): 0.5972\tNo Improve Epochs: 1\n"
     ]
    },
    {
     "data": {
      "application/vnd.jupyter.widget-view+json": {
       "model_id": "e72fb9541c264f91bbfe539c297b3098",
       "version_major": 2,
       "version_minor": 0
      },
      "text/plain": [
       "Epoch 6 Training:   0%|          | 0/3467 [00:00<?, ?it/s]"
      ]
     },
     "metadata": {},
     "output_type": "display_data"
    },
    {
     "data": {
      "application/vnd.jupyter.widget-view+json": {
       "model_id": "9cdb580854a54d2f8b091b35a41b1d38",
       "version_major": 2,
       "version_minor": 0
      },
      "text/plain": [
       "Epoch 6 Validation:   0%|          | 0/867 [00:00<?, ?it/s]"
      ]
     },
     "metadata": {},
     "output_type": "display_data"
    },
    {
     "name": "stdout",
     "output_type": "stream",
     "text": [
      "Epoch 6\tTrain Loss: 1.048516\tVal Acc: 0.6422\t\tVal F1 (Weighted): 0.6489\tVal F1 (Macro): 0.5960\tNo Improve Epochs: 2\n"
     ]
    },
    {
     "data": {
      "application/vnd.jupyter.widget-view+json": {
       "model_id": "2b1795185be7458f84295f3b94048bbd",
       "version_major": 2,
       "version_minor": 0
      },
      "text/plain": [
       "Epoch 7 Training:   0%|          | 0/3467 [00:00<?, ?it/s]"
      ]
     },
     "metadata": {},
     "output_type": "display_data"
    },
    {
     "data": {
      "application/vnd.jupyter.widget-view+json": {
       "model_id": "3a6aea828699481cbba13da91b93cee7",
       "version_major": 2,
       "version_minor": 0
      },
      "text/plain": [
       "Epoch 7 Validation:   0%|          | 0/867 [00:00<?, ?it/s]"
      ]
     },
     "metadata": {},
     "output_type": "display_data"
    },
    {
     "name": "stdout",
     "output_type": "stream",
     "text": [
      "Epoch 7\tTrain Loss: 1.044536\tVal Acc: 0.6437\t\tVal F1 (Weighted): 0.6512\tVal F1 (Macro): 0.5987\tNo Improve Epochs: 3\n"
     ]
    },
    {
     "data": {
      "application/vnd.jupyter.widget-view+json": {
       "model_id": "f662a1502c1749589dd624e7ca72017a",
       "version_major": 2,
       "version_minor": 0
      },
      "text/plain": [
       "Epoch 8 Training:   0%|          | 0/3467 [00:00<?, ?it/s]"
      ]
     },
     "metadata": {},
     "output_type": "display_data"
    },
    {
     "data": {
      "application/vnd.jupyter.widget-view+json": {
       "model_id": "973b747aa2bc419290173abfb8765f61",
       "version_major": 2,
       "version_minor": 0
      },
      "text/plain": [
       "Epoch 8 Validation:   0%|          | 0/867 [00:00<?, ?it/s]"
      ]
     },
     "metadata": {},
     "output_type": "display_data"
    },
    {
     "name": "stdout",
     "output_type": "stream",
     "text": [
      "모델 저장 완료 (Best Weighted F1: 0.6552).\n",
      "Epoch 8\tTrain Loss: 1.047208\tVal Acc: 0.6479\t\tVal F1 (Weighted): 0.6552\tVal F1 (Macro): 0.6016\tNo Improve Epochs: 0\n"
     ]
    },
    {
     "data": {
      "application/vnd.jupyter.widget-view+json": {
       "model_id": "a71816544ebc4ef381119dcbffaafec3",
       "version_major": 2,
       "version_minor": 0
      },
      "text/plain": [
       "Epoch 9 Training:   0%|          | 0/3467 [00:00<?, ?it/s]"
      ]
     },
     "metadata": {},
     "output_type": "display_data"
    },
    {
     "data": {
      "application/vnd.jupyter.widget-view+json": {
       "model_id": "73217b73837748b49cd63ef98c1849e0",
       "version_major": 2,
       "version_minor": 0
      },
      "text/plain": [
       "Epoch 9 Validation:   0%|          | 0/867 [00:00<?, ?it/s]"
      ]
     },
     "metadata": {},
     "output_type": "display_data"
    },
    {
     "name": "stdout",
     "output_type": "stream",
     "text": [
      "Epoch 9\tTrain Loss: 1.039500\tVal Acc: 0.6393\t\tVal F1 (Weighted): 0.6476\tVal F1 (Macro): 0.5967\tNo Improve Epochs: 1\n"
     ]
    },
    {
     "data": {
      "application/vnd.jupyter.widget-view+json": {
       "model_id": "99d466b9a36e4b83911bf53e060923ab",
       "version_major": 2,
       "version_minor": 0
      },
      "text/plain": [
       "Epoch 10 Training:   0%|          | 0/3467 [00:00<?, ?it/s]"
      ]
     },
     "metadata": {},
     "output_type": "display_data"
    },
    {
     "data": {
      "application/vnd.jupyter.widget-view+json": {
       "model_id": "3902c38ee9c9456fa6fceaf5819bf499",
       "version_major": 2,
       "version_minor": 0
      },
      "text/plain": [
       "Epoch 10 Validation:   0%|          | 0/867 [00:00<?, ?it/s]"
      ]
     },
     "metadata": {},
     "output_type": "display_data"
    },
    {
     "name": "stdout",
     "output_type": "stream",
     "text": [
      "Epoch 10\tTrain Loss: 1.039717\tVal Acc: 0.6400\t\tVal F1 (Weighted): 0.6502\tVal F1 (Macro): 0.5957\tNo Improve Epochs: 2\n"
     ]
    },
    {
     "data": {
      "application/vnd.jupyter.widget-view+json": {
       "model_id": "653db20c903449ef9452ea4e605ea80a",
       "version_major": 2,
       "version_minor": 0
      },
      "text/plain": [
       "Epoch 11 Training:   0%|          | 0/3467 [00:00<?, ?it/s]"
      ]
     },
     "metadata": {},
     "output_type": "display_data"
    },
    {
     "data": {
      "application/vnd.jupyter.widget-view+json": {
       "model_id": "ca0ca1ac46034e048943a09c7c86fc58",
       "version_major": 2,
       "version_minor": 0
      },
      "text/plain": [
       "Epoch 11 Validation:   0%|          | 0/867 [00:00<?, ?it/s]"
      ]
     },
     "metadata": {},
     "output_type": "display_data"
    },
    {
     "name": "stdout",
     "output_type": "stream",
     "text": [
      "Epoch 11\tTrain Loss: 1.038846\tVal Acc: 0.6452\t\tVal F1 (Weighted): 0.6539\tVal F1 (Macro): 0.5987\tNo Improve Epochs: 3\n"
     ]
    },
    {
     "data": {
      "application/vnd.jupyter.widget-view+json": {
       "model_id": "e84a947ff74f4555bb7630540913f518",
       "version_major": 2,
       "version_minor": 0
      },
      "text/plain": [
       "Epoch 12 Training:   0%|          | 0/3467 [00:00<?, ?it/s]"
      ]
     },
     "metadata": {},
     "output_type": "display_data"
    },
    {
     "data": {
      "application/vnd.jupyter.widget-view+json": {
       "model_id": "77cb44a1c82e4532925eff1f162413e7",
       "version_major": 2,
       "version_minor": 0
      },
      "text/plain": [
       "Epoch 12 Validation:   0%|          | 0/867 [00:00<?, ?it/s]"
      ]
     },
     "metadata": {},
     "output_type": "display_data"
    },
    {
     "name": "stdout",
     "output_type": "stream",
     "text": [
      "Epoch 12\tTrain Loss: 1.036234\tVal Acc: 0.6396\t\tVal F1 (Weighted): 0.6444\tVal F1 (Macro): 0.5932\tNo Improve Epochs: 4\n"
     ]
    },
    {
     "data": {
      "application/vnd.jupyter.widget-view+json": {
       "model_id": "3614d4eeb41d4df89c58d27ead61b0be",
       "version_major": 2,
       "version_minor": 0
      },
      "text/plain": [
       "Epoch 13 Training:   0%|          | 0/3467 [00:00<?, ?it/s]"
      ]
     },
     "metadata": {},
     "output_type": "display_data"
    },
    {
     "data": {
      "application/vnd.jupyter.widget-view+json": {
       "model_id": "ab727380719c4b5cbae16978fe2a8a37",
       "version_major": 2,
       "version_minor": 0
      },
      "text/plain": [
       "Epoch 13 Validation:   0%|          | 0/867 [00:00<?, ?it/s]"
      ]
     },
     "metadata": {},
     "output_type": "display_data"
    },
    {
     "name": "stdout",
     "output_type": "stream",
     "text": [
      "Epoch 13\tTrain Loss: 1.037147\tVal Acc: 0.6372\t\tVal F1 (Weighted): 0.6460\tVal F1 (Macro): 0.5928\tNo Improve Epochs: 5\n"
     ]
    },
    {
     "data": {
      "application/vnd.jupyter.widget-view+json": {
       "model_id": "460c753c86344888a94e112b0033ada5",
       "version_major": 2,
       "version_minor": 0
      },
      "text/plain": [
       "Epoch 14 Training:   0%|          | 0/3467 [00:00<?, ?it/s]"
      ]
     },
     "metadata": {},
     "output_type": "display_data"
    },
    {
     "data": {
      "application/vnd.jupyter.widget-view+json": {
       "model_id": "a3c8fe5ac6834d6dae9fb874ac6bc7b7",
       "version_major": 2,
       "version_minor": 0
      },
      "text/plain": [
       "Epoch 14 Validation:   0%|          | 0/867 [00:00<?, ?it/s]"
      ]
     },
     "metadata": {},
     "output_type": "display_data"
    },
    {
     "name": "stdout",
     "output_type": "stream",
     "text": [
      "Epoch 14\tTrain Loss: 1.032497\tVal Acc: 0.6335\t\tVal F1 (Weighted): 0.6435\tVal F1 (Macro): 0.5929\tNo Improve Epochs: 6\n"
     ]
    },
    {
     "data": {
      "application/vnd.jupyter.widget-view+json": {
       "model_id": "e880eda1ae324f43afc16296106bff5e",
       "version_major": 2,
       "version_minor": 0
      },
      "text/plain": [
       "Epoch 15 Training:   0%|          | 0/3467 [00:00<?, ?it/s]"
      ]
     },
     "metadata": {},
     "output_type": "display_data"
    },
    {
     "data": {
      "application/vnd.jupyter.widget-view+json": {
       "model_id": "fc83f820efb44694bb02e72dc72f4b92",
       "version_major": 2,
       "version_minor": 0
      },
      "text/plain": [
       "Epoch 15 Validation:   0%|          | 0/867 [00:00<?, ?it/s]"
      ]
     },
     "metadata": {},
     "output_type": "display_data"
    },
    {
     "name": "stdout",
     "output_type": "stream",
     "text": [
      "Epoch 15\tTrain Loss: 1.029418\tVal Acc: 0.6399\t\tVal F1 (Weighted): 0.6470\tVal F1 (Macro): 0.5943\tNo Improve Epochs: 7\n"
     ]
    },
    {
     "data": {
      "application/vnd.jupyter.widget-view+json": {
       "model_id": "dcb8cd9f40b540699e121cf0c7a02f6b",
       "version_major": 2,
       "version_minor": 0
      },
      "text/plain": [
       "Epoch 16 Training:   0%|          | 0/3467 [00:00<?, ?it/s]"
      ]
     },
     "metadata": {},
     "output_type": "display_data"
    },
    {
     "data": {
      "application/vnd.jupyter.widget-view+json": {
       "model_id": "a478b72093f04477bec962b48caafd39",
       "version_major": 2,
       "version_minor": 0
      },
      "text/plain": [
       "Epoch 16 Validation:   0%|          | 0/867 [00:00<?, ?it/s]"
      ]
     },
     "metadata": {},
     "output_type": "display_data"
    },
    {
     "name": "stdout",
     "output_type": "stream",
     "text": [
      "Epoch 16\tTrain Loss: 1.028059\tVal Acc: 0.6474\t\tVal F1 (Weighted): 0.6536\tVal F1 (Macro): 0.6002\tNo Improve Epochs: 8\n"
     ]
    },
    {
     "data": {
      "application/vnd.jupyter.widget-view+json": {
       "model_id": "c42d1541fbe54eee836dcc84701723f9",
       "version_major": 2,
       "version_minor": 0
      },
      "text/plain": [
       "Epoch 17 Training:   0%|          | 0/3467 [00:00<?, ?it/s]"
      ]
     },
     "metadata": {},
     "output_type": "display_data"
    },
    {
     "data": {
      "application/vnd.jupyter.widget-view+json": {
       "model_id": "2a959ea08a36470db0349c8dfed81eb5",
       "version_major": 2,
       "version_minor": 0
      },
      "text/plain": [
       "Epoch 17 Validation:   0%|          | 0/867 [00:00<?, ?it/s]"
      ]
     },
     "metadata": {},
     "output_type": "display_data"
    },
    {
     "name": "stdout",
     "output_type": "stream",
     "text": [
      "Epoch 17\tTrain Loss: 1.028669\tVal Acc: 0.6424\t\tVal F1 (Weighted): 0.6508\tVal F1 (Macro): 0.5980\tNo Improve Epochs: 9\n"
     ]
    },
    {
     "data": {
      "application/vnd.jupyter.widget-view+json": {
       "model_id": "f15faf5e01a44b65a2891fcdad226e23",
       "version_major": 2,
       "version_minor": 0
      },
      "text/plain": [
       "Epoch 18 Training:   0%|          | 0/3467 [00:00<?, ?it/s]"
      ]
     },
     "metadata": {},
     "output_type": "display_data"
    },
    {
     "data": {
      "application/vnd.jupyter.widget-view+json": {
       "model_id": "bde5ae156083438caa78988f1add35e3",
       "version_major": 2,
       "version_minor": 0
      },
      "text/plain": [
       "Epoch 18 Validation:   0%|          | 0/867 [00:00<?, ?it/s]"
      ]
     },
     "metadata": {},
     "output_type": "display_data"
    },
    {
     "name": "stdout",
     "output_type": "stream",
     "text": [
      "Epoch 18\tTrain Loss: 1.026169\tVal Acc: 0.6342\t\tVal F1 (Weighted): 0.6422\tVal F1 (Macro): 0.5899\tNo Improve Epochs: 10\n"
     ]
    },
    {
     "data": {
      "application/vnd.jupyter.widget-view+json": {
       "model_id": "6d83e792505341c1b8226a1aa30176b3",
       "version_major": 2,
       "version_minor": 0
      },
      "text/plain": [
       "Epoch 19 Training:   0%|          | 0/3467 [00:00<?, ?it/s]"
      ]
     },
     "metadata": {},
     "output_type": "display_data"
    },
    {
     "data": {
      "application/vnd.jupyter.widget-view+json": {
       "model_id": "e683028694494fcfb8a76e5b8561e7b6",
       "version_major": 2,
       "version_minor": 0
      },
      "text/plain": [
       "Epoch 19 Validation:   0%|          | 0/867 [00:00<?, ?it/s]"
      ]
     },
     "metadata": {},
     "output_type": "display_data"
    },
    {
     "name": "stdout",
     "output_type": "stream",
     "text": [
      "Epoch 19\tTrain Loss: 1.027224\tVal Acc: 0.6452\t\tVal F1 (Weighted): 0.6517\tVal F1 (Macro): 0.5982\tNo Improve Epochs: 11\n"
     ]
    },
    {
     "data": {
      "application/vnd.jupyter.widget-view+json": {
       "model_id": "3c6db3f545ab427389e4dc5fad8c338a",
       "version_major": 2,
       "version_minor": 0
      },
      "text/plain": [
       "Epoch 20 Training:   0%|          | 0/3467 [00:00<?, ?it/s]"
      ]
     },
     "metadata": {},
     "output_type": "display_data"
    },
    {
     "data": {
      "application/vnd.jupyter.widget-view+json": {
       "model_id": "0aa1c86ca4c94c208e5a95181d1ff402",
       "version_major": 2,
       "version_minor": 0
      },
      "text/plain": [
       "Epoch 20 Validation:   0%|          | 0/867 [00:00<?, ?it/s]"
      ]
     },
     "metadata": {},
     "output_type": "display_data"
    },
    {
     "name": "stdout",
     "output_type": "stream",
     "text": [
      "Epoch 20\tTrain Loss: 1.021726\tVal Acc: 0.6410\t\tVal F1 (Weighted): 0.6491\tVal F1 (Macro): 0.5969\tNo Improve Epochs: 12\n"
     ]
    },
    {
     "data": {
      "application/vnd.jupyter.widget-view+json": {
       "model_id": "ca37a33ffd2f4a428dae1da7050db02f",
       "version_major": 2,
       "version_minor": 0
      },
      "text/plain": [
       "Epoch 21 Training:   0%|          | 0/3467 [00:00<?, ?it/s]"
      ]
     },
     "metadata": {},
     "output_type": "display_data"
    },
    {
     "data": {
      "application/vnd.jupyter.widget-view+json": {
       "model_id": "7a806b7b89e240ed9ac2b1d5adc5d03d",
       "version_major": 2,
       "version_minor": 0
      },
      "text/plain": [
       "Epoch 21 Validation:   0%|          | 0/867 [00:00<?, ?it/s]"
      ]
     },
     "metadata": {},
     "output_type": "display_data"
    },
    {
     "name": "stdout",
     "output_type": "stream",
     "text": [
      "Epoch 21\tTrain Loss: 1.021688\tVal Acc: 0.6368\t\tVal F1 (Weighted): 0.6458\tVal F1 (Macro): 0.5939\tNo Improve Epochs: 13\n"
     ]
    },
    {
     "data": {
      "application/vnd.jupyter.widget-view+json": {
       "model_id": "b9838f786ffc432d95aa3bb59b77a8aa",
       "version_major": 2,
       "version_minor": 0
      },
      "text/plain": [
       "Epoch 22 Training:   0%|          | 0/3467 [00:00<?, ?it/s]"
      ]
     },
     "metadata": {},
     "output_type": "display_data"
    },
    {
     "data": {
      "application/vnd.jupyter.widget-view+json": {
       "model_id": "593e93495d5a4d6aba1b4698b1544fb3",
       "version_major": 2,
       "version_minor": 0
      },
      "text/plain": [
       "Epoch 22 Validation:   0%|          | 0/867 [00:00<?, ?it/s]"
      ]
     },
     "metadata": {},
     "output_type": "display_data"
    },
    {
     "name": "stdout",
     "output_type": "stream",
     "text": [
      "Epoch 22\tTrain Loss: 1.023543\tVal Acc: 0.6421\t\tVal F1 (Weighted): 0.6501\tVal F1 (Macro): 0.5966\tNo Improve Epochs: 14\n"
     ]
    },
    {
     "data": {
      "application/vnd.jupyter.widget-view+json": {
       "model_id": "0d9697fff15941dcaf01971358033e2e",
       "version_major": 2,
       "version_minor": 0
      },
      "text/plain": [
       "Epoch 23 Training:   0%|          | 0/3467 [00:00<?, ?it/s]"
      ]
     },
     "metadata": {},
     "output_type": "display_data"
    },
    {
     "data": {
      "application/vnd.jupyter.widget-view+json": {
       "model_id": "5c16c577284d4a77b99d8cb3539690a9",
       "version_major": 2,
       "version_minor": 0
      },
      "text/plain": [
       "Epoch 23 Validation:   0%|          | 0/867 [00:00<?, ?it/s]"
      ]
     },
     "metadata": {},
     "output_type": "display_data"
    },
    {
     "name": "stdout",
     "output_type": "stream",
     "text": [
      "Epoch 23\tTrain Loss: 1.019945\tVal Acc: 0.6370\t\tVal F1 (Weighted): 0.6451\tVal F1 (Macro): 0.5938\tNo Improve Epochs: 15\n"
     ]
    },
    {
     "data": {
      "application/vnd.jupyter.widget-view+json": {
       "model_id": "01459b9754eb4d3596d3e944896ba092",
       "version_major": 2,
       "version_minor": 0
      },
      "text/plain": [
       "Epoch 24 Training:   0%|          | 0/3467 [00:00<?, ?it/s]"
      ]
     },
     "metadata": {},
     "output_type": "display_data"
    },
    {
     "data": {
      "application/vnd.jupyter.widget-view+json": {
       "model_id": "8308f793d34743e296b93b3eca226c83",
       "version_major": 2,
       "version_minor": 0
      },
      "text/plain": [
       "Epoch 24 Validation:   0%|          | 0/867 [00:00<?, ?it/s]"
      ]
     },
     "metadata": {},
     "output_type": "display_data"
    },
    {
     "name": "stdout",
     "output_type": "stream",
     "text": [
      "Epoch 24\tTrain Loss: 1.019881\tVal Acc: 0.6446\t\tVal F1 (Weighted): 0.6505\tVal F1 (Macro): 0.5975\tNo Improve Epochs: 16\n"
     ]
    },
    {
     "data": {
      "application/vnd.jupyter.widget-view+json": {
       "model_id": "79ad6de0204849779c8ff5e7c19e275a",
       "version_major": 2,
       "version_minor": 0
      },
      "text/plain": [
       "Epoch 25 Training:   0%|          | 0/3467 [00:00<?, ?it/s]"
      ]
     },
     "metadata": {},
     "output_type": "display_data"
    },
    {
     "data": {
      "application/vnd.jupyter.widget-view+json": {
       "model_id": "fdd709f2f59c499290cb710f339c1ee4",
       "version_major": 2,
       "version_minor": 0
      },
      "text/plain": [
       "Epoch 25 Validation:   0%|          | 0/867 [00:00<?, ?it/s]"
      ]
     },
     "metadata": {},
     "output_type": "display_data"
    },
    {
     "name": "stdout",
     "output_type": "stream",
     "text": [
      "Epoch 25\tTrain Loss: 1.017958\tVal Acc: 0.6461\t\tVal F1 (Weighted): 0.6523\tVal F1 (Macro): 0.5999\tNo Improve Epochs: 17\n"
     ]
    },
    {
     "data": {
      "application/vnd.jupyter.widget-view+json": {
       "model_id": "03b7c2a441754350bc18f6b03b2dcb8d",
       "version_major": 2,
       "version_minor": 0
      },
      "text/plain": [
       "Epoch 26 Training:   0%|          | 0/3467 [00:00<?, ?it/s]"
      ]
     },
     "metadata": {},
     "output_type": "display_data"
    },
    {
     "data": {
      "application/vnd.jupyter.widget-view+json": {
       "model_id": "4e02a90876034b6aa3d7a987dc975c8a",
       "version_major": 2,
       "version_minor": 0
      },
      "text/plain": [
       "Epoch 26 Validation:   0%|          | 0/867 [00:00<?, ?it/s]"
      ]
     },
     "metadata": {},
     "output_type": "display_data"
    },
    {
     "name": "stdout",
     "output_type": "stream",
     "text": [
      "Epoch 26\tTrain Loss: 1.013973\tVal Acc: 0.6420\t\tVal F1 (Weighted): 0.6496\tVal F1 (Macro): 0.5972\tNo Improve Epochs: 18\n"
     ]
    },
    {
     "data": {
      "application/vnd.jupyter.widget-view+json": {
       "model_id": "8265f56cb37a486fa69788ed13fb53ef",
       "version_major": 2,
       "version_minor": 0
      },
      "text/plain": [
       "Epoch 27 Training:   0%|          | 0/3467 [00:00<?, ?it/s]"
      ]
     },
     "metadata": {},
     "output_type": "display_data"
    },
    {
     "data": {
      "application/vnd.jupyter.widget-view+json": {
       "model_id": "d3f40e33217346faa01ebfbb7f4598f7",
       "version_major": 2,
       "version_minor": 0
      },
      "text/plain": [
       "Epoch 27 Validation:   0%|          | 0/867 [00:00<?, ?it/s]"
      ]
     },
     "metadata": {},
     "output_type": "display_data"
    },
    {
     "name": "stdout",
     "output_type": "stream",
     "text": [
      "Epoch 27\tTrain Loss: 1.013700\tVal Acc: 0.6410\t\tVal F1 (Weighted): 0.6485\tVal F1 (Macro): 0.5972\tNo Improve Epochs: 19\n"
     ]
    },
    {
     "data": {
      "application/vnd.jupyter.widget-view+json": {
       "model_id": "3c51ca0ec5434e24aff755149055d7c3",
       "version_major": 2,
       "version_minor": 0
      },
      "text/plain": [
       "Epoch 28 Training:   0%|          | 0/3467 [00:00<?, ?it/s]"
      ]
     },
     "metadata": {},
     "output_type": "display_data"
    },
    {
     "data": {
      "application/vnd.jupyter.widget-view+json": {
       "model_id": "8fb5e015d10542c79075db854690e67c",
       "version_major": 2,
       "version_minor": 0
      },
      "text/plain": [
       "Epoch 28 Validation:   0%|          | 0/867 [00:00<?, ?it/s]"
      ]
     },
     "metadata": {},
     "output_type": "display_data"
    },
    {
     "name": "stdout",
     "output_type": "stream",
     "text": [
      "Epoch 28\tTrain Loss: 1.013432\tVal Acc: 0.6408\t\tVal F1 (Weighted): 0.6485\tVal F1 (Macro): 0.5966\tNo Improve Epochs: 20\n",
      "조기 종료: 검증 F1 점수 개선 없음.\n",
      "---------- 학습 종료 ----------\n"
     ]
    }
   ],
   "source": [
    "train_number = 21\n",
    "save_path = f\"saves/models/Sentiment_v{train_number}.pt\"\n",
    "NN = Transformer(vocab_size=VOCAB_SIZE,embedding_dim=128,hidden_dim=32,output_dim=7,n_layers=2,\n",
    "                 n_heads=16,dropout_p=0.3,max_len=128,pad_token_id=0)\n",
    "NN.load_state_dict(torch.load(\"saves/models/Sentiment_v19.pt\"))\n",
    "all_train_labels_original = train_df['감정'].values.astype(int)\n",
    "\n",
    "num_classes = NN.output_dim\n",
    "\n",
    "label_counts_original = np.bincount(all_train_labels_original, minlength=num_classes)\n",
    "class_counts_tensor = torch.tensor(label_counts_original, dtype=torch.float)\n",
    "\n",
    "class_counts_tensor = torch.where(class_counts_tensor == 0, torch.tensor(1.0), class_counts_tensor)\n",
    "\n",
    "print(f\"학습 데이터 클래스별 샘플 수: {class_counts_tensor.tolist()}\")\n",
    "print(f\"학습 데이터 클래스 분포: {Counter(all_train_labels_original)}\")\n",
    "\n",
    "class_weights = (class_counts_tensor.sum() / class_counts_tensor)\n",
    "\n",
    "class_weights = class_weights.to(device)\n",
    "\n",
    "print(f\"계산된 클래스 가중치: {class_weights.tolist()}\")\n",
    "\n",
    "loss_function = nn.CrossEntropyLoss(weight=class_weights)\n",
    "# loss_function = nn.CrossEntropyLoss()\n",
    "optimizer = torch.optim.AdamW(NN.parameters(), lr=3e-5)\n",
    "scheduler_plateau = ReduceLROnPlateau(optimizer, mode=\"max\", factor=0.8, patience=5,min_lr=1e-7)\n",
    "epoch = 10000\n",
    "\n",
    "data, attention_mask, labels = next(iter(train_loader))\n",
    "print(f\"첫 배치 레이블 분포: {Counter(labels.cpu().numpy())}\")\n",
    "\n",
    "Transformer_Train(epoch, device, train_loader, val_loader, NN, loss_function, optimizer, scheduler_plateau,\n",
    "                  warmup_epochs=3,\n",
    "                  log_dir=f\"runs/sentiment_experiment_v{train_number}\",\n",
    "                  save_path=save_path,\n",
    "                  multiplier=1.0,\n",
    "                  patience=20)"
   ]
  },
  {
   "cell_type": "code",
   "execution_count": null,
   "id": "a8789baa-6fb4-4cac-84bc-84cf7971e4b0",
   "metadata": {},
   "outputs": [],
   "source": []
  },
  {
   "cell_type": "markdown",
   "id": "d93f8250-467c-435f-82c2-1f5712586b2b",
   "metadata": {
    "jp-MarkdownHeadingCollapsed": true
   },
   "source": [
    "# Transfer Model"
   ]
  },
  {
   "cell_type": "markdown",
   "id": "a46ea231-0a55-42ea-9eaf-091ad3f4c2a0",
   "metadata": {},
   "source": [
    "PRETRAIN_MODEL_SAVE_PATH = \"saves/Pretrain.pt\"\n",
    "MODEL_SAVE_PATH = \"Sentiment.pt\"\n",
    "HIDDEN_SIZE = 768\n",
    "NUM_HIDDEN_LAYERS = 12\n",
    "NUM_ATTENTION_HEADS = 12\n",
    "INTERMEDIATE_SIZE = 3072\n",
    "TYPE_VOCAB_SIZE = 2\n",
    "DROPOUT_PROB = 0.1\n",
    "\n",
    "config = CustomBertConfig(\n",
    "    VOCAB_SIZE=VOCAB_SIZE,\n",
    "    HIDDEN_SIZE=HIDDEN_SIZE,\n",
    "    NUM_HIDDEN_LAYERS=NUM_HIDDEN_LAYERS,\n",
    "    NUM_ATTENTION_HEADS=NUM_ATTENTION_HEADS,\n",
    "    INTERMEDIATE_SIZE=INTERMEDIATE_SIZE,\n",
    "    MAX_SEQUENCE_LENGTH=MAX_SEQUENCE_LENGTH,\n",
    "    TYPE_VOCAB_SIZE=TYPE_VOCAB_SIZE,\n",
    "    DROPOUT_PROB=DROPOUT_PROB\n",
    ")\n",
    "\n",
    "model = CustomBertSequenceClassification(config,PRETRAIN_MODEL_SAVE_PATH,7)\n",
    "\n",
    "if os.path.exists(MODEL_SAVE_PATH):\n",
    "    print(\"모델 가중치 로드 중...\")\n",
    "    # 먼저 CPU에 로드한 후 모델에 로드합니다.\n",
    "    loaded_state_dict = torch.load(MODEL_SAVE_PATH, map_location='cpu')\n",
    "    model.load_state_dict(loaded_state_dict)\n",
    "    print(\"모델 가중치 로드 완료.\")\n",
    "else:\n",
    "    print(\"새로운 모델 초기화 완료. 저장된 가중치를 찾을 수 없습니다.\")\n",
    "\n",
    "model.to(device)\n",
    "\n",
    "num_params = sum(p.numel() for p in model.parameters() if p.requires_grad)\n",
    "print(f'Custom Bert 모델 초기화 완료. 총 학습 가능 파라미터 수 : {num_params}')\n",
    "print(f'모델이 담긴 장치 : {device}')"
   ]
  },
  {
   "cell_type": "markdown",
   "id": "1943dc6e-66bf-40fb-9ebd-59b3a1d055a8",
   "metadata": {},
   "source": [
    "EPOCHS = 3\n",
    "LEARNING_RATE = 5e-8\n",
    "WEIGHT_DECAY = 0.1\n",
    "optimizer = AdamW(model.parameters(),lr=LEARNING_RATE,weight_decay=WEIGHT_DECAY)"
   ]
  },
  {
   "cell_type": "markdown",
   "id": "f75f8ff3-f849-4353-b91b-d7f0280e9002",
   "metadata": {},
   "source": [
    "train_losses = []\n",
    "acc = 0\n",
    "prev_acc = 0\n",
    "cnt = 0\n",
    "\n",
    "print(f\"\\n<--- 학습 시작 ---> ({EPOCHS} 에폭)\")\n",
    "\n",
    "for e in range(EPOCHS):\n",
    "    loss_sum = 0\n",
    "    progress_bar = tqdm(train_loader,desc=f\"Train Epoch {e+1}\")\n",
    "    model.train()\n",
    "    for step, batch in enumerate(progress_bar):\n",
    "        batch = {k: v.to(device) for k, v in batch.items()}\n",
    "        \n",
    "        outputs = model.forward(\n",
    "            input_ids=batch[\"input_ids\"],\n",
    "            attention_mask=batch[\"attention_mask\"],\n",
    "            token_type_ids=batch[\"token_type_ids\"],\n",
    "            labels=batch[\"labels\"]\n",
    "        )\n",
    "        loss = outputs[\"loss\"]\n",
    "\n",
    "        loss.backward()\n",
    "        optimizer.step()\n",
    "        optimizer.zero_grad()\n",
    "\n",
    "        loss_sum += loss.item()\n",
    "        progress_bar.set_postfix({'loss':f\"{(loss_sum/(step+1)):.4f}\"})\n",
    "        del outputs, loss\n",
    "        if 'ccuda' in str(device):\n",
    "            torch.cuda.empty_cache()\n",
    "\n",
    "    avg_train_loss = loss_sum / len(train_loader)\n",
    "    train_losses.append(avg_train_loss)\n",
    "\n",
    "    print(f\"Train Epoch {e+1} 완료. 평균 학습 손실 : {avg_train_loss:.4f}\")\n",
    "\n",
    "    model.eval()\n",
    "    correct = 0\n",
    "    total = 0\n",
    "    val_progress = tqdm(val_loader, desc=f\"Validation Epoch {e+1}\")\n",
    "    with torch.no_grad():\n",
    "        for step, batch in enumerate(val_progress):\n",
    "            batch = {k: v.to(device) for k, v in batch.items()}\n",
    "            \n",
    "            y = model.forward(input_ids=batch[\"input_ids\"],\n",
    "                attention_mask=batch[\"attention_mask\"],\n",
    "                token_type_ids=batch[\"token_type_ids\"]\n",
    "            )\n",
    "            y_logits = y[\"logits\"]\n",
    "            t = batch[\"labels\"]\n",
    "            correct += (y_logits.argmax(dim=-1) == t).sum().item()\n",
    "            total += len(batch[\"input_ids\"])\n",
    "            val_progress.set_postfix({\"acc\" : f\"{((correct/total)*100):.2f}%\"})\n",
    "            \n",
    "    acc = correct / total\n",
    "    \n",
    "    print(f\"Validation Epoch {e+1} 완료. 검증 정확도 : {(acc*100):.2f}%\")\n",
    "    \n",
    "    if acc <= prev_acc:\n",
    "        cnt += 1\n",
    "    else :\n",
    "        torch.save(model.state_dict(), MODEL_SAVE_PATH)\n",
    "        cnt = 0\n",
    "        prev_acc = acc\n",
    "\n",
    "    if cnt >= 5:\n",
    "        print(\"train halted\")\n",
    "        break\n",
    "       \n",
    "print(\"\\n<--- 학습 완료 --->\")"
   ]
  },
  {
   "cell_type": "code",
   "execution_count": null,
   "id": "284cadfc-c327-42f7-ad3c-86197a281f04",
   "metadata": {},
   "outputs": [],
   "source": []
  }
 ],
 "metadata": {
  "kernelspec": {
   "display_name": "Python 3 (ipykernel)",
   "language": "python",
   "name": "python3"
  },
  "language_info": {
   "codemirror_mode": {
    "name": "ipython",
    "version": 3
   },
   "file_extension": ".py",
   "mimetype": "text/x-python",
   "name": "python",
   "nbconvert_exporter": "python",
   "pygments_lexer": "ipython3",
   "version": "3.12.9"
  }
 },
 "nbformat": 4,
 "nbformat_minor": 5
}
