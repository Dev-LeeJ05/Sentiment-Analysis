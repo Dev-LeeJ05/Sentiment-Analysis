{
 "cells": [
  {
   "cell_type": "code",
   "execution_count": 1,
   "id": "2f6aad96-bff3-4778-be6e-1e4ee3b3aef4",
   "metadata": {},
   "outputs": [],
   "source": [
    "import pandas as pd\n",
    "import numpy as np\n",
    "from IPython.display import display\n",
    "from tqdm import tqdm\n",
    "\n",
    "\n",
    "datasetsFilePath = \"datasets/\"\n",
    "savesFilePath = \"saves/\""
   ]
  },
  {
   "cell_type": "markdown",
   "id": "57d332cc-dd85-4a1c-b6f9-29778c8d588b",
   "metadata": {},
   "source": [
    "## 한국어 감정 정보가 포함된 단발성 대화 데이터셋\n",
    "**파일** : ['single_train.xlsx'](https://www.aihub.or.kr/aihubdata/data/view.do?currMenu=120&topMenu=100&aihubDataSe=extrldata&dataSetSn=270)"
   ]
  },
  {
   "cell_type": "code",
   "execution_count": 2,
   "id": "158c7ecc-48f3-4934-9a6c-08811c98af3e",
   "metadata": {},
   "outputs": [
    {
     "data": {
      "text/html": [
       "<div>\n",
       "<style scoped>\n",
       "    .dataframe tbody tr th:only-of-type {\n",
       "        vertical-align: middle;\n",
       "    }\n",
       "\n",
       "    .dataframe tbody tr th {\n",
       "        vertical-align: top;\n",
       "    }\n",
       "\n",
       "    .dataframe thead th {\n",
       "        text-align: right;\n",
       "    }\n",
       "</style>\n",
       "<table border=\"1\" class=\"dataframe\">\n",
       "  <thead>\n",
       "    <tr style=\"text-align: right;\">\n",
       "      <th></th>\n",
       "      <th>Sentence</th>\n",
       "      <th>Emotion</th>\n",
       "      <th>Unnamed: 2</th>\n",
       "      <th>Unnamed: 3</th>\n",
       "      <th>Unnamed: 4</th>\n",
       "      <th>공포</th>\n",
       "      <th>5468</th>\n",
       "    </tr>\n",
       "  </thead>\n",
       "  <tbody>\n",
       "    <tr>\n",
       "      <th>0</th>\n",
       "      <td>언니 동생으로 부르는게 맞는 일인가요..??</td>\n",
       "      <td>공포</td>\n",
       "      <td>NaN</td>\n",
       "      <td>NaN</td>\n",
       "      <td>NaN</td>\n",
       "      <td>놀람</td>\n",
       "      <td>5898.0</td>\n",
       "    </tr>\n",
       "    <tr>\n",
       "      <th>1</th>\n",
       "      <td>그냥 내 느낌일뿐겠지?</td>\n",
       "      <td>공포</td>\n",
       "      <td>NaN</td>\n",
       "      <td>NaN</td>\n",
       "      <td>NaN</td>\n",
       "      <td>분노</td>\n",
       "      <td>5665.0</td>\n",
       "    </tr>\n",
       "    <tr>\n",
       "      <th>2</th>\n",
       "      <td>아직너무초기라서 그런거죠?</td>\n",
       "      <td>공포</td>\n",
       "      <td>NaN</td>\n",
       "      <td>NaN</td>\n",
       "      <td>NaN</td>\n",
       "      <td>슬픔</td>\n",
       "      <td>5267.0</td>\n",
       "    </tr>\n",
       "    <tr>\n",
       "      <th>3</th>\n",
       "      <td>유치원버스 사고 낫다던데</td>\n",
       "      <td>공포</td>\n",
       "      <td>NaN</td>\n",
       "      <td>NaN</td>\n",
       "      <td>NaN</td>\n",
       "      <td>중립</td>\n",
       "      <td>4830.0</td>\n",
       "    </tr>\n",
       "    <tr>\n",
       "      <th>4</th>\n",
       "      <td>근데 원래이런거맞나요</td>\n",
       "      <td>공포</td>\n",
       "      <td>NaN</td>\n",
       "      <td>NaN</td>\n",
       "      <td>NaN</td>\n",
       "      <td>행복</td>\n",
       "      <td>6037.0</td>\n",
       "    </tr>\n",
       "  </tbody>\n",
       "</table>\n",
       "</div>"
      ],
      "text/plain": [
       "                   Sentence Emotion  Unnamed: 2  Unnamed: 3  Unnamed: 4  공포  \\\n",
       "0  언니 동생으로 부르는게 맞는 일인가요..??      공포         NaN         NaN         NaN  놀람   \n",
       "1              그냥 내 느낌일뿐겠지?      공포         NaN         NaN         NaN  분노   \n",
       "2            아직너무초기라서 그런거죠?      공포         NaN         NaN         NaN  슬픔   \n",
       "3             유치원버스 사고 낫다던데      공포         NaN         NaN         NaN  중립   \n",
       "4               근데 원래이런거맞나요      공포         NaN         NaN         NaN  행복   \n",
       "\n",
       "     5468  \n",
       "0  5898.0  \n",
       "1  5665.0  \n",
       "2  5267.0  \n",
       "3  4830.0  \n",
       "4  6037.0  "
      ]
     },
     "execution_count": 2,
     "metadata": {},
     "output_type": "execute_result"
    }
   ],
   "source": [
    "single_df = pd.read_excel(f'{datasetsFilePath}single_train.xlsx')\n",
    "single_df.head()"
   ]
  },
  {
   "cell_type": "code",
   "execution_count": 3,
   "id": "1f1ad09e-78e8-4657-a01f-cef247e5634b",
   "metadata": {},
   "outputs": [
    {
     "name": "stdout",
     "output_type": "stream",
     "text": [
      "<class 'pandas.core.frame.DataFrame'>\n",
      "RangeIndex: 38594 entries, 0 to 38593\n",
      "Data columns (total 2 columns):\n",
      " #   Column    Non-Null Count  Dtype \n",
      "---  ------    --------------  ----- \n",
      " 0   Sentence  38594 non-null  object\n",
      " 1   Emotion   38594 non-null  object\n",
      "dtypes: object(2)\n",
      "memory usage: 603.2+ KB\n"
     ]
    }
   ],
   "source": [
    "single_df = single_df.iloc[:,:2]\n",
    "single_df.head()\n",
    "single_df.info()"
   ]
  },
  {
   "cell_type": "code",
   "execution_count": 4,
   "id": "c00c40a9-b935-407e-89bb-aa7800f987b8",
   "metadata": {},
   "outputs": [
    {
     "data": {
      "text/plain": [
       "array(['공포', '놀람', '분노', '슬픔', '중립', '행복', '혐오'], dtype=object)"
      ]
     },
     "execution_count": 4,
     "metadata": {},
     "output_type": "execute_result"
    }
   ],
   "source": [
    "single_df.rename(columns={'Sentence':'발화','Emotion':'감정'},inplace=True)\n",
    "single_df[\"감정\"].unique()"
   ]
  },
  {
   "cell_type": "code",
   "execution_count": 5,
   "id": "3404f079-148c-4a45-b41f-ecf4dc272a04",
   "metadata": {},
   "outputs": [
    {
     "name": "stdout",
     "output_type": "stream",
     "text": [
      "<class 'pandas.core.frame.DataFrame'>\n",
      "Index: 32696 entries, 0 to 38593\n",
      "Data columns (total 2 columns):\n",
      " #   Column  Non-Null Count  Dtype \n",
      "---  ------  --------------  ----- \n",
      " 0   발화      32696 non-null  object\n",
      " 1   감정      32696 non-null  object\n",
      "dtypes: object(2)\n",
      "memory usage: 766.3+ KB\n"
     ]
    }
   ],
   "source": [
    "single_df=single_df[single_df[\"감정\"] != '놀람']\n",
    "single_df.info()"
   ]
  },
  {
   "cell_type": "code",
   "execution_count": 6,
   "id": "10727b7e-660e-4376-a51a-3ffeadea8355",
   "metadata": {},
   "outputs": [
    {
     "name": "stdout",
     "output_type": "stream",
     "text": [
      "<class 'pandas.core.frame.DataFrame'>\n",
      "Index: 32696 entries, 0 to 38593\n",
      "Data columns (total 2 columns):\n",
      " #   Column  Non-Null Count  Dtype \n",
      "---  ------  --------------  ----- \n",
      " 0   발화      32696 non-null  object\n",
      " 1   감정      32696 non-null  object\n",
      "dtypes: object(2)\n",
      "memory usage: 766.3+ KB\n"
     ]
    },
    {
     "data": {
      "text/plain": [
       "감정\n",
       "행복    6037\n",
       "분노    5665\n",
       "불안    5468\n",
       "혐오    5429\n",
       "슬픔    5267\n",
       "중립    4830\n",
       "Name: count, dtype: int64"
      ]
     },
     "execution_count": 6,
     "metadata": {},
     "output_type": "execute_result"
    }
   ],
   "source": [
    "single_df['감정']=np.where(single_df['감정'].str.match('공포'),\"불안\",single_df['감정'])\n",
    "single_df.info()\n",
    "single_df['감정'].value_counts()"
   ]
  },
  {
   "cell_type": "markdown",
   "id": "182e8d16-744a-4c31-b38c-3dba5a946237",
   "metadata": {},
   "source": [
    "## 감성대화 말뭉치\n",
    "파일 : ['corpus_train_1.xlsx','corpus_train_2.xlsx'](https://aihub.or.kr/aihubdata/data/view.do?currMenu=115&topMenu=100&aihubDataSe=realm&dataSetSn=86)"
   ]
  },
  {
   "cell_type": "code",
   "execution_count": 7,
   "id": "660209a0-4e8b-447e-9a8b-01257639343d",
   "metadata": {},
   "outputs": [
    {
     "data": {
      "text/html": [
       "<div>\n",
       "<style scoped>\n",
       "    .dataframe tbody tr th:only-of-type {\n",
       "        vertical-align: middle;\n",
       "    }\n",
       "\n",
       "    .dataframe tbody tr th {\n",
       "        vertical-align: top;\n",
       "    }\n",
       "\n",
       "    .dataframe thead th {\n",
       "        text-align: right;\n",
       "    }\n",
       "</style>\n",
       "<table border=\"1\" class=\"dataframe\">\n",
       "  <thead>\n",
       "    <tr style=\"text-align: right;\">\n",
       "      <th></th>\n",
       "      <th>연령</th>\n",
       "      <th>성별</th>\n",
       "      <th>상황키워드</th>\n",
       "      <th>신체질환</th>\n",
       "      <th>감정_대분류</th>\n",
       "      <th>감정_소분류</th>\n",
       "      <th>사람문장1</th>\n",
       "      <th>시스템문장1</th>\n",
       "      <th>사람문장2</th>\n",
       "      <th>시스템문장2</th>\n",
       "      <th>사람문장3</th>\n",
       "      <th>시스템문장3</th>\n",
       "    </tr>\n",
       "  </thead>\n",
       "  <tbody>\n",
       "    <tr>\n",
       "      <th>1</th>\n",
       "      <td>청년</td>\n",
       "      <td>남성</td>\n",
       "      <td>진로,취업,직장</td>\n",
       "      <td>해당없음</td>\n",
       "      <td>불안</td>\n",
       "      <td>두려운</td>\n",
       "      <td>이번 프로젝트에서 발표를 하는데 내가 실수하는 바람에 우리 팀이 감점을 받았어. 너...</td>\n",
       "      <td>실수하시다니 정말 미안한 마음이 크겠어요.</td>\n",
       "      <td>내 능력이 부족한 거 같은데 그만 다녀야 될거같아.</td>\n",
       "      <td>능력을 올리려면 어떤 방법이 있을까요?</td>\n",
       "      <td>퇴근 후 여가에 회사 일을 더 열심히 해서 피해가 가지 않도록 해야겠어.</td>\n",
       "      <td>꼭 좋은 결과 있길 바라요.</td>\n",
       "    </tr>\n",
       "    <tr>\n",
       "      <th>2</th>\n",
       "      <td>청년</td>\n",
       "      <td>남성</td>\n",
       "      <td>진로,취업,직장</td>\n",
       "      <td>해당없음</td>\n",
       "      <td>불안</td>\n",
       "      <td>두려운</td>\n",
       "      <td>회사에서 중요한 프로젝트를 혼자 하게 됐는데 솔직히 두렵고 무서워.</td>\n",
       "      <td>큰 프로젝트를 혼자 하셔서 고민이 많겠네요.</td>\n",
       "      <td>나에게 너무 크게 느껴지는 중요한 프로젝트라 버거운 느낌이 들어.</td>\n",
       "      <td>프로젝트를 잘하시기 위해서 어떤 걸 할 수 있나요?</td>\n",
       "      <td>동료 직원에게 도움을 요청해서 같이 해결해야겠어.</td>\n",
       "      <td>동료 직원에게 도움을 요청하기로 하셨군요.</td>\n",
       "    </tr>\n",
       "    <tr>\n",
       "      <th>3</th>\n",
       "      <td>청년</td>\n",
       "      <td>남성</td>\n",
       "      <td>진로,취업,직장</td>\n",
       "      <td>해당없음</td>\n",
       "      <td>불안</td>\n",
       "      <td>두려운</td>\n",
       "      <td>상사가 너무 무섭게 생겨서 친해지는 게 너무 두려워.</td>\n",
       "      <td>직장 상사가 무섭게 생기셔서 친해지는 게 어렵군요.</td>\n",
       "      <td>무섭게 생겼는데도 업무를 보려면 친해져야 할 것 같단말이야.</td>\n",
       "      <td>상사분과 친해질 수 있는 방법은 무엇이 있을까요?</td>\n",
       "      <td>먼저 다가가서 말을 걸어볼게.</td>\n",
       "      <td>직장 상사와 친해지시면 좋겠네요.</td>\n",
       "    </tr>\n",
       "  </tbody>\n",
       "</table>\n",
       "</div>"
      ],
      "text/plain": [
       "   연령  성별     상황키워드  신체질환 감정_대분류 감정_소분류  \\\n",
       "1  청년  남성  진로,취업,직장  해당없음     불안    두려운   \n",
       "2  청년  남성  진로,취업,직장  해당없음     불안    두려운   \n",
       "3  청년  남성  진로,취업,직장  해당없음     불안    두려운   \n",
       "\n",
       "                                               사람문장1  \\\n",
       "1  이번 프로젝트에서 발표를 하는데 내가 실수하는 바람에 우리 팀이 감점을 받았어. 너...   \n",
       "2              회사에서 중요한 프로젝트를 혼자 하게 됐는데 솔직히 두렵고 무서워.   \n",
       "3                      상사가 너무 무섭게 생겨서 친해지는 게 너무 두려워.   \n",
       "\n",
       "                         시스템문장1                                 사람문장2  \\\n",
       "1       실수하시다니 정말 미안한 마음이 크겠어요.          내 능력이 부족한 거 같은데 그만 다녀야 될거같아.   \n",
       "2      큰 프로젝트를 혼자 하셔서 고민이 많겠네요.  나에게 너무 크게 느껴지는 중요한 프로젝트라 버거운 느낌이 들어.   \n",
       "3  직장 상사가 무섭게 생기셔서 친해지는 게 어렵군요.     무섭게 생겼는데도 업무를 보려면 친해져야 할 것 같단말이야.   \n",
       "\n",
       "                         시스템문장2                                     사람문장3  \\\n",
       "1         능력을 올리려면 어떤 방법이 있을까요?  퇴근 후 여가에 회사 일을 더 열심히 해서 피해가 가지 않도록 해야겠어.   \n",
       "2  프로젝트를 잘하시기 위해서 어떤 걸 할 수 있나요?               동료 직원에게 도움을 요청해서 같이 해결해야겠어.   \n",
       "3   상사분과 친해질 수 있는 방법은 무엇이 있을까요?                          먼저 다가가서 말을 걸어볼게.   \n",
       "\n",
       "                    시스템문장3  \n",
       "1          꼭 좋은 결과 있길 바라요.  \n",
       "2  동료 직원에게 도움을 요청하기로 하셨군요.  \n",
       "3       직장 상사와 친해지시면 좋겠네요.  "
      ]
     },
     "metadata": {},
     "output_type": "display_data"
    },
    {
     "data": {
      "text/html": [
       "<div>\n",
       "<style scoped>\n",
       "    .dataframe tbody tr th:only-of-type {\n",
       "        vertical-align: middle;\n",
       "    }\n",
       "\n",
       "    .dataframe tbody tr th {\n",
       "        vertical-align: top;\n",
       "    }\n",
       "\n",
       "    .dataframe thead th {\n",
       "        text-align: right;\n",
       "    }\n",
       "</style>\n",
       "<table border=\"1\" class=\"dataframe\">\n",
       "  <thead>\n",
       "    <tr style=\"text-align: right;\">\n",
       "      <th></th>\n",
       "      <th>연령</th>\n",
       "      <th>성별</th>\n",
       "      <th>상황키워드</th>\n",
       "      <th>신체질환</th>\n",
       "      <th>감정_대분류</th>\n",
       "      <th>감정_소분류</th>\n",
       "      <th>사람문장1</th>\n",
       "      <th>시스템문장1</th>\n",
       "      <th>사람문장2</th>\n",
       "      <th>시스템문장2</th>\n",
       "      <th>사람문장3</th>\n",
       "      <th>시스템문장3</th>\n",
       "    </tr>\n",
       "  </thead>\n",
       "  <tbody>\n",
       "    <tr>\n",
       "      <th>1</th>\n",
       "      <td>청년</td>\n",
       "      <td>여성</td>\n",
       "      <td>진로,취업,직장</td>\n",
       "      <td>해당없음</td>\n",
       "      <td>분노</td>\n",
       "      <td>노여워하는</td>\n",
       "      <td>일은 왜 해도 해도 끝이 없을까? 화가 난다.</td>\n",
       "      <td>많이 힘드시겠어요. 주위에 의논할 상대가 있나요?</td>\n",
       "      <td>그냥 내가 해결하는 게 나아. 남들한테 부담 주고 싶지도 않고.</td>\n",
       "      <td>혼자 해결하기로 했군요. 혼자서 해결하기 힘들면 주위에 의논할 사람을 찾아보세요.</td>\n",
       "      <td>NaN</td>\n",
       "      <td>NaN</td>\n",
       "    </tr>\n",
       "    <tr>\n",
       "      <th>2</th>\n",
       "      <td>청년</td>\n",
       "      <td>여성</td>\n",
       "      <td>진로,취업,직장</td>\n",
       "      <td>해당없음</td>\n",
       "      <td>분노</td>\n",
       "      <td>노여워하는</td>\n",
       "      <td>이번 달에 또 급여가 깎였어! 물가는 오르는데 월급만 자꾸 깎이니까 너무 화가 나.</td>\n",
       "      <td>급여가 줄어 속상하시겠어요. 월급이 줄어든 것을 어떻게 보완하실 건가요?</td>\n",
       "      <td>최대한 지출을 억제해야겠어. 월급이 줄어들었으니 고정지출을 줄일 수밖에 없을 것 같아.</td>\n",
       "      <td>월급이 줄어든 만큼 소비를 줄일 계획이군요.</td>\n",
       "      <td>NaN</td>\n",
       "      <td>NaN</td>\n",
       "    </tr>\n",
       "    <tr>\n",
       "      <th>3</th>\n",
       "      <td>청년</td>\n",
       "      <td>여성</td>\n",
       "      <td>진로,취업,직장</td>\n",
       "      <td>해당없음</td>\n",
       "      <td>분노</td>\n",
       "      <td>노여워하는</td>\n",
       "      <td>회사에 신입이 들어왔는데 말투가 거슬려. 그런 애를 매일 봐야 한다고 생각하니까 스...</td>\n",
       "      <td>회사 동료 때문에 스트레스를 많이 받는 것 같아요. 문제 해결을 위해 어떤 노력을 ...</td>\n",
       "      <td>잘 안 맞는 사람이랑 억지로 잘 지내는 것보단 조금은 거리를 두고 예의를 갖춰서 대...</td>\n",
       "      <td>스트레스받지 않기 위해선 인간관계에 있어 약간의 거리를 두는 게 좋겠군요.</td>\n",
       "      <td>NaN</td>\n",
       "      <td>NaN</td>\n",
       "    </tr>\n",
       "  </tbody>\n",
       "</table>\n",
       "</div>"
      ],
      "text/plain": [
       "   연령  성별     상황키워드  신체질환 감정_대분류 감정_소분류  \\\n",
       "1  청년  여성  진로,취업,직장  해당없음     분노  노여워하는   \n",
       "2  청년  여성  진로,취업,직장  해당없음     분노  노여워하는   \n",
       "3  청년  여성  진로,취업,직장  해당없음     분노  노여워하는   \n",
       "\n",
       "                                               사람문장1  \\\n",
       "1                          일은 왜 해도 해도 끝이 없을까? 화가 난다.   \n",
       "2     이번 달에 또 급여가 깎였어! 물가는 오르는데 월급만 자꾸 깎이니까 너무 화가 나.   \n",
       "3  회사에 신입이 들어왔는데 말투가 거슬려. 그런 애를 매일 봐야 한다고 생각하니까 스...   \n",
       "\n",
       "                                              시스템문장1  \\\n",
       "1                        많이 힘드시겠어요. 주위에 의논할 상대가 있나요?   \n",
       "2           급여가 줄어 속상하시겠어요. 월급이 줄어든 것을 어떻게 보완하실 건가요?   \n",
       "3  회사 동료 때문에 스트레스를 많이 받는 것 같아요. 문제 해결을 위해 어떤 노력을 ...   \n",
       "\n",
       "                                               사람문장2  \\\n",
       "1                그냥 내가 해결하는 게 나아. 남들한테 부담 주고 싶지도 않고.   \n",
       "2   최대한 지출을 억제해야겠어. 월급이 줄어들었으니 고정지출을 줄일 수밖에 없을 것 같아.   \n",
       "3  잘 안 맞는 사람이랑 억지로 잘 지내는 것보단 조금은 거리를 두고 예의를 갖춰서 대...   \n",
       "\n",
       "                                           시스템문장2 사람문장3 시스템문장3  \n",
       "1  혼자 해결하기로 했군요. 혼자서 해결하기 힘들면 주위에 의논할 사람을 찾아보세요.    NaN    NaN  \n",
       "2                        월급이 줄어든 만큼 소비를 줄일 계획이군요.   NaN    NaN  \n",
       "3       스트레스받지 않기 위해선 인간관계에 있어 약간의 거리를 두는 게 좋겠군요.   NaN    NaN  "
      ]
     },
     "metadata": {},
     "output_type": "display_data"
    }
   ],
   "source": [
    "ori_1_df = pd.read_excel(f'{datasetsFilePath}corpus_train_1.xlsx',index_col=0)\n",
    "ori_2_df = pd.read_excel(f'{datasetsFilePath}corpus_train_2.xlsx',index_col=0)\n",
    "display(ori_1_df.head(3))\n",
    "display(ori_2_df.head(3))"
   ]
  },
  {
   "cell_type": "code",
   "execution_count": 8,
   "id": "0865652a-4110-4f42-8750-1b8b50ae7328",
   "metadata": {},
   "outputs": [],
   "source": [
    "ori_1_df = ori_1_df.fillna(\"\")\n",
    "ori_2_df = ori_2_df.fillna(\"\")"
   ]
  },
  {
   "cell_type": "code",
   "execution_count": 9,
   "id": "de8a7570-f103-457a-9d6a-89f71f4d060a",
   "metadata": {
    "scrolled": true
   },
   "outputs": [
    {
     "data": {
      "text/html": [
       "<div>\n",
       "<style scoped>\n",
       "    .dataframe tbody tr th:only-of-type {\n",
       "        vertical-align: middle;\n",
       "    }\n",
       "\n",
       "    .dataframe tbody tr th {\n",
       "        vertical-align: top;\n",
       "    }\n",
       "\n",
       "    .dataframe thead th {\n",
       "        text-align: right;\n",
       "    }\n",
       "</style>\n",
       "<table border=\"1\" class=\"dataframe\">\n",
       "  <thead>\n",
       "    <tr style=\"text-align: right;\">\n",
       "      <th></th>\n",
       "      <th>연령</th>\n",
       "      <th>성별</th>\n",
       "      <th>상황키워드</th>\n",
       "      <th>신체질환</th>\n",
       "      <th>감정_대분류</th>\n",
       "      <th>감정_소분류</th>\n",
       "      <th>사람문장1</th>\n",
       "      <th>시스템문장1</th>\n",
       "      <th>사람문장2</th>\n",
       "      <th>시스템문장2</th>\n",
       "      <th>사람문장3</th>\n",
       "      <th>시스템문장3</th>\n",
       "      <th>사람문장</th>\n",
       "    </tr>\n",
       "  </thead>\n",
       "  <tbody>\n",
       "    <tr>\n",
       "      <th>1</th>\n",
       "      <td>청년</td>\n",
       "      <td>남성</td>\n",
       "      <td>진로,취업,직장</td>\n",
       "      <td>해당없음</td>\n",
       "      <td>불안</td>\n",
       "      <td>두려운</td>\n",
       "      <td>이번 프로젝트에서 발표를 하는데 내가 실수하는 바람에 우리 팀이 감점을 받았어. 너...</td>\n",
       "      <td>실수하시다니 정말 미안한 마음이 크겠어요.</td>\n",
       "      <td>내 능력이 부족한 거 같은데 그만 다녀야 될거같아.</td>\n",
       "      <td>능력을 올리려면 어떤 방법이 있을까요?</td>\n",
       "      <td>퇴근 후 여가에 회사 일을 더 열심히 해서 피해가 가지 않도록 해야겠어.</td>\n",
       "      <td>꼭 좋은 결과 있길 바라요.</td>\n",
       "      <td>이번 프로젝트에서 발표를 하는데 내가 실수하는 바람에 우리 팀이 감점을 받았어. 너...</td>\n",
       "    </tr>\n",
       "    <tr>\n",
       "      <th>2</th>\n",
       "      <td>청년</td>\n",
       "      <td>남성</td>\n",
       "      <td>진로,취업,직장</td>\n",
       "      <td>해당없음</td>\n",
       "      <td>불안</td>\n",
       "      <td>두려운</td>\n",
       "      <td>회사에서 중요한 프로젝트를 혼자 하게 됐는데 솔직히 두렵고 무서워.</td>\n",
       "      <td>큰 프로젝트를 혼자 하셔서 고민이 많겠네요.</td>\n",
       "      <td>나에게 너무 크게 느껴지는 중요한 프로젝트라 버거운 느낌이 들어.</td>\n",
       "      <td>프로젝트를 잘하시기 위해서 어떤 걸 할 수 있나요?</td>\n",
       "      <td>동료 직원에게 도움을 요청해서 같이 해결해야겠어.</td>\n",
       "      <td>동료 직원에게 도움을 요청하기로 하셨군요.</td>\n",
       "      <td>회사에서 중요한 프로젝트를 혼자 하게 됐는데 솔직히 두렵고 무서워.나에게 너무 크게...</td>\n",
       "    </tr>\n",
       "    <tr>\n",
       "      <th>3</th>\n",
       "      <td>청년</td>\n",
       "      <td>남성</td>\n",
       "      <td>진로,취업,직장</td>\n",
       "      <td>해당없음</td>\n",
       "      <td>불안</td>\n",
       "      <td>두려운</td>\n",
       "      <td>상사가 너무 무섭게 생겨서 친해지는 게 너무 두려워.</td>\n",
       "      <td>직장 상사가 무섭게 생기셔서 친해지는 게 어렵군요.</td>\n",
       "      <td>무섭게 생겼는데도 업무를 보려면 친해져야 할 것 같단말이야.</td>\n",
       "      <td>상사분과 친해질 수 있는 방법은 무엇이 있을까요?</td>\n",
       "      <td>먼저 다가가서 말을 걸어볼게.</td>\n",
       "      <td>직장 상사와 친해지시면 좋겠네요.</td>\n",
       "      <td>상사가 너무 무섭게 생겨서 친해지는 게 너무 두려워.무섭게 생겼는데도 업무를 보려면...</td>\n",
       "    </tr>\n",
       "    <tr>\n",
       "      <th>4</th>\n",
       "      <td>청년</td>\n",
       "      <td>남성</td>\n",
       "      <td>진로,취업,직장</td>\n",
       "      <td>해당없음</td>\n",
       "      <td>불안</td>\n",
       "      <td>두려운</td>\n",
       "      <td>이번에 힘들게 들어간 첫 직장이거든. 첫 직장이라서 그런지 너무 긴장된다.</td>\n",
       "      <td>첫 직장이라서 정말 떨리시고 긴장되실 것 같아요.</td>\n",
       "      <td>첫 직장이어서 잘 적응을 할 수 있을지 모르겠어.</td>\n",
       "      <td>잘 적응 하시려면 무엇을 할 수 있을까요?</td>\n",
       "      <td>직장 동료와 상사들이랑 친하게 지내야겠어.</td>\n",
       "      <td>직장에 잘 적응하시길 바라요.</td>\n",
       "      <td>이번에 힘들게 들어간 첫 직장이거든. 첫 직장이라서 그런지 너무 긴장된다.첫 직장이...</td>\n",
       "    </tr>\n",
       "    <tr>\n",
       "      <th>5</th>\n",
       "      <td>청년</td>\n",
       "      <td>남성</td>\n",
       "      <td>진로,취업,직장</td>\n",
       "      <td>해당없음</td>\n",
       "      <td>불안</td>\n",
       "      <td>두려운</td>\n",
       "      <td>직장에서 동료들이랑 관계가 안 좋아질까 봐 걱정돼.</td>\n",
       "      <td>직장 사람들 관계에 대해서 고민이시군요.</td>\n",
       "      <td>내가 낯가림이 심해서 친해질 수 있을지 모르겠어.</td>\n",
       "      <td>직장 사람들과 친해지려면 무슨 방법이 있을까요?</td>\n",
       "      <td>서로 같은 취미를 공유하고 얘기를 나누다 보면 친해질 수 있을 거 같아.</td>\n",
       "      <td>직장 사람들과 좋은 관계를 가지시길 응원해요.</td>\n",
       "      <td>직장에서 동료들이랑 관계가 안 좋아질까 봐 걱정돼.내가 낯가림이 심해서 친해질 수 ...</td>\n",
       "    </tr>\n",
       "  </tbody>\n",
       "</table>\n",
       "</div>"
      ],
      "text/plain": [
       "   연령  성별     상황키워드  신체질환 감정_대분류 감정_소분류  \\\n",
       "1  청년  남성  진로,취업,직장  해당없음     불안    두려운   \n",
       "2  청년  남성  진로,취업,직장  해당없음     불안    두려운   \n",
       "3  청년  남성  진로,취업,직장  해당없음     불안    두려운   \n",
       "4  청년  남성  진로,취업,직장  해당없음     불안    두려운   \n",
       "5  청년  남성  진로,취업,직장  해당없음     불안    두려운   \n",
       "\n",
       "                                               사람문장1  \\\n",
       "1  이번 프로젝트에서 발표를 하는데 내가 실수하는 바람에 우리 팀이 감점을 받았어. 너...   \n",
       "2              회사에서 중요한 프로젝트를 혼자 하게 됐는데 솔직히 두렵고 무서워.   \n",
       "3                      상사가 너무 무섭게 생겨서 친해지는 게 너무 두려워.   \n",
       "4          이번에 힘들게 들어간 첫 직장이거든. 첫 직장이라서 그런지 너무 긴장된다.   \n",
       "5                       직장에서 동료들이랑 관계가 안 좋아질까 봐 걱정돼.   \n",
       "\n",
       "                         시스템문장1                                 사람문장2  \\\n",
       "1       실수하시다니 정말 미안한 마음이 크겠어요.          내 능력이 부족한 거 같은데 그만 다녀야 될거같아.   \n",
       "2      큰 프로젝트를 혼자 하셔서 고민이 많겠네요.  나에게 너무 크게 느껴지는 중요한 프로젝트라 버거운 느낌이 들어.   \n",
       "3  직장 상사가 무섭게 생기셔서 친해지는 게 어렵군요.     무섭게 생겼는데도 업무를 보려면 친해져야 할 것 같단말이야.   \n",
       "4   첫 직장이라서 정말 떨리시고 긴장되실 것 같아요.           첫 직장이어서 잘 적응을 할 수 있을지 모르겠어.   \n",
       "5        직장 사람들 관계에 대해서 고민이시군요.           내가 낯가림이 심해서 친해질 수 있을지 모르겠어.   \n",
       "\n",
       "                         시스템문장2                                     사람문장3  \\\n",
       "1         능력을 올리려면 어떤 방법이 있을까요?  퇴근 후 여가에 회사 일을 더 열심히 해서 피해가 가지 않도록 해야겠어.   \n",
       "2  프로젝트를 잘하시기 위해서 어떤 걸 할 수 있나요?               동료 직원에게 도움을 요청해서 같이 해결해야겠어.   \n",
       "3   상사분과 친해질 수 있는 방법은 무엇이 있을까요?                          먼저 다가가서 말을 걸어볼게.   \n",
       "4       잘 적응 하시려면 무엇을 할 수 있을까요?                   직장 동료와 상사들이랑 친하게 지내야겠어.   \n",
       "5    직장 사람들과 친해지려면 무슨 방법이 있을까요?  서로 같은 취미를 공유하고 얘기를 나누다 보면 친해질 수 있을 거 같아.   \n",
       "\n",
       "                      시스템문장3  \\\n",
       "1            꼭 좋은 결과 있길 바라요.   \n",
       "2    동료 직원에게 도움을 요청하기로 하셨군요.   \n",
       "3         직장 상사와 친해지시면 좋겠네요.   \n",
       "4           직장에 잘 적응하시길 바라요.   \n",
       "5  직장 사람들과 좋은 관계를 가지시길 응원해요.   \n",
       "\n",
       "                                                사람문장  \n",
       "1  이번 프로젝트에서 발표를 하는데 내가 실수하는 바람에 우리 팀이 감점을 받았어. 너...  \n",
       "2  회사에서 중요한 프로젝트를 혼자 하게 됐는데 솔직히 두렵고 무서워.나에게 너무 크게...  \n",
       "3  상사가 너무 무섭게 생겨서 친해지는 게 너무 두려워.무섭게 생겼는데도 업무를 보려면...  \n",
       "4  이번에 힘들게 들어간 첫 직장이거든. 첫 직장이라서 그런지 너무 긴장된다.첫 직장이...  \n",
       "5  직장에서 동료들이랑 관계가 안 좋아질까 봐 걱정돼.내가 낯가림이 심해서 친해질 수 ...  "
      ]
     },
     "metadata": {},
     "output_type": "display_data"
    },
    {
     "name": "stdout",
     "output_type": "stream",
     "text": [
      "<class 'pandas.core.frame.DataFrame'>\n",
      "Index: 58271 entries, 1 to 51630\n",
      "Data columns (total 13 columns):\n",
      " #   Column  Non-Null Count  Dtype \n",
      "---  ------  --------------  ----- \n",
      " 0   연령      58271 non-null  object\n",
      " 1   성별      58271 non-null  object\n",
      " 2   상황키워드   58271 non-null  object\n",
      " 3   신체질환    58271 non-null  object\n",
      " 4   감정_대분류  58271 non-null  object\n",
      " 5   감정_소분류  58271 non-null  object\n",
      " 6   사람문장1   58271 non-null  object\n",
      " 7   시스템문장1  58271 non-null  object\n",
      " 8   사람문장2   58271 non-null  object\n",
      " 9   시스템문장2  58271 non-null  object\n",
      " 10  사람문장3   58271 non-null  object\n",
      " 11  시스템문장3  58271 non-null  object\n",
      " 12  사람문장    58271 non-null  object\n",
      "dtypes: object(13)\n",
      "memory usage: 6.2+ MB\n"
     ]
    }
   ],
   "source": [
    "ori_1_df[\"사람문장\"] = ori_1_df[\"사람문장1\"].astype(str) + ori_1_df[\"사람문장2\"].astype(str) + ori_1_df[\"사람문장3\"].astype(str)\n",
    "ori_2_df[\"사람문장\"] = ori_2_df[\"사람문장1\"].astype(str) + ori_2_df[\"사람문장2\"].astype(str) + ori_2_df[\"사람문장3\"].astype(str)\n",
    "corpus_df = pd.concat([ori_1_df,ori_2_df])\n",
    "display(corpus_df.head(5))\n",
    "corpus_df.info()"
   ]
  },
  {
   "cell_type": "code",
   "execution_count": 10,
   "id": "148ade44-5944-4737-8bfb-d3674a73cf2e",
   "metadata": {},
   "outputs": [],
   "source": [
    "corpus_df = corpus_df[[\"사람문장\",\"감정_대분류\"]]"
   ]
  },
  {
   "cell_type": "code",
   "execution_count": 11,
   "id": "93c49c37-cd4e-4fec-a98e-7ad867ce5a73",
   "metadata": {},
   "outputs": [],
   "source": [
    "corpus_df= corpus_df.rename({\"감정_대분류\":\"감정\"},axis=1)"
   ]
  },
  {
   "cell_type": "code",
   "execution_count": 12,
   "id": "fd43b20e-e3ff-4890-83b0-ea10849210fe",
   "metadata": {},
   "outputs": [],
   "source": [
    "corpus_df[\"감정\"] = corpus_df[\"감정\"].apply(lambda x:x.strip())"
   ]
  },
  {
   "cell_type": "code",
   "execution_count": 13,
   "id": "4db12cb1-72dc-4d62-b71e-78d894553b1e",
   "metadata": {},
   "outputs": [
    {
     "data": {
      "text/plain": [
       "감정\n",
       "불안    10433\n",
       "분노    10417\n",
       "상처    10150\n",
       "슬픔    10128\n",
       "당황     9804\n",
       "기쁨     7339\n",
       "Name: count, dtype: int64"
      ]
     },
     "execution_count": 13,
     "metadata": {},
     "output_type": "execute_result"
    }
   ],
   "source": [
    "corpus_df[\"감정\"].value_counts()"
   ]
  },
  {
   "cell_type": "code",
   "execution_count": 14,
   "id": "a3450eb5-d17b-47f2-bc34-1c71686ed384",
   "metadata": {},
   "outputs": [],
   "source": [
    "corpus_df[\"감정\"]=np.where(corpus_df[\"감정\"].str.match(\"상처\"),\"슬픔\",corpus_df[\"감정\"])\n",
    "corpus_df[\"감정\"]=np.where(corpus_df[\"감정\"].str.match(\"기쁨\"),\"행복\",corpus_df[\"감정\"])"
   ]
  },
  {
   "cell_type": "code",
   "execution_count": 15,
   "id": "698493a3-e8f1-4cfb-b35c-e1661d02ea85",
   "metadata": {},
   "outputs": [],
   "source": [
    "corpus_df=corpus_df.reset_index(drop=True)"
   ]
  },
  {
   "cell_type": "code",
   "execution_count": 16,
   "id": "70db055d-b791-4f67-93db-96f4d9a0d7b7",
   "metadata": {},
   "outputs": [],
   "source": [
    "corpus_df.rename({\"사람문장\":\"발화\"},axis=1,inplace=True)"
   ]
  },
  {
   "cell_type": "code",
   "execution_count": 17,
   "id": "2dc1331a-54e9-4d33-9384-0a4f85ee93bc",
   "metadata": {},
   "outputs": [
    {
     "data": {
      "text/html": [
       "<div>\n",
       "<style scoped>\n",
       "    .dataframe tbody tr th:only-of-type {\n",
       "        vertical-align: middle;\n",
       "    }\n",
       "\n",
       "    .dataframe tbody tr th {\n",
       "        vertical-align: top;\n",
       "    }\n",
       "\n",
       "    .dataframe thead th {\n",
       "        text-align: right;\n",
       "    }\n",
       "</style>\n",
       "<table border=\"1\" class=\"dataframe\">\n",
       "  <thead>\n",
       "    <tr style=\"text-align: right;\">\n",
       "      <th></th>\n",
       "      <th>발화</th>\n",
       "      <th>감정</th>\n",
       "    </tr>\n",
       "  </thead>\n",
       "  <tbody>\n",
       "    <tr>\n",
       "      <th>0</th>\n",
       "      <td>이번 프로젝트에서 발표를 하는데 내가 실수하는 바람에 우리 팀이 감점을 받았어. 너...</td>\n",
       "      <td>불안</td>\n",
       "    </tr>\n",
       "    <tr>\n",
       "      <th>1</th>\n",
       "      <td>회사에서 중요한 프로젝트를 혼자 하게 됐는데 솔직히 두렵고 무서워.나에게 너무 크게...</td>\n",
       "      <td>불안</td>\n",
       "    </tr>\n",
       "    <tr>\n",
       "      <th>2</th>\n",
       "      <td>상사가 너무 무섭게 생겨서 친해지는 게 너무 두려워.무섭게 생겼는데도 업무를 보려면...</td>\n",
       "      <td>불안</td>\n",
       "    </tr>\n",
       "    <tr>\n",
       "      <th>3</th>\n",
       "      <td>이번에 힘들게 들어간 첫 직장이거든. 첫 직장이라서 그런지 너무 긴장된다.첫 직장이...</td>\n",
       "      <td>불안</td>\n",
       "    </tr>\n",
       "    <tr>\n",
       "      <th>4</th>\n",
       "      <td>직장에서 동료들이랑 관계가 안 좋아질까 봐 걱정돼.내가 낯가림이 심해서 친해질 수 ...</td>\n",
       "      <td>불안</td>\n",
       "    </tr>\n",
       "  </tbody>\n",
       "</table>\n",
       "</div>"
      ],
      "text/plain": [
       "                                                  발화  감정\n",
       "0  이번 프로젝트에서 발표를 하는데 내가 실수하는 바람에 우리 팀이 감점을 받았어. 너...  불안\n",
       "1  회사에서 중요한 프로젝트를 혼자 하게 됐는데 솔직히 두렵고 무서워.나에게 너무 크게...  불안\n",
       "2  상사가 너무 무섭게 생겨서 친해지는 게 너무 두려워.무섭게 생겼는데도 업무를 보려면...  불안\n",
       "3  이번에 힘들게 들어간 첫 직장이거든. 첫 직장이라서 그런지 너무 긴장된다.첫 직장이...  불안\n",
       "4  직장에서 동료들이랑 관계가 안 좋아질까 봐 걱정돼.내가 낯가림이 심해서 친해질 수 ...  불안"
      ]
     },
     "metadata": {},
     "output_type": "display_data"
    },
    {
     "name": "stdout",
     "output_type": "stream",
     "text": [
      "<class 'pandas.core.frame.DataFrame'>\n",
      "RangeIndex: 58271 entries, 0 to 58270\n",
      "Data columns (total 2 columns):\n",
      " #   Column  Non-Null Count  Dtype \n",
      "---  ------  --------------  ----- \n",
      " 0   발화      58271 non-null  object\n",
      " 1   감정      58271 non-null  object\n",
      "dtypes: object(2)\n",
      "memory usage: 910.6+ KB\n"
     ]
    }
   ],
   "source": [
    "display(corpus_df.head(5))\n",
    "corpus_df.info()"
   ]
  },
  {
   "cell_type": "markdown",
   "id": "785210be-641b-48f8-acbf-91b0b103fabf",
   "metadata": {},
   "source": [
    "## 한국어 감정 정보 연속적 대화 데이터셋\n",
    "파일 : ['dialogue_train.xlsx'](https://aihub.or.kr/aihubdata/data/view.do?dataSetSn=271)"
   ]
  },
  {
   "cell_type": "code",
   "execution_count": 18,
   "id": "649f54f1-c13f-4b26-99f8-e64bb01d8a47",
   "metadata": {},
   "outputs": [
    {
     "data": {
      "text/html": [
       "<div>\n",
       "<style scoped>\n",
       "    .dataframe tbody tr th:only-of-type {\n",
       "        vertical-align: middle;\n",
       "    }\n",
       "\n",
       "    .dataframe tbody tr th {\n",
       "        vertical-align: top;\n",
       "    }\n",
       "\n",
       "    .dataframe thead th {\n",
       "        text-align: right;\n",
       "    }\n",
       "</style>\n",
       "<table border=\"1\" class=\"dataframe\">\n",
       "  <thead>\n",
       "    <tr style=\"text-align: right;\">\n",
       "      <th></th>\n",
       "      <th>Unnamed: 0</th>\n",
       "      <th>Unnamed: 1</th>\n",
       "      <th>Unnamed: 2</th>\n",
       "      <th>Unnamed: 3</th>\n",
       "      <th>Unnamed: 4</th>\n",
       "      <th>행복</th>\n",
       "      <th>중립</th>\n",
       "      <th>슬픔</th>\n",
       "      <th>공포</th>\n",
       "      <th>혐오</th>\n",
       "      <th>분노</th>\n",
       "      <th>놀람</th>\n",
       "    </tr>\n",
       "  </thead>\n",
       "  <tbody>\n",
       "    <tr>\n",
       "      <th>0</th>\n",
       "      <td>dialog #</td>\n",
       "      <td>발화</td>\n",
       "      <td>감정</td>\n",
       "      <td>NaN</td>\n",
       "      <td>NaN</td>\n",
       "      <td>1030.0</td>\n",
       "      <td>NaN</td>\n",
       "      <td>NaN</td>\n",
       "      <td>NaN</td>\n",
       "      <td>NaN</td>\n",
       "      <td>NaN</td>\n",
       "      <td>NaN</td>\n",
       "    </tr>\n",
       "    <tr>\n",
       "      <th>1</th>\n",
       "      <td>S</td>\n",
       "      <td>아 진짜! 사무실에서 피지 말라니깐! 간접흡연이 얼마나 안좋은데!</td>\n",
       "      <td>분노</td>\n",
       "      <td>NaN</td>\n",
       "      <td>NaN</td>\n",
       "      <td>NaN</td>\n",
       "      <td>NaN</td>\n",
       "      <td>NaN</td>\n",
       "      <td>NaN</td>\n",
       "      <td>NaN</td>\n",
       "      <td>NaN</td>\n",
       "      <td>NaN</td>\n",
       "    </tr>\n",
       "    <tr>\n",
       "      <th>2</th>\n",
       "      <td>NaN</td>\n",
       "      <td>그럼 직접흡연하는 난 얼마나 안좋겠니? 안그래? 보면 꼭... 지 생각만 하고.</td>\n",
       "      <td>혐오</td>\n",
       "      <td>NaN</td>\n",
       "      <td>NaN</td>\n",
       "      <td>NaN</td>\n",
       "      <td>NaN</td>\n",
       "      <td>NaN</td>\n",
       "      <td>NaN</td>\n",
       "      <td>NaN</td>\n",
       "      <td>NaN</td>\n",
       "      <td>NaN</td>\n",
       "    </tr>\n",
       "    <tr>\n",
       "      <th>3</th>\n",
       "      <td>NaN</td>\n",
       "      <td>손님 왔어요.</td>\n",
       "      <td>중립</td>\n",
       "      <td>NaN</td>\n",
       "      <td>NaN</td>\n",
       "      <td>NaN</td>\n",
       "      <td>NaN</td>\n",
       "      <td>NaN</td>\n",
       "      <td>NaN</td>\n",
       "      <td>NaN</td>\n",
       "      <td>NaN</td>\n",
       "      <td>NaN</td>\n",
       "    </tr>\n",
       "    <tr>\n",
       "      <th>4</th>\n",
       "      <td>NaN</td>\n",
       "      <td>손님? 누구?</td>\n",
       "      <td>중립</td>\n",
       "      <td>NaN</td>\n",
       "      <td>NaN</td>\n",
       "      <td>NaN</td>\n",
       "      <td>NaN</td>\n",
       "      <td>NaN</td>\n",
       "      <td>NaN</td>\n",
       "      <td>NaN</td>\n",
       "      <td>NaN</td>\n",
       "      <td>NaN</td>\n",
       "    </tr>\n",
       "  </tbody>\n",
       "</table>\n",
       "</div>"
      ],
      "text/plain": [
       "  Unnamed: 0                                    Unnamed: 1 Unnamed: 2  \\\n",
       "0   dialog #                                            발화         감정   \n",
       "1          S          아 진짜! 사무실에서 피지 말라니깐! 간접흡연이 얼마나 안좋은데!         분노   \n",
       "2        NaN  그럼 직접흡연하는 난 얼마나 안좋겠니? 안그래? 보면 꼭... 지 생각만 하고.         혐오   \n",
       "3        NaN                                       손님 왔어요.         중립   \n",
       "4        NaN                                       손님? 누구?         중립   \n",
       "\n",
       "   Unnamed: 3  Unnamed: 4      행복  중립  슬픔  공포  혐오  분노  놀람  \n",
       "0         NaN         NaN  1030.0 NaN NaN NaN NaN NaN NaN  \n",
       "1         NaN         NaN     NaN NaN NaN NaN NaN NaN NaN  \n",
       "2         NaN         NaN     NaN NaN NaN NaN NaN NaN NaN  \n",
       "3         NaN         NaN     NaN NaN NaN NaN NaN NaN NaN  \n",
       "4         NaN         NaN     NaN NaN NaN NaN NaN NaN NaN  "
      ]
     },
     "execution_count": 18,
     "metadata": {},
     "output_type": "execute_result"
    }
   ],
   "source": [
    "dialogue_df = pd.read_excel(f'{datasetsFilePath}dialogue_train.xlsx')\n",
    "dialogue_df.head()"
   ]
  },
  {
   "cell_type": "code",
   "execution_count": 19,
   "id": "fc8f05c8-8953-498d-820b-d54db0282d0b",
   "metadata": {},
   "outputs": [
    {
     "data": {
      "text/html": [
       "<div>\n",
       "<style scoped>\n",
       "    .dataframe tbody tr th:only-of-type {\n",
       "        vertical-align: middle;\n",
       "    }\n",
       "\n",
       "    .dataframe tbody tr th {\n",
       "        vertical-align: top;\n",
       "    }\n",
       "\n",
       "    .dataframe thead th {\n",
       "        text-align: right;\n",
       "    }\n",
       "</style>\n",
       "<table border=\"1\" class=\"dataframe\">\n",
       "  <thead>\n",
       "    <tr style=\"text-align: right;\">\n",
       "      <th></th>\n",
       "      <th>발화</th>\n",
       "      <th>감정</th>\n",
       "    </tr>\n",
       "  </thead>\n",
       "  <tbody>\n",
       "    <tr>\n",
       "      <th>1</th>\n",
       "      <td>아 진짜! 사무실에서 피지 말라니깐! 간접흡연이 얼마나 안좋은데!</td>\n",
       "      <td>분노</td>\n",
       "    </tr>\n",
       "    <tr>\n",
       "      <th>2</th>\n",
       "      <td>그럼 직접흡연하는 난 얼마나 안좋겠니? 안그래? 보면 꼭... 지 생각만 하고.</td>\n",
       "      <td>혐오</td>\n",
       "    </tr>\n",
       "    <tr>\n",
       "      <th>3</th>\n",
       "      <td>손님 왔어요.</td>\n",
       "      <td>중립</td>\n",
       "    </tr>\n",
       "    <tr>\n",
       "      <th>4</th>\n",
       "      <td>손님? 누구?</td>\n",
       "      <td>중립</td>\n",
       "    </tr>\n",
       "    <tr>\n",
       "      <th>5</th>\n",
       "      <td>몰라요. 팀장님 친구래요.</td>\n",
       "      <td>중립</td>\n",
       "    </tr>\n",
       "  </tbody>\n",
       "</table>\n",
       "</div>"
      ],
      "text/plain": [
       "                                             발화  감정\n",
       "1          아 진짜! 사무실에서 피지 말라니깐! 간접흡연이 얼마나 안좋은데!  분노\n",
       "2  그럼 직접흡연하는 난 얼마나 안좋겠니? 안그래? 보면 꼭... 지 생각만 하고.  혐오\n",
       "3                                       손님 왔어요.  중립\n",
       "4                                       손님? 누구?  중립\n",
       "5                                몰라요. 팀장님 친구래요.  중립"
      ]
     },
     "execution_count": 19,
     "metadata": {},
     "output_type": "execute_result"
    }
   ],
   "source": [
    "columns = dialogue_df.iloc[0]\n",
    "dialogue_df = dialogue_df.rename(columns=columns).iloc[:,1:3]\n",
    "dialogue_df.drop(index=0,axis=0,inplace=True)\n",
    "dialogue_df.head()"
   ]
  },
  {
   "cell_type": "code",
   "execution_count": 20,
   "id": "02bb621f-8b2c-434f-a651-8947425927a6",
   "metadata": {},
   "outputs": [
    {
     "data": {
      "text/plain": [
       "감정\n",
       "중립     43786\n",
       "놀람      4866\n",
       "분노      3628\n",
       "슬픔      1972\n",
       "행복      1030\n",
       "혐오       220\n",
       "공포        98\n",
       "ㅍ         12\n",
       "분          4\n",
       "ㅈ중립        1\n",
       "중림         1\n",
       "분ㄴ         1\n",
       "ㄴ중립        1\n",
       "줄          1\n",
       "Name: count, dtype: int64"
      ]
     },
     "execution_count": 20,
     "metadata": {},
     "output_type": "execute_result"
    }
   ],
   "source": [
    "dialogue_df[\"감정\"].value_counts()"
   ]
  },
  {
   "cell_type": "code",
   "execution_count": 21,
   "id": "3073d1e1-4836-44b8-bd7e-a05d2f39f02d",
   "metadata": {},
   "outputs": [],
   "source": [
    "dialogue_df = dialogue_df[dialogue_df[\"감정\"].isin([\"중립\",\"놀람\",\"분노\",\"슬픔\",\"행복\",\"혐오\",\"공포\"])]"
   ]
  },
  {
   "cell_type": "code",
   "execution_count": 22,
   "id": "1d550f39-b4e2-4ba8-9905-f77ea5ac3f97",
   "metadata": {},
   "outputs": [],
   "source": [
    "dialogue_df[\"감정\"]=np.where(dialogue_df[\"감정\"].str.match(\"놀람\"),\"당황\",dialogue_df[\"감정\"])\n",
    "dialogue_df[\"감정\"]=np.where(dialogue_df[\"감정\"].str.match(\"공포\"),\"불안\",dialogue_df[\"감정\"])"
   ]
  },
  {
   "cell_type": "markdown",
   "id": "0e9713d9-6b9d-468a-a8e3-0504ab330304",
   "metadata": {},
   "source": [
    "## 전처리한 데이터셋 합치기"
   ]
  },
  {
   "cell_type": "code",
   "execution_count": 7,
   "id": "817940a7-d353-4609-aa6e-b0ed77733511",
   "metadata": {},
   "outputs": [
    {
     "data": {
      "text/plain": [
       "감정\n",
       "행복    6037\n",
       "분노    5665\n",
       "불안    5468\n",
       "혐오    5429\n",
       "슬픔    5267\n",
       "중립    4830\n",
       "Name: count, dtype: int64"
      ]
     },
     "execution_count": 7,
     "metadata": {},
     "output_type": "execute_result"
    }
   ],
   "source": [
    "final_df = pd.concat([single_df]) #corpus_df,dialogue_df\n",
    "final_df['감정'].value_counts()"
   ]
  },
  {
   "cell_type": "code",
   "execution_count": 8,
   "id": "a34f2cd8-22d2-4645-9132-44cab2eace84",
   "metadata": {
    "scrolled": true
   },
   "outputs": [
    {
     "data": {
      "text/html": [
       "<div>\n",
       "<style scoped>\n",
       "    .dataframe tbody tr th:only-of-type {\n",
       "        vertical-align: middle;\n",
       "    }\n",
       "\n",
       "    .dataframe tbody tr th {\n",
       "        vertical-align: top;\n",
       "    }\n",
       "\n",
       "    .dataframe thead th {\n",
       "        text-align: right;\n",
       "    }\n",
       "</style>\n",
       "<table border=\"1\" class=\"dataframe\">\n",
       "  <thead>\n",
       "    <tr style=\"text-align: right;\">\n",
       "      <th></th>\n",
       "      <th>발화</th>\n",
       "      <th>감정</th>\n",
       "    </tr>\n",
       "  </thead>\n",
       "  <tbody>\n",
       "    <tr>\n",
       "      <th>0</th>\n",
       "      <td>언니 동생으로 부르는게 맞는 일인가요..??</td>\n",
       "      <td>불안</td>\n",
       "    </tr>\n",
       "    <tr>\n",
       "      <th>1</th>\n",
       "      <td>그냥 내 느낌일뿐겠지?</td>\n",
       "      <td>불안</td>\n",
       "    </tr>\n",
       "    <tr>\n",
       "      <th>2</th>\n",
       "      <td>아직너무초기라서 그런거죠?</td>\n",
       "      <td>불안</td>\n",
       "    </tr>\n",
       "    <tr>\n",
       "      <th>3</th>\n",
       "      <td>유치원버스 사고 낫다던데</td>\n",
       "      <td>불안</td>\n",
       "    </tr>\n",
       "    <tr>\n",
       "      <th>4</th>\n",
       "      <td>근데 원래이런거맞나요</td>\n",
       "      <td>불안</td>\n",
       "    </tr>\n",
       "    <tr>\n",
       "      <th>...</th>\n",
       "      <td>...</td>\n",
       "      <td>...</td>\n",
       "    </tr>\n",
       "    <tr>\n",
       "      <th>32691</th>\n",
       "      <td>솔직히 예보 제대로 못하는 데 세금이라도 아끼게 그냥 폐지해라..</td>\n",
       "      <td>혐오</td>\n",
       "    </tr>\n",
       "    <tr>\n",
       "      <th>32692</th>\n",
       "      <td>재미가 없으니 망하지</td>\n",
       "      <td>혐오</td>\n",
       "    </tr>\n",
       "    <tr>\n",
       "      <th>32693</th>\n",
       "      <td>공장 도시락 비우생적임 아르바이트했는데 화장실가성 손도 않씯고 재료 담고 바닥 떨어...</td>\n",
       "      <td>혐오</td>\n",
       "    </tr>\n",
       "    <tr>\n",
       "      <th>32694</th>\n",
       "      <td>코딱지 만한 나라에서 지들끼리 피터지게 싸우는 센징 클래스 ㅉㅉㅉ</td>\n",
       "      <td>혐오</td>\n",
       "    </tr>\n",
       "    <tr>\n",
       "      <th>32695</th>\n",
       "      <td>와이프도 그렇고 댓글 다 볼텐데 이휘재 좀 하차 하라고 전해주세요</td>\n",
       "      <td>혐오</td>\n",
       "    </tr>\n",
       "  </tbody>\n",
       "</table>\n",
       "<p>32696 rows × 2 columns</p>\n",
       "</div>"
      ],
      "text/plain": [
       "                                                      발화  감정\n",
       "0                               언니 동생으로 부르는게 맞는 일인가요..??  불안\n",
       "1                                           그냥 내 느낌일뿐겠지?  불안\n",
       "2                                         아직너무초기라서 그런거죠?  불안\n",
       "3                                          유치원버스 사고 낫다던데  불안\n",
       "4                                            근데 원래이런거맞나요  불안\n",
       "...                                                  ...  ..\n",
       "32691               솔직히 예보 제대로 못하는 데 세금이라도 아끼게 그냥 폐지해라..  혐오\n",
       "32692                                        재미가 없으니 망하지  혐오\n",
       "32693  공장 도시락 비우생적임 아르바이트했는데 화장실가성 손도 않씯고 재료 담고 바닥 떨어...  혐오\n",
       "32694               코딱지 만한 나라에서 지들끼리 피터지게 싸우는 센징 클래스 ㅉㅉㅉ  혐오\n",
       "32695               와이프도 그렇고 댓글 다 볼텐데 이휘재 좀 하차 하라고 전해주세요  혐오\n",
       "\n",
       "[32696 rows x 2 columns]"
      ]
     },
     "metadata": {},
     "output_type": "display_data"
    }
   ],
   "source": [
    "final_df.reset_index(drop=True,inplace=True)\n",
    "display(final_df)"
   ]
  },
  {
   "cell_type": "code",
   "execution_count": 9,
   "id": "9aeac0a4-281a-4b65-aa60-fbb5f793df39",
   "metadata": {},
   "outputs": [
    {
     "name": "stderr",
     "output_type": "stream",
     "text": [
      "100%|█████████████████████████████████████████████████████████████████████████| 32696/32696 [00:00<00:00, 35758.89it/s]\n"
     ]
    }
   ],
   "source": [
    "str_lens = []\n",
    "for i in tqdm(range(len(final_df))):\n",
    "    text = final_df.iloc[i,0]\n",
    "    str_len = len(text)\n",
    "    str_lens.append(str_len)\n",
    "final_df[\"str_len\"] = str_lens"
   ]
  },
  {
   "cell_type": "code",
   "execution_count": 10,
   "id": "635076ef-df2e-452a-a8ac-4338791c60ea",
   "metadata": {},
   "outputs": [
    {
     "data": {
      "image/png": "[encoded data removed]",
      "text/plain": [
       "<Figure size 640x480 with 1 Axes>"
      ]
     },
     "metadata": {},
     "output_type": "display_data"
    }
   ],
   "source": [
    "from matplotlib import pyplot as plt\n",
    "plt.violinplot(final_df[\"str_len\"])\n",
    "plt.show()"
   ]
  },
  {
   "cell_type": "code",
   "execution_count": 11,
   "id": "3294468a-aadd-47ff-9973-5cc9779bb79f",
   "metadata": {},
   "outputs": [],
   "source": [
    "final_df = final_df[final_df[\"str_len\"] <= 64]"
   ]
  },
  {
   "cell_type": "code",
   "execution_count": 12,
   "id": "5299e49d-0d46-43fb-ba53-b99c438a3c4c",
   "metadata": {},
   "outputs": [
    {
     "data": {
      "image/png": "[encoded data removed]",
      "text/plain": [
       "<Figure size 640x480 with 1 Axes>"
      ]
     },
     "metadata": {},
     "output_type": "display_data"
    }
   ],
   "source": [
    "plt.violinplot(final_df[\"str_len\"])\n",
    "plt.show()"
   ]
  },
  {
   "cell_type": "code",
   "execution_count": 13,
   "id": "06d44251-c9dd-4036-a4f2-5dfacd4273bb",
   "metadata": {},
   "outputs": [],
   "source": [
    "final_df.to_csv(f'{datasetsFilePath}sentiment_data.csv',encoding=\"UTF8\")"
   ]
  },
  {
   "cell_type": "code",
   "execution_count": null,
   "id": "da8b38f5-3470-45a7-8458-e1ae01abfb9e",
   "metadata": {},
   "outputs": [],
   "source": []
  },
  {
   "cell_type": "code",
   "execution_count": null,
   "id": "45f0fbd9-6104-45a0-b1ad-509352445a25",
   "metadata": {},
   "outputs": [],
   "source": []
  }
 ],
 "metadata": {
  "kernelspec": {
   "display_name": "Python 3 (ipykernel)",
   "language": "python",
   "name": "python3"
  },
  "language_info": {
   "codemirror_mode": {
    "name": "ipython",
    "version": 3
   },
   "file_extension": ".py",
   "mimetype": "text/x-python",
   "name": "python",
   "nbconvert_exporter": "python",
   "pygments_lexer": "ipython3",
   "version": "3.12.9"
  }
 },
 "nbformat": 4,
 "nbformat_minor": 5
}
