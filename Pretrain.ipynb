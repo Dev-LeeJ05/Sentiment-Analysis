{
 "cells": [
  {
   "cell_type": "code",
   "execution_count": 1,
   "id": "813d1cb3-457a-4f89-93fb-306896078ba9",
   "metadata": {},
   "outputs": [],
   "source": [
    "import torch\n",
    "from torch.utils.data import Dataset, DataLoader, random_split\n",
    "from tqdm.auto import tqdm\n",
    "import math\n",
    "import unicodedata\n",
    "import re\n",
    "import gc\n",
    "import torch.nn as nn\n",
    "import torch.nn.functional as F\n",
    "from transformers import get_linear_schedule_with_warmup\n",
    "from torch.optim import AdamW\n",
    "import CustomBert\n",
    "from CustomBert import CustomBertForMaskedLM\n",
    "from CustomBert import CustomBertConfig\n",
    "from WordPieceTokenizer import WordPieceTokenizer as Tokenizer\n",
    "import os\n",
    "import matplotlib.pyplot as plt\n",
    "from datasets import load_dataset\n",
    "from PretrainDataset import TokenizedDataset\n",
    "from PretrainDataset import CustomDataCollatorForMLM"
   ]
  },
  {
   "cell_type": "code",
   "execution_count": 2,
   "id": "b5f673ef-3409-4822-a649-8b92dd780704",
   "metadata": {},
   "outputs": [],
   "source": [
    "def group_texts(examples, tokenizer, MAX_SEQUENCE_LENGTH):\n",
    "    import torch\n",
    "    concatenated_text = \" \".join(examples[\"text\"])\n",
    "\n",
    "    encoded_output = tokenizer.encode(\n",
    "        concatenated_text,\n",
    "        max_length=MAX_SEQUENCE_LENGTH,\n",
    "        truncation=True,\n",
    "        padding=True,\n",
    "        add_special_tokens=True\n",
    "    )\n",
    "    \n",
    "    return {\n",
    "        \"input_ids\": [torch.tensor(encoded_output['input_ids'], dtype=torch.long)],\n",
    "        \"attention_mask\": [torch.tensor(encoded_output['attention_mask'], dtype=torch.long)],\n",
    "        \"token_type_ids\": [torch.tensor(encoded_output['token_type_ids'], dtype=torch.long)],\n",
    "    }"
   ]
  },
  {
   "cell_type": "code",
   "execution_count": 3,
   "id": "863bebd9-614f-41c8-9446-0cf8898c4079",
   "metadata": {},
   "outputs": [
    {
     "name": "stdout",
     "output_type": "stream",
     "text": [
      "총 4개의 학습 텍스트 파일 로드 시작...\n",
      "원시 데이터셋 로드 완료. 총 29091153개의 샘플.\n",
      "총 4개의 검증 텍스트 파일 로드 시작...\n",
      "원시 데이터셋 로드 완료. 총 3554992개의 샘플.\n",
      "학습 데이터셋 토큰화 및 청킹 시작...\n",
      "29100\n",
      "검증 데이터셋 토큰화 및 청킹 시작...\n",
      "3564\n"
     ]
    }
   ],
   "source": [
    "tokenizer = Tokenizer(vocab_file_path=\"saves/vocab.txt\",do_lower_case=False,strip_accents=False,clean_text=True)\n",
    "VOCAB_SIZE = tokenizer.get_vocab_size()\n",
    "MAX_SEQUENCE_LENGTH = 64\n",
    "BATCH_SIZE = 80\n",
    "\n",
    "num_cpu_cores = os.cpu_count()\n",
    "num_processes_to_use = num_cpu_cores if num_cpu_cores is not None else 1\n",
    "\n",
    "datasetsPath = 'datasets/'\n",
    "TRAIN_TEXT_DIR = f'{datasetsPath}train'\n",
    "VAL_TEXT_DIR = f'{datasetsPath}validation'\n",
    "\n",
    "train_text_files = [os.path.join(TRAIN_TEXT_DIR, f) for f in os.listdir(TRAIN_TEXT_DIR) if f.endswith('.txt')]\n",
    "val_text_files = [os.path.join(VAL_TEXT_DIR, f) for f in os.listdir(VAL_TEXT_DIR) if f.endswith('.txt')]\n",
    "\n",
    "if not train_text_files or not val_text_files:\n",
    "    exit()\n",
    "print(f'총 {len(train_text_files)}개의 학습 텍스트 파일 로드 시작...')\n",
    "train_raw_dataset = load_dataset(\"text\", data_files={\"train\": train_text_files}, split=\"train\")\n",
    "print(f\"원시 데이터셋 로드 완료. 총 {len(train_raw_dataset)}개의 샘플.\")\n",
    "\n",
    "print(f'총 {len(val_text_files)}개의 검증 텍스트 파일 로드 시작...')\n",
    "val_raw_dataset = load_dataset(\"text\", data_files={\"validation\": val_text_files}, split=\"validation\")\n",
    "print(f\"원시 데이터셋 로드 완료. 총 {len(val_raw_dataset)}개의 샘플.\")\n",
    "    \n",
    "print('학습 데이터셋 토큰화 및 청킹 시작...')\n",
    "train_tokenized_dataset = train_raw_dataset.map(\n",
    "    group_texts,\n",
    "    batched=True,\n",
    "    num_proc=num_processes_to_use,\n",
    "    remove_columns=[\"text\"],\n",
    "    fn_kwargs={\"tokenizer\":tokenizer,\"MAX_SEQUENCE_LENGTH\":MAX_SEQUENCE_LENGTH},\n",
    "    desc=f\"맵핑 학습 데이터셋 (토큰화 및 청킹, 최대 길이 {MAX_SEQUENCE_LENGTH})\"\n",
    ")\n",
    "print(len(train_tokenized_dataset))\n",
    "\n",
    "print('검증 데이터셋 토큰화 및 청킹 시작...')\n",
    "val_tokenized_dataset = val_raw_dataset.map(\n",
    "    group_texts,\n",
    "    batched=True,\n",
    "    num_proc=num_processes_to_use,\n",
    "    remove_columns=[\"text\"],\n",
    "    fn_kwargs={\"tokenizer\":tokenizer,\"MAX_SEQUENCE_LENGTH\":MAX_SEQUENCE_LENGTH},\n",
    "    desc=f\"맵핑 검증 데이터셋 (토큰화 및 청킹, 최대 길이 {MAX_SEQUENCE_LENGTH})\"\n",
    ")\n",
    "print(len(val_tokenized_dataset))\n"
   ]
  },
  {
   "cell_type": "code",
   "execution_count": 4,
   "id": "7669d0fd-1d29-47d3-ae96-b6eb00d2a7d9",
   "metadata": {},
   "outputs": [
    {
     "name": "stdout",
     "output_type": "stream",
     "text": [
      "토큰화된 학습 데이터셋 저장 중...\n"
     ]
    },
    {
     "data": {
      "application/vnd.jupyter.widget-view+json": {
       "model_id": "d7f68c7d641a4391bcc7a9e8b60745e2",
       "version_major": 2,
       "version_minor": 0
      },
      "text/plain": [
       "Saving the dataset (0/1 shards):   0%|          | 0/29100 [00:00<?, ? examples/s]"
      ]
     },
     "metadata": {},
     "output_type": "display_data"
    },
    {
     "name": "stdout",
     "output_type": "stream",
     "text": [
      "토큰화된 데이터셋이 'datasets/tokenized_dataset/train'에 저장되었습니다.\n",
      "토큰화된 검증 데이터셋 저장 중...\n"
     ]
    },
    {
     "data": {
      "application/vnd.jupyter.widget-view+json": {
       "model_id": "722b3caf53b24c52bda763fe0f3bcbda",
       "version_major": 2,
       "version_minor": 0
      },
      "text/plain": [
       "Saving the dataset (0/1 shards):   0%|          | 0/3564 [00:00<?, ? examples/s]"
      ]
     },
     "metadata": {},
     "output_type": "display_data"
    },
    {
     "name": "stdout",
     "output_type": "stream",
     "text": [
      "토큰화된 데이터셋이 'datasets/tokenized_dataset/validation'에 저장되었습니다.\n"
     ]
    }
   ],
   "source": [
    "print(\"토큰화된 학습 데이터셋 저장 중...\")\n",
    "tokenized_dataset_path = \"datasets/tokenized_dataset/train\"\n",
    "train_tokenized_dataset.save_to_disk(tokenized_dataset_path)\n",
    "print(f\"토큰화된 데이터셋이 '{tokenized_dataset_path}'에 저장되었습니다.\")\n",
    "\n",
    "print(\"토큰화된 검증 데이터셋 저장 중...\")\n",
    "tokenized_dataset_path = \"datasets/tokenized_dataset/validation\"\n",
    "val_tokenized_dataset.save_to_disk(tokenized_dataset_path)\n",
    "print(f\"토큰화된 데이터셋이 '{tokenized_dataset_path}'에 저장되었습니다.\")"
   ]
  },
  {
   "cell_type": "code",
   "execution_count": 5,
   "id": "e3554cc2-7b65-4251-9fb6-1058516ed260",
   "metadata": {},
   "outputs": [
    {
     "name": "stdout",
     "output_type": "stream",
     "text": [
      "PyTorch DataLoader 생성 완료. 배치 크기: 80\n",
      "총 훈련 배치 수: 364\n",
      "총 검증 배치 수: 45\n"
     ]
    }
   ],
   "source": [
    "train_dataset = TokenizedDataset(train_tokenized_dataset)\n",
    "val_dataset = TokenizedDataset(val_tokenized_dataset)\n",
    "\n",
    "data_collator = CustomDataCollatorForMLM(tokenizer=tokenizer, mlm_probability=0.15)\n",
    "\n",
    "cpu_cnt = os.cpu_count()\n",
    "\n",
    "train_dataloader = DataLoader(\n",
    "    train_dataset,\n",
    "    batch_size=BATCH_SIZE,\n",
    "    shuffle=True,\n",
    "    collate_fn=data_collator,\n",
    "    num_workers=cpu_cnt,\n",
    "    pin_memory=True\n",
    ")\n",
    "\n",
    "val_dataloader = DataLoader(\n",
    "    val_dataset,\n",
    "    batch_size=BATCH_SIZE,\n",
    "    shuffle=False,\n",
    "    collate_fn=data_collator,\n",
    "    num_workers=cpu_cnt,\n",
    "    pin_memory=True\n",
    ")\n",
    "\n",
    "print(f\"PyTorch DataLoader 생성 완료. 배치 크기: {BATCH_SIZE}\")\n",
    "print(f\"총 훈련 배치 수: {len(train_dataloader)}\")\n",
    "print(f\"총 검증 배치 수: {len(val_dataloader)}\")"
   ]
  },
  {
   "cell_type": "code",
   "execution_count": 6,
   "id": "93c4dab4-1e38-41a9-99c5-c25c081c1e59",
   "metadata": {
    "scrolled": true
   },
   "outputs": [
    {
     "name": "stdout",
     "output_type": "stream",
     "text": [
      "모델 가중치 로드 중...\n",
      "모델 가중치 로드 완료.\n",
      "Custom Bert 모델 초기화 완료. 총 학습 가능 파라미터 수 : 111051208\n",
      "모델이 담긴 장치 : cuda\n"
     ]
    }
   ],
   "source": [
    "device = 'cuda' if torch.cuda.is_available() else 'cpu'\n",
    "MODEL_SAVE_PATH = \"saves/Pretrain.pt\"\n",
    "\n",
    "HIDDEN_SIZE = 768\n",
    "NUM_HIDDEN_LAYERS = 12\n",
    "NUM_ATTENTION_HEADS = 12\n",
    "INTERMEDIATE_SIZE = 3072\n",
    "TYPE_VOCAB_SIZE = 2\n",
    "DROPOUT_PROB = 0.1\n",
    "\n",
    "config = CustomBertConfig(\n",
    "    VOCAB_SIZE=VOCAB_SIZE,\n",
    "    HIDDEN_SIZE=HIDDEN_SIZE,\n",
    "    NUM_HIDDEN_LAYERS=NUM_HIDDEN_LAYERS,\n",
    "    NUM_ATTENTION_HEADS=NUM_ATTENTION_HEADS,\n",
    "    INTERMEDIATE_SIZE=INTERMEDIATE_SIZE,\n",
    "    MAX_SEQUENCE_LENGTH=MAX_SEQUENCE_LENGTH,\n",
    "    TYPE_VOCAB_SIZE=TYPE_VOCAB_SIZE,\n",
    "    DROPOUT_PROB=DROPOUT_PROB\n",
    ")\n",
    "\n",
    "model = CustomBertForMaskedLM(config)\n",
    "\n",
    "if os.path.exists(MODEL_SAVE_PATH):\n",
    "    print(\"모델 가중치 로드 중...\")\n",
    "    # 먼저 CPU에 로드한 후 모델에 로드합니다.\n",
    "    loaded_state_dict = torch.load(MODEL_SAVE_PATH, map_location='cpu')\n",
    "    model.load_state_dict(loaded_state_dict)\n",
    "    print(\"모델 가중치 로드 완료.\")\n",
    "else:\n",
    "    print(\"새로운 모델 초기화 완료. 저장된 가중치를 찾을 수 없습니다.\")\n",
    "\n",
    "model.to(device)\n",
    "\n",
    "num_params = sum(p.numel() for p in model.parameters() if p.requires_grad)\n",
    "print(f'Custom Bert 모델 초기화 완료. 총 학습 가능 파라미터 수 : {num_params}')\n",
    "print(f'모델이 담긴 장치 : {device}')"
   ]
  },
  {
   "cell_type": "code",
   "execution_count": 7,
   "id": "10e11127-8e27-444b-b211-584a36e3dc39",
   "metadata": {},
   "outputs": [
    {
     "name": "stdout",
     "output_type": "stream",
     "text": [
      "총 학습 스텝 수: 3640\n",
      "워밍업 스텝 수: 364\n"
     ]
    }
   ],
   "source": [
    "EPOCHS = 10\n",
    "LEARNING_RATE = 5e-6\n",
    "WEIGHT_DECAY = 0.001\n",
    "optimizer = AdamW(model.parameters(), lr=LEARNING_RATE, weight_decay=WEIGHT_DECAY)\n",
    "total_steps = len(train_dataloader) * EPOCHS\n",
    "WARMUP_STEPS = int(total_steps * 0.1)\n",
    "scheduler = get_linear_schedule_with_warmup(optimizer, num_warmup_steps=WARMUP_STEPS,num_training_steps=total_steps)\n",
    "print(f\"총 학습 스텝 수: {total_steps}\")\n",
    "print(f\"워밍업 스텝 수: {WARMUP_STEPS}\")"
   ]
  },
  {
   "cell_type": "code",
   "execution_count": 8,
   "id": "555ef7de-acda-461d-9bb6-e2c8fa52d1c0",
   "metadata": {},
   "outputs": [
    {
     "name": "stdout",
     "output_type": "stream",
     "text": [
      "이전 최고 검증 정확도: 0.0710 불러옴.\n",
      "\n",
      "<--- 학습 시작 ---> (10 에폭)\n"
     ]
    },
    {
     "data": {
      "application/vnd.jupyter.widget-view+json": {
       "model_id": "f6086b410d974930a411543dbc0e6849",
       "version_major": 2,
       "version_minor": 0
      },
      "text/plain": [
       "Pre-train Epoch 1:   0%|          | 0/364 [00:26<?, ?it/s]"
      ]
     },
     "metadata": {},
     "output_type": "display_data"
    },
    {
     "name": "stderr",
     "output_type": "stream",
     "text": [
      "C:\\Users\\User\\AppData\\Local\\Temp\\ipykernel_5320\\530920594.py:35: FutureWarning: `torch.cuda.amp.autocast(args...)` is deprecated. Please use `torch.amp.autocast('cuda', args...)` instead.\n",
      "  with torch.cuda.amp.autocast():\n"
     ]
    },
    {
     "name": "stdout",
     "output_type": "stream",
     "text": [
      "Pre-train Epoch 1 완료. 평균 학습 손실: 7.5585\n"
     ]
    },
    {
     "data": {
      "application/vnd.jupyter.widget-view+json": {
       "model_id": "79c268e81c784b13b15548a73fa0c75f",
       "version_major": 2,
       "version_minor": 0
      },
      "text/plain": [
       "Pre-train Epoch 1 Valid:   0%|          | 0/45 [00:24<?, ?it/s]"
      ]
     },
     "metadata": {},
     "output_type": "display_data"
    },
    {
     "name": "stderr",
     "output_type": "stream",
     "text": [
      "C:\\Users\\User\\AppData\\Local\\Temp\\ipykernel_5320\\530920594.py:74: FutureWarning: `torch.cuda.amp.autocast(args...)` is deprecated. Please use `torch.amp.autocast('cuda', args...)` instead.\n",
      "  with torch.cuda.amp.autocast():\n"
     ]
    },
    {
     "name": "stdout",
     "output_type": "stream",
     "text": [
      "Pre-train Epoch 1 완료. 평균 검증 손실: 7.5123, 검증 정확도: 6.91%\n",
      "현재 검증 정확도 (6.91%)는 최고 정확도 (7.10%)보다 낮습니다. 모델을 저장하지 않습니다.\n"
     ]
    },
    {
     "data": {
      "application/vnd.jupyter.widget-view+json": {
       "model_id": "466dc4818e1844ef9937772d36327da1",
       "version_major": 2,
       "version_minor": 0
      },
      "text/plain": [
       "Pre-train Epoch 2:   0%|          | 0/364 [00:26<?, ?it/s]"
      ]
     },
     "metadata": {},
     "output_type": "display_data"
    },
    {
     "name": "stdout",
     "output_type": "stream",
     "text": [
      "Pre-train Epoch 2 완료. 평균 학습 손실: 7.5475\n"
     ]
    },
    {
     "data": {
      "application/vnd.jupyter.widget-view+json": {
       "model_id": "e511d0a475c74cd2ad828724558226f2",
       "version_major": 2,
       "version_minor": 0
      },
      "text/plain": [
       "Pre-train Epoch 2 Valid:   0%|          | 0/45 [00:24<?, ?it/s]"
      ]
     },
     "metadata": {},
     "output_type": "display_data"
    },
    {
     "name": "stdout",
     "output_type": "stream",
     "text": [
      "Pre-train Epoch 2 완료. 평균 검증 손실: 7.5153, 검증 정확도: 6.84%\n",
      "현재 검증 정확도 (6.84%)는 최고 정확도 (7.10%)보다 낮습니다. 모델을 저장하지 않습니다.\n"
     ]
    },
    {
     "data": {
      "application/vnd.jupyter.widget-view+json": {
       "model_id": "2e3c8f7f2ba7439ca0cc22eb43d04aa3",
       "version_major": 2,
       "version_minor": 0
      },
      "text/plain": [
       "Pre-train Epoch 3:   0%|          | 0/364 [00:26<?, ?it/s]"
      ]
     },
     "metadata": {},
     "output_type": "display_data"
    },
    {
     "name": "stdout",
     "output_type": "stream",
     "text": [
      "Pre-train Epoch 3 완료. 평균 학습 손실: 7.5442\n"
     ]
    },
    {
     "data": {
      "application/vnd.jupyter.widget-view+json": {
       "model_id": "3ca09df0af464d9a905b1ded608ab5f6",
       "version_major": 2,
       "version_minor": 0
      },
      "text/plain": [
       "Pre-train Epoch 3 Valid:   0%|          | 0/45 [00:25<?, ?it/s]"
      ]
     },
     "metadata": {},
     "output_type": "display_data"
    },
    {
     "name": "stdout",
     "output_type": "stream",
     "text": [
      "Pre-train Epoch 3 완료. 평균 검증 손실: 7.5022, 검증 정확도: 7.06%\n",
      "현재 검증 정확도 (7.06%)는 최고 정확도 (7.10%)보다 낮습니다. 모델을 저장하지 않습니다.\n"
     ]
    },
    {
     "data": {
      "application/vnd.jupyter.widget-view+json": {
       "model_id": "927f6422f5404eb1b87831d6654a255d",
       "version_major": 2,
       "version_minor": 0
      },
      "text/plain": [
       "Pre-train Epoch 4:   0%|          | 0/364 [00:27<?, ?it/s]"
      ]
     },
     "metadata": {},
     "output_type": "display_data"
    },
    {
     "name": "stdout",
     "output_type": "stream",
     "text": [
      "Pre-train Epoch 4 완료. 평균 학습 손실: 7.5372\n"
     ]
    },
    {
     "data": {
      "application/vnd.jupyter.widget-view+json": {
       "model_id": "a04a15b7b9d04484b4d0d9de97c083e0",
       "version_major": 2,
       "version_minor": 0
      },
      "text/plain": [
       "Pre-train Epoch 4 Valid:   0%|          | 0/45 [00:24<?, ?it/s]"
      ]
     },
     "metadata": {},
     "output_type": "display_data"
    },
    {
     "name": "stdout",
     "output_type": "stream",
     "text": [
      "Pre-train Epoch 4 완료. 평균 검증 손실: 7.5223, 검증 정확도: 6.98%\n",
      "현재 검증 정확도 (6.98%)는 최고 정확도 (7.10%)보다 낮습니다. 모델을 저장하지 않습니다.\n"
     ]
    },
    {
     "data": {
      "application/vnd.jupyter.widget-view+json": {
       "model_id": "4e766a0a7ef7461d87f995ac2c35a8d2",
       "version_major": 2,
       "version_minor": 0
      },
      "text/plain": [
       "Pre-train Epoch 5:   0%|          | 0/364 [00:26<?, ?it/s]"
      ]
     },
     "metadata": {},
     "output_type": "display_data"
    },
    {
     "name": "stdout",
     "output_type": "stream",
     "text": [
      "Pre-train Epoch 5 완료. 평균 학습 손실: 7.5378\n"
     ]
    },
    {
     "data": {
      "application/vnd.jupyter.widget-view+json": {
       "model_id": "ec86e574a008491985cf6efe450159d2",
       "version_major": 2,
       "version_minor": 0
      },
      "text/plain": [
       "Pre-train Epoch 5 Valid:   0%|          | 0/45 [00:24<?, ?it/s]"
      ]
     },
     "metadata": {},
     "output_type": "display_data"
    },
    {
     "name": "stdout",
     "output_type": "stream",
     "text": [
      "Pre-train Epoch 5 완료. 평균 검증 손실: 7.4944, 검증 정확도: 7.09%\n",
      "현재 검증 정확도 (7.09%)는 최고 정확도 (7.10%)보다 낮습니다. 모델을 저장하지 않습니다.\n"
     ]
    },
    {
     "data": {
      "application/vnd.jupyter.widget-view+json": {
       "model_id": "3c7e47a57a66415383139b8b2a7560a9",
       "version_major": 2,
       "version_minor": 0
      },
      "text/plain": [
       "Pre-train Epoch 6:   0%|          | 0/364 [00:26<?, ?it/s]"
      ]
     },
     "metadata": {},
     "output_type": "display_data"
    },
    {
     "name": "stdout",
     "output_type": "stream",
     "text": [
      "Pre-train Epoch 6 완료. 평균 학습 손실: 7.5277\n"
     ]
    },
    {
     "data": {
      "application/vnd.jupyter.widget-view+json": {
       "model_id": "a3cba4580e0e40d0ab96e52a8594ca6f",
       "version_major": 2,
       "version_minor": 0
      },
      "text/plain": [
       "Pre-train Epoch 6 Valid:   0%|          | 0/45 [00:25<?, ?it/s]"
      ]
     },
     "metadata": {},
     "output_type": "display_data"
    },
    {
     "name": "stdout",
     "output_type": "stream",
     "text": [
      "Pre-train Epoch 6 완료. 평균 검증 손실: 7.5165, 검증 정확도: 6.73%\n",
      "현재 검증 정확도 (6.73%)는 최고 정확도 (7.10%)보다 낮습니다. 모델을 저장하지 않습니다.\n"
     ]
    },
    {
     "data": {
      "application/vnd.jupyter.widget-view+json": {
       "model_id": "48e1571cd1e441aa9439b582f4739b1f",
       "version_major": 2,
       "version_minor": 0
      },
      "text/plain": [
       "Pre-train Epoch 7:   0%|          | 0/364 [00:30<?, ?it/s]"
      ]
     },
     "metadata": {},
     "output_type": "display_data"
    },
    {
     "name": "stdout",
     "output_type": "stream",
     "text": [
      "Pre-train Epoch 7 완료. 평균 학습 손실: 7.5329\n"
     ]
    },
    {
     "data": {
      "application/vnd.jupyter.widget-view+json": {
       "model_id": "8aed4363cb01417eba48560092a4d9c8",
       "version_major": 2,
       "version_minor": 0
      },
      "text/plain": [
       "Pre-train Epoch 7 Valid:   0%|          | 0/45 [00:25<?, ?it/s]"
      ]
     },
     "metadata": {},
     "output_type": "display_data"
    },
    {
     "name": "stdout",
     "output_type": "stream",
     "text": [
      "Pre-train Epoch 7 완료. 평균 검증 손실: 7.5120, 검증 정확도: 7.06%\n",
      "현재 검증 정확도 (7.06%)는 최고 정확도 (7.10%)보다 낮습니다. 모델을 저장하지 않습니다.\n"
     ]
    },
    {
     "data": {
      "application/vnd.jupyter.widget-view+json": {
       "model_id": "6c6104df8c4d406395bef15f7df04830",
       "version_major": 2,
       "version_minor": 0
      },
      "text/plain": [
       "Pre-train Epoch 8:   0%|          | 0/364 [00:29<?, ?it/s]"
      ]
     },
     "metadata": {},
     "output_type": "display_data"
    },
    {
     "name": "stdout",
     "output_type": "stream",
     "text": [
      "Pre-train Epoch 8 완료. 평균 학습 손실: 7.5294\n"
     ]
    },
    {
     "data": {
      "application/vnd.jupyter.widget-view+json": {
       "model_id": "e8550a5e77854c399c59cdc94e6415dc",
       "version_major": 2,
       "version_minor": 0
      },
      "text/plain": [
       "Pre-train Epoch 8 Valid:   0%|          | 0/45 [00:26<?, ?it/s]"
      ]
     },
     "metadata": {},
     "output_type": "display_data"
    },
    {
     "name": "stdout",
     "output_type": "stream",
     "text": [
      "Pre-train Epoch 8 완료. 평균 검증 손실: 7.5049, 검증 정확도: 7.05%\n",
      "현재 검증 정확도 (7.05%)는 최고 정확도 (7.10%)보다 낮습니다. 모델을 저장하지 않습니다.\n"
     ]
    },
    {
     "data": {
      "application/vnd.jupyter.widget-view+json": {
       "model_id": "c78f3922ef384a7f90c452b3ae2a1a85",
       "version_major": 2,
       "version_minor": 0
      },
      "text/plain": [
       "Pre-train Epoch 9:   0%|          | 0/364 [00:29<?, ?it/s]"
      ]
     },
     "metadata": {},
     "output_type": "display_data"
    },
    {
     "name": "stdout",
     "output_type": "stream",
     "text": [
      "Pre-train Epoch 9 완료. 평균 학습 손실: 7.5299\n"
     ]
    },
    {
     "data": {
      "application/vnd.jupyter.widget-view+json": {
       "model_id": "959cf28045ce442a99b0ffbf14ef7872",
       "version_major": 2,
       "version_minor": 0
      },
      "text/plain": [
       "Pre-train Epoch 9 Valid:   0%|          | 0/45 [00:25<?, ?it/s]"
      ]
     },
     "metadata": {},
     "output_type": "display_data"
    },
    {
     "name": "stdout",
     "output_type": "stream",
     "text": [
      "Pre-train Epoch 9 완료. 평균 검증 손실: 7.5065, 검증 정확도: 6.83%\n",
      "현재 검증 정확도 (6.83%)는 최고 정확도 (7.10%)보다 낮습니다. 모델을 저장하지 않습니다.\n"
     ]
    },
    {
     "data": {
      "application/vnd.jupyter.widget-view+json": {
       "model_id": "8b825766ea96419394d63e226c9c46ab",
       "version_major": 2,
       "version_minor": 0
      },
      "text/plain": [
       "Pre-train Epoch 10:   0%|          | 0/364 [00:27<?, ?it/s]"
      ]
     },
     "metadata": {},
     "output_type": "display_data"
    },
    {
     "name": "stdout",
     "output_type": "stream",
     "text": [
      "Pre-train Epoch 10 완료. 평균 학습 손실: 7.5246\n"
     ]
    },
    {
     "data": {
      "application/vnd.jupyter.widget-view+json": {
       "model_id": "9ffd4177330e49ceb977497d965c7340",
       "version_major": 2,
       "version_minor": 0
      },
      "text/plain": [
       "Pre-train Epoch 10 Valid:   0%|          | 0/45 [00:25<?, ?it/s]"
      ]
     },
     "metadata": {},
     "output_type": "display_data"
    },
    {
     "name": "stdout",
     "output_type": "stream",
     "text": [
      "Pre-train Epoch 10 완료. 평균 검증 손실: 7.5059, 검증 정확도: 6.91%\n",
      "현재 검증 정확도 (6.91%)는 최고 정확도 (7.10%)보다 낮습니다. 모델을 저장하지 않습니다.\n",
      "\n",
      "<--- 학습 완료 --->\n"
     ]
    }
   ],
   "source": [
    "LOSS_PATH = f\"saves/Pretrain_loss.txt\"\n",
    "BEST_ACCURACY_PATH = f\"saves/Pretrain_best_accuracy.txt\"\n",
    "best_val_accuracy = 0.0\n",
    "if os.path.exists(BEST_ACCURACY_PATH):\n",
    "    with open(BEST_ACCURACY_PATH, 'r') as f:\n",
    "        content = f.read()\n",
    "        if content.strip():\n",
    "            best_val_accuracy = float(content.strip())\n",
    "            print(f\"이전 최고 검증 정확도: {best_val_accuracy:.4f} 불러옴.\")\n",
    "\n",
    "if os.path.exists(LOSS_PATH):\n",
    "    with open(LOSS_PATH,'r') as f:\n",
    "        content = f.read()\n",
    "        if content.strip():\n",
    "            prev_loss = float(content.strip())\n",
    "else:\n",
    "    prev_loss = 100\n",
    "\n",
    "train_losses = []\n",
    "train_accuarcy = []\n",
    "scaler = torch.amp.GradScaler()\n",
    "\n",
    "print(f\"\\n<--- 학습 시작 ---> ({EPOCHS} 에폭)\")\n",
    "\n",
    "for e in range(EPOCHS):\n",
    "    model.train()\n",
    "    loss_sum = 0\n",
    "    progress_bar = tqdm(train_dataloader, desc=f\"Pre-train Epoch {e+1}\")\n",
    "\n",
    "    for step, batch in enumerate(progress_bar):\n",
    "        batch = {k: v.to(device) for k, v in batch.items()}\n",
    "\n",
    "        optimizer.zero_grad()\n",
    "\n",
    "        with torch.cuda.amp.autocast():\n",
    "            outputs = model(\n",
    "                input_ids=batch[\"input_ids\"],\n",
    "                attention_mask=batch[\"attention_mask\"],\n",
    "                token_type_ids=batch[\"token_type_ids\"],\n",
    "                labels=batch[\"labels\"]\n",
    "            )\n",
    "            loss = outputs[\"loss\"]\n",
    "\n",
    "        scaler.scale(loss).backward()\n",
    "        torch.nn.utils.clip_grad_norm_(model.parameters(), max_norm=1.0)\n",
    "        scaler.step(optimizer)\n",
    "        scaler.update()\n",
    "\n",
    "        scheduler.step()\n",
    "\n",
    "        loss_sum += loss.item()\n",
    "        progress_bar.set_postfix({'train_loss': f\"{(loss_sum/(step+1)):.4f}\"})\n",
    "\n",
    "        del outputs, loss\n",
    "        if 'cuda' in str(device):\n",
    "            torch.cuda.empty_cache()\n",
    "        gc.collect()\n",
    "\n",
    "    avg_train_loss = loss_sum / len(train_dataloader)\n",
    "    train_losses.append(avg_train_loss)\n",
    "\n",
    "    print(f\"Pre-train Epoch {e+1} 완료. 평균 학습 손실: {avg_train_loss:.4f}\")\n",
    "\n",
    "    model.eval()\n",
    "    total_val_loss = 0\n",
    "    correct_predictions = 0\n",
    "    total_predictions = 0\n",
    "    val_progressbar = tqdm(val_dataloader, desc=f\"Pre-train Epoch {e+1} Valid\")\n",
    "    \n",
    "    with torch.no_grad():\n",
    "        for step, batch in enumerate(val_progressbar):        \n",
    "            batch = {k: v.to(device) for k, v in batch.items()}\n",
    "\n",
    "            with torch.cuda.amp.autocast():\n",
    "                outputs = model(\n",
    "                    input_ids=batch[\"input_ids\"],\n",
    "                    attention_mask=batch[\"attention_mask\"],\n",
    "                    token_type_ids=batch[\"token_type_ids\"],\n",
    "                    labels=batch[\"labels\"]\n",
    "                )\n",
    "                loss = outputs[\"loss\"]\n",
    "                logits = outputs[\"logits\"]\n",
    "                \n",
    "            total_val_loss += loss.item()\n",
    "            predictions = torch.argmax(logits, dim=-1)\n",
    "\n",
    "            active_labels = batch[\"labels\"].view(-1)\n",
    "            active_predictions = predictions.view(-1)\n",
    "\n",
    "            mask = (active_labels != -100)\n",
    "\n",
    "            correct_predictions += (active_predictions[mask] == active_labels[mask]).sum().item()\n",
    "            total_predictions += mask.sum().item()\n",
    "\n",
    "            val_progressbar.set_postfix({'val_loss': f\"{(total_val_loss/(step+1)):.4f}\"})\n",
    "\n",
    "            del outputs, loss, logits, predictions, active_labels, active_predictions, mask # 메모리 해제\n",
    "            if 'cuda' in str(device):\n",
    "                torch.cuda.empty_cache()\n",
    "            gc.collect()\n",
    "        avg_val_loss = total_val_loss / len(val_dataloader)\n",
    "        val_accuracy = correct_predictions / total_predictions if total_predictions > 0 else 0.0\n",
    "\n",
    "        train_accuarcy.append(val_accuracy)\n",
    "        print(f\"Pre-train Epoch {e+1} 완료. 평균 검증 손실: {avg_val_loss:.4f}, 검증 정확도: {(val_accuracy*100):.2f}%\")\n",
    "\n",
    "        if val_accuracy > best_val_accuracy:\n",
    "            torch.save(model.state_dict(), MODEL_SAVE_PATH)\n",
    "            best_val_accuracy = val_accuracy\n",
    "            print(f\"새로운 최고 검증 정확도 {(best_val_accuracy*100):.2f}% 달성! 모델 가중치 '{MODEL_SAVE_PATH}' 저장 완료.\")\n",
    "            \n",
    "            with open(BEST_ACCURACY_PATH, 'w') as f:\n",
    "                f.write(str(best_val_accuracy))\n",
    "            print(f\"최고 검증 정확도 '{BEST_ACCURACY_PATH}' 저장 완료.\")\n",
    "        else:\n",
    "            print(f\"현재 검증 정확도 ({(val_accuracy*100):.2f}%)는 최고 정확도 ({(best_val_accuracy*100):.2f}%)보다 낮습니다. 모델을 저장하지 않습니다.\")\n",
    "\n",
    "print(\"\\n<--- 학습 완료 --->\")"
   ]
  },
  {
   "cell_type": "code",
   "execution_count": 9,
   "id": "608baac4-d751-49b3-acad-39f2636c7355",
   "metadata": {},
   "outputs": [
    {
     "data": {
      "image/png": "[encoded data removed]",
      "text/plain": [
       "<Figure size 1000x600 with 1 Axes>"
      ]
     },
     "metadata": {},
     "output_type": "display_data"
    }
   ],
   "source": [
    "plt.figure(figsize=(10, 6))\n",
    "plt.plot(range(1, EPOCHS + 1), train_losses, marker='o', linestyle='-', color='b')\n",
    "plt.title('Pre-training Learning Curve')\n",
    "plt.xlabel('Epoch')\n",
    "plt.ylabel('Average Training Loss')\n",
    "plt.grid(True)\n",
    "plt.xticks(range(1, EPOCHS + 1))\n",
    "plt.show()"
   ]
  },
  {
   "cell_type": "code",
   "execution_count": 10,
   "id": "851cb92a-fcfa-4bd9-82cd-08fce423ff94",
   "metadata": {},
   "outputs": [
    {
     "data": {
      "image/png": "[encoded data removed]",
      "text/plain": [
       "<Figure size 1000x600 with 1 Axes>"
      ]
     },
     "metadata": {},
     "output_type": "display_data"
    }
   ],
   "source": [
    "plt.figure(figsize=(10, 6))\n",
    "plt.plot(range(1, EPOCHS + 1), train_accuarcy, marker='o', linestyle='-', color='b')\n",
    "plt.title('Pre-training Learning Curve')\n",
    "plt.xlabel('Epoch')\n",
    "plt.ylabel('Average Training Accuarcy')\n",
    "plt.grid(True)\n",
    "plt.xticks(range(1, EPOCHS + 1))\n",
    "plt.show()"
   ]
  },
  {
   "cell_type": "code",
   "execution_count": 11,
   "id": "6c98a5ff-7954-4736-856d-dc40f1873ef0",
   "metadata": {},
   "outputs": [
    {
     "name": "stdout",
     "output_type": "stream",
     "text": [
      "[7.55851982321058, 7.547531754105956, 7.544151843249143, 7.53723005934076, 7.537764372406425, 7.527661753224803, 7.532924923267993, 7.529376159657489, 7.529903947652041, 7.524642094151004]\n"
     ]
    }
   ],
   "source": [
    "print(train_losses)"
   ]
  },
  {
   "cell_type": "code",
   "execution_count": 12,
   "id": "2b19d72d-cdc9-47c8-a594-c72ff993c832",
   "metadata": {},
   "outputs": [
    {
     "name": "stdout",
     "output_type": "stream",
     "text": [
      "[0.06907841421115757, 0.06841292315613336, 0.07058861536473476, 0.06984986146014563, 0.07086765601461585, 0.06730614478385424, 0.07056321690939554, 0.07052308086305141, 0.06828745084018592, 0.069129763130793]\n"
     ]
    }
   ],
   "source": [
    "print(train_accuarcy)"
   ]
  },
  {
   "cell_type": "code",
   "execution_count": 13,
   "id": "1ab15d5e-a71b-47df-ba60-34b68c1ca6e5",
   "metadata": {},
   "outputs": [],
   "source": [
    "torch.save(model.state_dict(), MODEL_SAVE_PATH)"
   ]
  },
  {
   "cell_type": "code",
   "execution_count": null,
   "id": "0530767c-1f11-4c81-ab57-55d07716b47e",
   "metadata": {},
   "outputs": [],
   "source": []
  }
 ],
 "metadata": {
  "kernelspec": {
   "display_name": "Python 3 (ipykernel)",
   "language": "python",
   "name": "python3"
  },
  "language_info": {
   "codemirror_mode": {
    "name": "ipython",
    "version": 3
   },
   "file_extension": ".py",
   "mimetype": "text/x-python",
   "name": "python",
   "nbconvert_exporter": "python",
   "pygments_lexer": "ipython3",
   "version": "3.9.23"
  }
 },
 "nbformat": 4,
 "nbformat_minor": 5
}
