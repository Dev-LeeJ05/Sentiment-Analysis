{
 "cells": [
  {
   "cell_type": "code",
   "execution_count": 1,
   "id": "6b653458-f016-4c42-91dd-df988f931ca2",
   "metadata": {},
   "outputs": [],
   "source": [
    "import os\n",
    "import torch\n",
    "from torch.utils.data import DataLoader, Dataset\n",
    "from transformers import BertForSequenceClassification, BertConfig, get_linear_schedule_with_warmup\n",
    "from datasets import load_dataset\n",
    "from torch.optim import AdamW\n",
    "from tqdm import tqdm\n",
    "from sklearn.metrics import accuracy_score, f1_score\n",
    "import shutil\n",
    "import unicodedata\n",
    "from WordPieceTokenizer import WordPieceTokenizer\n",
    "\n",
    "MAX_SEQUENCE_LENGTH = 128\n",
    "FINE_TUNE_BATCH_SIZE = 16 # 파인튜닝 시 배치 크기\n",
    "FINE_TUNE_EPOCHS = 3 # 파인튜닝 에폭\n",
    "FINE_TUNE_LR = 5e-5 # 파인튜닝 학습률\n",
    "\n",
    "MODEL_PATH = \"./Pretrained\"\n",
    "VOCAB_FILE_PATH = os.path.join(MODEL_PATH, 'vocab.txt')"
   ]
  },
  {
   "cell_type": "code",
   "execution_count": 2,
   "id": "394d6a59-2a90-4ff4-9c74-f6a5629c52de",
   "metadata": {},
   "outputs": [],
   "source": [
    "class IMDbDataset(torch.utils.data.Dataset):\n",
    "    def __init__(self, tokenized_dataset):\n",
    "        self.input_ids = torch.tensor(tokenized_dataset[\"input_ids\"], dtype=torch.long)\n",
    "        self.attention_mask = torch.tensor(tokenized_dataset[\"attention_mask\"], dtype=torch.long)\n",
    "        self.token_type_ids = torch.tensor(tokenized_dataset[\"token_type_ids\"], dtype=torch.long)\n",
    "        self.labels = torch.tensor(tokenized_dataset[\"label\"], dtype=torch.long)\n",
    "\n",
    "    def __len__(self):\n",
    "        return len(self.labels)\n",
    "\n",
    "    def __getitem__(self, idx):\n",
    "        return {\n",
    "            \"input_ids\": self.input_ids[idx],\n",
    "            \"attention_mask\": self.attention_mask[idx],\n",
    "            \"token_type_ids\": self.token_type_ids[idx],\n",
    "            \"labels\": self.labels[idx]\n",
    "        }"
   ]
  },
  {
   "cell_type": "code",
   "execution_count": 3,
   "id": "96c70418-e973-47fa-9e7e-e6d25c1393f2",
   "metadata": {},
   "outputs": [
    {
     "name": "stdout",
     "output_type": "stream",
     "text": [
      "사용자 정의 WordPieceTokenizer 로드 중...\n",
      "사용자 정의 WordPieceTokenizer 로드 완료. 어휘집 크기: 32000\n",
      "모델을 'cuda' 장치로 로드하고 파인튜닝을 시작합니다.\n",
      "IMDb 데이터셋 로드 중...\n",
      "IMDb 데이터셋 로드 완료.\n",
      "IMDb 데이터셋 토큰화 중...\n",
      "IMDb 데이터셋 토큰화 완료.\n"
     ]
    }
   ],
   "source": [
    "# 사용자 정의 토크나이저 로드\n",
    "print(\"사용자 정의 WordPieceTokenizer 로드 중...\")\n",
    "try:\n",
    "    tokenizer = WordPieceTokenizer(vocab_file_path=VOCAB_FILE_PATH, do_lower_case=False, strip_accents=False, clean_text=True)\n",
    "    print(f\"사용자 정의 WordPieceTokenizer 로드 완료. 어휘집 크기: {tokenizer.get_vocab_size()}\")\n",
    "except Exception as e:\n",
    "    print(f\"오류: 토크나이저 로드 중 오류 발생: {e}\")\n",
    "    print(f\"오류: '{VOCAB_FILE_PATH}' 파일이 '{MODEL_PATH}'에 올바르게 존재하는지 확인하세요.\")\n",
    "    exit()\n",
    "    \n",
    "# GPU 사용 설정\n",
    "device = torch.device(\"cuda\" if torch.cuda.is_available() else \"cpu\")\n",
    "print(f\"모델을 '{device}' 장치로 로드하고 파인튜닝을 시작합니다.\")\n",
    "\n",
    "# --- 4. IMDb 데이터셋 로드 및 전처리 ---\n",
    "print(\"IMDb 데이터셋 로드 중...\")\n",
    "raw_imdb_dataset = load_dataset(\"imdb\")\n",
    "print(\"IMDb 데이터셋 로드 완료.\")\n",
    "\n",
    "def tokenize_function(examples):\n",
    "    encoded_batch = {\n",
    "        \"input_ids\": [],\n",
    "        \"attention_mask\": [],\n",
    "        \"token_type_ids\": []\n",
    "    }\n",
    "\n",
    "    for text_item in examples[\"text\"]:\n",
    "        if not isinstance(text_item, str):\n",
    "            print(f\"경고: 예상치 못한 데이터 타입 발견: {type(text_item)}. 빈 문자열로 대체합니다.\")\n",
    "            text_item = \"\"\n",
    "\n",
    "        encoded_input = tokenizer.encode(\n",
    "            text_item,\n",
    "            max_length=MAX_SEQUENCE_LENGTH,\n",
    "            truncation=True,\n",
    "            padding=\"max_length\"\n",
    "        )\n",
    "        encoded_batch[\"input_ids\"].append(encoded_input[\"input_ids\"])\n",
    "        encoded_batch[\"attention_mask\"].append(encoded_input[\"attention_mask\"])\n",
    "        encoded_batch[\"token_type_ids\"].append(encoded_input[\"token_type_ids\"])\n",
    "    \n",
    "    return encoded_batch\n",
    "\n",
    "print(\"IMDb 데이터셋 토큰화 중...\")\n",
    "tokenized_imdb_dataset = raw_imdb_dataset.map(\n",
    "    tokenize_function,\n",
    "    batched=True,\n",
    "    num_proc=1,\n",
    "    remove_columns=[\"text\"]\n",
    ")\n",
    "print(\"IMDb 데이터셋 토큰화 완료.\")\n"
   ]
  },
  {
   "cell_type": "code",
   "execution_count": 4,
   "id": "d19826d0-7c1f-4da8-96bf-f93924197c31",
   "metadata": {},
   "outputs": [
    {
     "name": "stdout",
     "output_type": "stream",
     "text": [
      "IMDb 학습 데이터로더 준비 완료 (배치 크기: 16)\n",
      "IMDb 평가 데이터로더 준비 완료 (배치 크기: 16)\n"
     ]
    }
   ],
   "source": [
    "train_imdb_dataset = IMDbDataset(tokenized_imdb_dataset[\"train\"])\n",
    "eval_imdb_dataset = IMDbDataset(tokenized_imdb_dataset[\"test\"])\n",
    "\n",
    "train_dataloader = DataLoader(train_imdb_dataset, shuffle=True, batch_size=FINE_TUNE_BATCH_SIZE)\n",
    "eval_dataloader = DataLoader(eval_imdb_dataset, shuffle=False, batch_size=FINE_TUNE_BATCH_SIZE)\n",
    "\n",
    "print(f\"IMDb 학습 데이터로더 준비 완료 (배치 크기: {FINE_TUNE_BATCH_SIZE})\")\n",
    "print(f\"IMDb 평가 데이터로더 준비 완료 (배치 크기: {FINE_TUNE_BATCH_SIZE})\")\n",
    "\n"
   ]
  },
  {
   "cell_type": "code",
   "execution_count": 5,
   "id": "41c95c0f-0219-48ec-a1f2-201c3f6055d4",
   "metadata": {},
   "outputs": [
    {
     "name": "stderr",
     "output_type": "stream",
     "text": [
      "Some weights of BertForSequenceClassification were not initialized from the model checkpoint at ./Pretrained and are newly initialized: ['bert.pooler.dense.bias', 'bert.pooler.dense.weight', 'classifier.bias', 'classifier.weight']\n",
      "You should probably TRAIN this model on a down-stream task to be able to use it for predictions and inference.\n"
     ]
    },
    {
     "name": "stdout",
     "output_type": "stream",
     "text": [
      "'./Pretrained'에서 사전 학습된 모델 로드 중...\n",
      "모델 로드 완료.\n"
     ]
    }
   ],
   "source": [
    "# --- 5. 모델 로드 및 파인튜닝 준비 ---\n",
    "print(f\"'{MODEL_PATH}'에서 사전 학습된 모델 로드 중...\")\n",
    "# BertForSequenceClassification은 Classification 헤드가 추가됩니다.\n",
    "# num_labels는 IMDb 데이터셋의 클래스 수 (긍정/부정 = 2)\n",
    "model = BertForSequenceClassification.from_pretrained(MODEL_PATH, num_labels=2)\n",
    "model.to(device)\n",
    "print(\"모델 로드 완료.\")\n",
    "\n",
    "optimizer = AdamW(model.parameters(), lr=FINE_TUNE_LR)\n",
    "total_steps = len(train_dataloader) * FINE_TUNE_EPOCHS\n",
    "scheduler = get_linear_schedule_with_warmup(optimizer, num_warmup_steps=0, num_training_steps=total_steps)\n",
    "\n"
   ]
  },
  {
   "cell_type": "code",
   "execution_count": 6,
   "id": "99cd3947-c744-450e-a50f-bfd88d2f5526",
   "metadata": {},
   "outputs": [
    {
     "name": "stdout",
     "output_type": "stream",
     "text": [
      "\n",
      "--- 모델 파인튜닝 시작 (3 에폭) ---\n"
     ]
    },
    {
     "name": "stderr",
     "output_type": "stream",
     "text": [
      "Fine-tune Epoch 1: 100%|██████████████████████████████████████████████| 1563/1563 [07:02<00:00,  3.70it/s, loss=0.6349]\n"
     ]
    },
    {
     "name": "stdout",
     "output_type": "stream",
     "text": [
      "Fine-tune Epoch 1 완료. 평균 학습 손실: 0.5948\n"
     ]
    },
    {
     "name": "stderr",
     "output_type": "stream",
     "text": [
      "Fine-tune Epoch 2: 100%|██████████████████████████████████████████████| 1563/1563 [09:01<00:00,  2.89it/s, loss=0.3630]\n"
     ]
    },
    {
     "name": "stdout",
     "output_type": "stream",
     "text": [
      "Fine-tune Epoch 2 완료. 평균 학습 손실: 0.5078\n"
     ]
    },
    {
     "name": "stderr",
     "output_type": "stream",
     "text": [
      "Fine-tune Epoch 3: 100%|██████████████████████████████████████████████| 1563/1563 [05:12<00:00,  5.00it/s, loss=0.5637]"
     ]
    },
    {
     "name": "stdout",
     "output_type": "stream",
     "text": [
      "Fine-tune Epoch 3 완료. 평균 학습 손실: 0.4368\n",
      "\n",
      "--- 파인튜닝 완료. 모델 평가 시작 ---\n"
     ]
    },
    {
     "name": "stderr",
     "output_type": "stream",
     "text": [
      "\n"
     ]
    }
   ],
   "source": [
    "# --- 6. 모델 파인튜닝 ---\n",
    "print(f\"\\n--- 모델 파인튜닝 시작 ({FINE_TUNE_EPOCHS} 에폭) ---\")\n",
    "model.train()\n",
    "for epoch in range(FINE_TUNE_EPOCHS):\n",
    "    total_loss = 0\n",
    "    progress_bar = tqdm(train_dataloader, desc=f\"Fine-tune Epoch {epoch+1}\")\n",
    "    for step, batch in enumerate(progress_bar):\n",
    "        batch = {k: v.to(device) for k, v in batch.items()}\n",
    "        \n",
    "        outputs = model(**batc h)\n",
    "        loss = outputs.loss\n",
    "\n",
    "        loss.backward()\n",
    "        torch.nn.utils.clip_grad_norm_(model.parameters(), 1.0)\n",
    "        optimizer.step()\n",
    "        scheduler.step()\n",
    "        optimizer.zero_grad()\n",
    "\n",
    "        total_loss += loss.item()\n",
    "        progress_bar.set_postfix({'loss': f'{loss.item():.4f}'})\n",
    "\n",
    "    avg_train_loss = total_loss / len(train_dataloader)\n",
    "    print(f\"Fine-tune Epoch {epoch+1} 완료. 평균 학습 손실: {avg_train_loss:.4f}\")\n",
    "\n",
    "print(\"\\n--- 파인튜닝 완료. 모델 평가 시작 ---\")\n",
    "\n"
   ]
  },
  {
   "cell_type": "code",
   "execution_count": 8,
   "id": "da5121c2-9398-481d-b4e1-7ca0e2057116",
   "metadata": {},
   "outputs": [
    {
     "name": "stderr",
     "output_type": "stream",
     "text": [
      "Evaluating: 100%|██████████████████████████████████████████████████████████████████| 1563/1563 [01:25<00:00, 18.33it/s]"
     ]
    },
    {
     "name": "stdout",
     "output_type": "stream",
     "text": [
      "\n",
      "===== 모델 평가 결과 =====\n",
      "정확도 (Accuracy): 0.7704\n",
      "F1 점수 (F1-Score): 0.7763\n",
      "=========================\n",
      "\n",
      "[참고]: 이 성능은 여러분의 사전 학습 모델의 품질, 파인튜닝 데이터셋의 크기, 파인튜닝 하이퍼파라미터에 따라 크게 달라집니다.\n",
      "베이스라인 성능과 비교하기 위해 Hugging Face의 `bert-base-uncased` 모델을 IMDb에 파인튜닝했을 때의 성능과 비교해 볼 수 있습니다.\n"
     ]
    },
    {
     "name": "stderr",
     "output_type": "stream",
     "text": [
      "\n"
     ]
    }
   ],
   "source": [
    "# --- 7. 모델 평가 ---\n",
    "model.eval()\n",
    "predictions = []\n",
    "true_labels = []\n",
    "\n",
    "eval_progress_bar = tqdm(eval_dataloader, desc=\"Evaluating\")\n",
    "for batch in eval_progress_bar:\n",
    "    batch = {k: v.to(device) for k, v in batch.items()}\n",
    "    \n",
    "    with torch.no_grad():\n",
    "        outputs = model(**batch)\n",
    "    \n",
    "    logits = outputs.logits\n",
    "    preds = torch.argmax(logits, dim=-1)\n",
    "\n",
    "    predictions.extend(preds.cpu().numpy())\n",
    "    true_labels.extend(batch[\"labels\"].cpu().numpy())\n",
    "\n",
    "accuracy = accuracy_score(true_labels, predictions)\n",
    "f1 = f1_score(true_labels, predictions, average='binary') # IMDb는 이진 분류\n",
    "\n",
    "print(f\"\\n===== 모델 평가 결과 =====\")\n",
    "print(f\"정확도 (Accuracy): {accuracy:.4f}\")\n",
    "print(f\"F1 점수 (F1-Score): {f1:.4f}\")\n",
    "print(f\"=========================\")"
   ]
  },
  {
   "cell_type": "code",
   "execution_count": 9,
   "id": "0f479937-b2bf-4f2a-8e0e-c6745a0bdfd4",
   "metadata": {},
   "outputs": [],
   "source": [
    "torch.save(model.state_dict(),\"saves/Pretrain.pt\")"
   ]
  },
  {
   "cell_type": "code",
   "execution_count": null,
   "id": "2512de33-1dae-4cf5-9ffd-58a0b84171e8",
   "metadata": {},
   "outputs": [],
   "source": []
  }
 ],
 "metadata": {
  "kernelspec": {
   "display_name": "Python 3 (ipykernel)",
   "language": "python",
   "name": "python3"
  },
  "language_info": {
   "codemirror_mode": {
    "name": "ipython",
    "version": 3
   },
   "file_extension": ".py",
   "mimetype": "text/x-python",
   "name": "python",
   "nbconvert_exporter": "python",
   "pygments_lexer": "ipython3",
   "version": "3.12.9"
  }
 },
 "nbformat": 4,
 "nbformat_minor": 5
}
