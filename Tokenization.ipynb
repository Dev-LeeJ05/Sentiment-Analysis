{
 "cells": [
  {
   "cell_type": "code",
   "execution_count": 1,
   "id": "b86d9f44-871e-4803-87d5-d2100f9ca9ed",
   "metadata": {},
   "outputs": [],
   "source": [
    "import re\n",
    "import os\n",
    "from tqdm import tqdm\n",
    "import pandas as pd\n",
    "import VocabBuilder\n",
    "from WordPieceTokenizer import WordPieceTokenizer\n",
    "\n",
    "datasetsFilePath = \"datasets/\""
   ]
  },
  {
   "cell_type": "code",
   "execution_count": 2,
   "id": "760c2143-7e1a-4a08-bfd6-16de644a5488",
   "metadata": {},
   "outputs": [
    {
     "data": {
      "text/html": [
       "<div>\n",
       "<style scoped>\n",
       "    .dataframe tbody tr th:only-of-type {\n",
       "        vertical-align: middle;\n",
       "    }\n",
       "\n",
       "    .dataframe tbody tr th {\n",
       "        vertical-align: top;\n",
       "    }\n",
       "\n",
       "    .dataframe thead th {\n",
       "        text-align: right;\n",
       "    }\n",
       "</style>\n",
       "<table border=\"1\" class=\"dataframe\">\n",
       "  <thead>\n",
       "    <tr style=\"text-align: right;\">\n",
       "      <th></th>\n",
       "      <th>발화</th>\n",
       "      <th>감정</th>\n",
       "      <th>str_len</th>\n",
       "    </tr>\n",
       "  </thead>\n",
       "  <tbody>\n",
       "    <tr>\n",
       "      <th>0</th>\n",
       "      <td>언니 동생으로 부르는게 맞는 일인가요..??</td>\n",
       "      <td>불안</td>\n",
       "      <td>24</td>\n",
       "    </tr>\n",
       "    <tr>\n",
       "      <th>1</th>\n",
       "      <td>그냥 내 느낌일뿐겠지?</td>\n",
       "      <td>불안</td>\n",
       "      <td>12</td>\n",
       "    </tr>\n",
       "    <tr>\n",
       "      <th>2</th>\n",
       "      <td>아직너무초기라서 그런거죠?</td>\n",
       "      <td>불안</td>\n",
       "      <td>14</td>\n",
       "    </tr>\n",
       "    <tr>\n",
       "      <th>3</th>\n",
       "      <td>유치원버스 사고 낫다던데</td>\n",
       "      <td>불안</td>\n",
       "      <td>13</td>\n",
       "    </tr>\n",
       "    <tr>\n",
       "      <th>4</th>\n",
       "      <td>근데 원래이런거맞나요</td>\n",
       "      <td>불안</td>\n",
       "      <td>11</td>\n",
       "    </tr>\n",
       "  </tbody>\n",
       "</table>\n",
       "</div>"
      ],
      "text/plain": [
       "                         발화  감정  str_len\n",
       "0  언니 동생으로 부르는게 맞는 일인가요..??  불안       24\n",
       "1              그냥 내 느낌일뿐겠지?  불안       12\n",
       "2            아직너무초기라서 그런거죠?  불안       14\n",
       "3             유치원버스 사고 낫다던데  불안       13\n",
       "4               근데 원래이런거맞나요  불안       11"
      ]
     },
     "execution_count": 2,
     "metadata": {},
     "output_type": "execute_result"
    }
   ],
   "source": [
    "df = pd.read_csv(f'{datasetsFilePath}sentiment_data.csv',index_col=0)\n",
    "df.head()"
   ]
  },
  {
   "cell_type": "markdown",
   "id": "c3470f15-571f-425c-b595-ea01272c1e04",
   "metadata": {},
   "source": [
    "# 한글 전처리"
   ]
  },
  {
   "cell_type": "code",
   "execution_count": 3,
   "id": "2ad04804-8055-42aa-b29a-cf4fcf55d89c",
   "metadata": {},
   "outputs": [],
   "source": [
    "def text_preprocess_kor_for_wordpiece(text : str) :\n",
    "    text = str(text)\n",
    "\n",
    "    text = re.sub(r'http\\S+|www.\\S+', '', text)\n",
    "    text = re.sub(r'\\S*@\\S*\\s?', '', text)\n",
    "    text = re.sub(r'<[^>]*>', '', text)\n",
    "    \n",
    "    target = r\"[^가-힣0-9a-zA-Z.,!?'\\\" ]\"\n",
    "    text = re.sub(target, repl=\" \", string=text)\n",
    "\n",
    "    text = re.sub(r'([.,!?\"\\'])(\\1{1,})', r'\\1', text)\n",
    "\n",
    "    text = re.sub(r'([ㄱ-ㅎㅏ-ㅣ])\\1+', r'\\1', text)\n",
    "\n",
    "    text = re.sub(r'\\d+', '', text)\n",
    "\n",
    "    text = re.sub(r\"\\s+\", repl=\" \", string=text)\n",
    "    \n",
    "    return text.strip()"
   ]
  },
  {
   "cell_type": "code",
   "execution_count": 4,
   "id": "a11fbd47-203d-41ef-9cd6-578726b15e60",
   "metadata": {},
   "outputs": [
    {
     "name": "stderr",
     "output_type": "stream",
     "text": [
      "100%|█████████████████████████████████████████████████████████████████████████| 146348/146348 [07:40<00:00, 317.67it/s]\n"
     ]
    }
   ],
   "source": [
    "for i in tqdm(range(len(df))):\n",
    "    text = df.iloc[i,0]\n",
    "    text = text_preprocess_kor_for_wordpiece(text)\n",
    "    df.iloc[i,0] = text"
   ]
  },
  {
   "cell_type": "code",
   "execution_count": 5,
   "id": "c63b5ea0-8218-4a1e-91c2-b561767a3de2",
   "metadata": {},
   "outputs": [
    {
     "name": "stdout",
     "output_type": "stream",
     "text": [
      "'발화' 컬럼의 텍스트를 'datasets/sentiment_data.txt' 에 저장 중...\n",
      "텍스트 저장 완료: 총 146348개 항목 중 유효한 텍스트 저장됨.\n"
     ]
    }
   ],
   "source": [
    "file = f'{datasetsFilePath}sentiment_data.txt'\n",
    "VocabBuilder.SaveDataFrameTextsTo_txt(df,\"발화\",file)"
   ]
  },
  {
   "cell_type": "markdown",
   "id": "198a0279-3f21-40d7-aafc-44770133f5f9",
   "metadata": {},
   "source": [
    "# BertWordPieceTokenizer를 사용하여 vocab.txt 생성 후 사용\n",
    "'datasets/sentiment_vocab/vocab.txt'"
   ]
  },
  {
   "cell_type": "code",
   "execution_count": 6,
   "id": "dadf3f98-d785-42da-8271-e8d33993cf4f",
   "metadata": {},
   "outputs": [
    {
     "name": "stdout",
     "output_type": "stream",
     "text": [
      "새로운 vocab.txt 파일이 'datasets/sentiment_vocab/sentiment_wordpiece-vocab.txt' 에 저장되었습니다.\n",
      "새로운 tokenizer.json 파일이 'datasets/sentiment_vocab/sentiment_wordpiece-tokenizer.json' 에 저장되었습니다.\n"
     ]
    }
   ],
   "source": [
    "files = [file]\n",
    "vocab_size = 30000\n",
    "min_frequency = 5\n",
    "special_tokens = [\"[PAD]\", \"[UNK]\", \"[CLS]\", \"[SEP]\", \"[MASK]\"]\n",
    "output_dir = f'{datasetsFilePath}sentiment_vocab'\n",
    "VocabBuilder.GenerateVocab(files,vocab_size,min_frequency,special_tokens,output_dir)\n"
   ]
  },
  {
   "cell_type": "markdown",
   "id": "463a8317-9e7f-4e7b-b3e9-a872658712b7",
   "metadata": {},
   "source": [
    "## Pretrain에서 사용한 vocab.txt 사용"
   ]
  },
  {
   "cell_type": "code",
   "execution_count": 6,
   "id": "c4aad3a4-ff59-4b85-b6cc-c33482f68060",
   "metadata": {},
   "outputs": [],
   "source": [
    "vocab_file_path = f'saves/vocab.txt'\n",
    "tokenizer = WordPieceTokenizer(vocab_file_path, do_lower_case=False, strip_accents=False,clean_text=True)"
   ]
  },
  {
   "cell_type": "code",
   "execution_count": 7,
   "id": "45e2a48b-7162-4165-a401-94523605ac79",
   "metadata": {
    "scrolled": true
   },
   "outputs": [
    {
     "name": "stderr",
     "output_type": "stream",
     "text": [
      "100%|█████████████████████████████████████████████████████████████████████████| 146348/146348 [09:43<00:00, 250.90it/s]\n"
     ]
    },
    {
     "data": {
      "text/html": [
       "<div>\n",
       "<style scoped>\n",
       "    .dataframe tbody tr th:only-of-type {\n",
       "        vertical-align: middle;\n",
       "    }\n",
       "\n",
       "    .dataframe tbody tr th {\n",
       "        vertical-align: top;\n",
       "    }\n",
       "\n",
       "    .dataframe thead th {\n",
       "        text-align: right;\n",
       "    }\n",
       "</style>\n",
       "<table border=\"1\" class=\"dataframe\">\n",
       "  <thead>\n",
       "    <tr style=\"text-align: right;\">\n",
       "      <th></th>\n",
       "      <th>발화</th>\n",
       "      <th>감정</th>\n",
       "      <th>str_len</th>\n",
       "      <th>attention_mask</th>\n",
       "      <th>token_type_ids</th>\n",
       "    </tr>\n",
       "  </thead>\n",
       "  <tbody>\n",
       "    <tr>\n",
       "      <th>0</th>\n",
       "      <td>2 10955 4065 2006 7119 1191 12454 19817 9959 3...</td>\n",
       "      <td>불안</td>\n",
       "      <td>24</td>\n",
       "      <td>1 1 1 1 1 1 1 1 1 1 0 0 0 0 0 0 0 0 0 0 0 0 0 ...</td>\n",
       "      <td>0 0 0 0 0 0 0 0 0 0 0 0 0 0 0 0 0 0 0 0 0 0 0 ...</td>\n",
       "    </tr>\n",
       "    <tr>\n",
       "      <th>1</th>\n",
       "      <td>2 14186 143 7807 1225 1576 1366 1015 3 0 0 0 0...</td>\n",
       "      <td>불안</td>\n",
       "      <td>12</td>\n",
       "      <td>1 1 1 1 1 1 1 1 1 0 0 0 0 0 0 0 0 0 0 0 0 0 0 ...</td>\n",
       "      <td>0 0 0 0 0 0 0 0 0 0 0 0 0 0 0 0 0 0 0 0 0 0 0 ...</td>\n",
       "    </tr>\n",
       "    <tr>\n",
       "      <th>2</th>\n",
       "      <td>2 4127 1515 1024 1206 1062 28552 4037 1076 158...</td>\n",
       "      <td>불안</td>\n",
       "      <td>14</td>\n",
       "      <td>1 1 1 1 1 1 1 1 1 1 1 0 0 0 0 0 0 0 0 0 0 0 0 ...</td>\n",
       "      <td>0 0 0 0 0 0 0 0 0 0 0 0 0 0 0 0 0 0 0 0 0 0 0 ...</td>\n",
       "    </tr>\n",
       "    <tr>\n",
       "      <th>3</th>\n",
       "      <td>2 9388 2525 3097 1 3 0 0 0 0 0 0 0 0 0 0 0 0 0...</td>\n",
       "      <td>불안</td>\n",
       "      <td>13</td>\n",
       "      <td>1 1 1 1 1 1 0 0 0 0 0 0 0 0 0 0 0 0 0 0 0 0 0 ...</td>\n",
       "      <td>0 0 0 0 0 0 0 0 0 0 0 0 0 0 0 0 0 0 0 0 0 0 0 ...</td>\n",
       "    </tr>\n",
       "    <tr>\n",
       "      <th>4</th>\n",
       "      <td>2 98 1051 3092 1033 1330 1076 1836 25640 3 0 0...</td>\n",
       "      <td>불안</td>\n",
       "      <td>11</td>\n",
       "      <td>1 1 1 1 1 1 1 1 1 1 0 0 0 0 0 0 0 0 0 0 0 0 0 ...</td>\n",
       "      <td>0 0 0 0 0 0 0 0 0 0 0 0 0 0 0 0 0 0 0 0 0 0 0 ...</td>\n",
       "    </tr>\n",
       "  </tbody>\n",
       "</table>\n",
       "</div>"
      ],
      "text/plain": [
       "                                                  발화  감정  str_len  \\\n",
       "0  2 10955 4065 2006 7119 1191 12454 19817 9959 3...  불안       24   \n",
       "1  2 14186 143 7807 1225 1576 1366 1015 3 0 0 0 0...  불안       12   \n",
       "2  2 4127 1515 1024 1206 1062 28552 4037 1076 158...  불안       14   \n",
       "3  2 9388 2525 3097 1 3 0 0 0 0 0 0 0 0 0 0 0 0 0...  불안       13   \n",
       "4  2 98 1051 3092 1033 1330 1076 1836 25640 3 0 0...  불안       11   \n",
       "\n",
       "                                      attention_mask  \\\n",
       "0  1 1 1 1 1 1 1 1 1 1 0 0 0 0 0 0 0 0 0 0 0 0 0 ...   \n",
       "1  1 1 1 1 1 1 1 1 1 0 0 0 0 0 0 0 0 0 0 0 0 0 0 ...   \n",
       "2  1 1 1 1 1 1 1 1 1 1 1 0 0 0 0 0 0 0 0 0 0 0 0 ...   \n",
       "3  1 1 1 1 1 1 0 0 0 0 0 0 0 0 0 0 0 0 0 0 0 0 0 ...   \n",
       "4  1 1 1 1 1 1 1 1 1 1 0 0 0 0 0 0 0 0 0 0 0 0 0 ...   \n",
       "\n",
       "                                      token_type_ids  \n",
       "0  0 0 0 0 0 0 0 0 0 0 0 0 0 0 0 0 0 0 0 0 0 0 0 ...  \n",
       "1  0 0 0 0 0 0 0 0 0 0 0 0 0 0 0 0 0 0 0 0 0 0 0 ...  \n",
       "2  0 0 0 0 0 0 0 0 0 0 0 0 0 0 0 0 0 0 0 0 0 0 0 ...  \n",
       "3  0 0 0 0 0 0 0 0 0 0 0 0 0 0 0 0 0 0 0 0 0 0 0 ...  \n",
       "4  0 0 0 0 0 0 0 0 0 0 0 0 0 0 0 0 0 0 0 0 0 0 0 ...  "
      ]
     },
     "execution_count": 7,
     "metadata": {},
     "output_type": "execute_result"
    }
   ],
   "source": [
    "max_length = 128\n",
    "attention_masks = []\n",
    "token_type_ids_ = []\n",
    "for i in tqdm(range(len(df))):\n",
    "    text_to_encode = df.iloc[i,0]\n",
    "    encoded_result = tokenizer.encode(text_to_encode, max_length=max_length)\n",
    "    input_ids = \" \".join(map(str,encoded_result['input_ids']))\n",
    "    attention_mask = \" \".join(map(str,encoded_result['attention_mask']))\n",
    "    token_type_ids = \" \".join(map(str,encoded_result['token_type_ids']))\n",
    "    df.iloc[i,0] = input_ids\n",
    "    attention_masks.append(attention_mask)\n",
    "    token_type_ids_.append(token_type_ids)\n",
    "\n",
    "df['attention_mask'] = attention_masks\n",
    "df['token_type_ids'] = token_type_ids_ \n",
    "df.head()"
   ]
  },
  {
   "cell_type": "code",
   "execution_count": 8,
   "id": "13543c69-8693-43d2-91cf-11af0f258151",
   "metadata": {},
   "outputs": [],
   "source": [
    "df.to_csv(f\"{datasetsFilePath}sentiment_train.csv\")"
   ]
  },
  {
   "cell_type": "code",
   "execution_count": null,
   "id": "c5019af9-b1ac-46ce-a043-2f17a4bd5561",
   "metadata": {},
   "outputs": [],
   "source": []
  }
 ],
 "metadata": {
  "kernelspec": {
   "display_name": "Python 3 (ipykernel)",
   "language": "python",
   "name": "python3"
  },
  "language_info": {
   "codemirror_mode": {
    "name": "ipython",
    "version": 3
   },
   "file_extension": ".py",
   "mimetype": "text/x-python",
   "name": "python",
   "nbconvert_exporter": "python",
   "pygments_lexer": "ipython3",
   "version": "3.12.9"
  }
 },
 "nbformat": 4,
 "nbformat_minor": 5
}
