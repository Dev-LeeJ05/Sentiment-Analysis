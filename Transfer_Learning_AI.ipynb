{
 "cells": [
  {
   "cell_type": "code",
   "execution_count": 1,
   "id": "5f4203e3-bc89-43fb-9d21-8bf2beb1c5f7",
   "metadata": {},
   "outputs": [],
   "source": [
    "from tqdm import tqdm\n",
    "import pandas as pd\n",
    "\n",
    "import torch\n",
    "import torch.nn as nn\n",
    "from torch.optim import AdamW\n",
    "from torch.utils.data import Dataset, DataLoader\n",
    "from sklearn.model_selection import train_test_split\n",
    "from transformers import BertForSequenceClassification\n",
    "from WordPieceTokenizer import WordPieceTokenizer as Tokenizer\n",
    "import TransferDataset\n",
    "from TransferDataset import CustomSentimentDataset\n",
    "\n",
    "DATA_DIRECTORY = \"datasets/\"\n",
    "MODEL_DIRECTORY = \"Pretrained/\"\n",
    "VOCAB_FILE_PATH = f\"{MODEL_DIRECTORY}vocab.txt\"\n",
    "MAX_SEQUENCE_LENGTH = 150\n",
    "BATCH_SIZE = 64"
   ]
  },
  {
   "cell_type": "code",
   "execution_count": 2,
   "id": "6a6fc1ec-1723-4338-900c-eaf850073162",
   "metadata": {},
   "outputs": [],
   "source": [
    "tokenizer = Tokenizer(vocab_file_path=VOCAB_FILE_PATH, do_lower_case=False,strip_accents=False,clean_text=True)\n",
    "# model = BertForSequenceClassification.from_pretrained(MODEL_DIRECTORY,num_labels=7)"
   ]
  },
  {
   "cell_type": "code",
   "execution_count": 3,
   "id": "a43f837a-bda2-4fe6-98a0-12be69ab290e",
   "metadata": {},
   "outputs": [
    {
     "name": "stdout",
     "output_type": "stream",
     "text": [
      "DataFrame 불러오기 : [시작]\n",
      "총 데이터 수: 146348\n",
      "학습 세트 수: 102443\n",
      "검증 세트 수: 21952\n",
      "테스트 세트 수: 21953\n",
      "DataFrame 불러오기 : [완료]\n",
      "토큰화 작업 : [시작]\n",
      "토큰화 작업 : [학습 데이터셋 토큰화 중]\n"
     ]
    },
    {
     "name": "stderr",
     "output_type": "stream",
     "text": [
      "100%|███████████████████████████████████████████████████████████████████████| 102443/102443 [00:08<00:00, 12736.22it/s]\n"
     ]
    },
    {
     "name": "stdout",
     "output_type": "stream",
     "text": [
      "토큰화 작업 : [검증 데이터셋 토큰화 중]\n"
     ]
    },
    {
     "name": "stderr",
     "output_type": "stream",
     "text": [
      "100%|█████████████████████████████████████████████████████████████████████████| 21952/21952 [00:01<00:00, 11036.31it/s]\n"
     ]
    },
    {
     "name": "stdout",
     "output_type": "stream",
     "text": [
      "토큰화 작업 : [테스트 데이터셋 토큰화 중]\n"
     ]
    },
    {
     "name": "stderr",
     "output_type": "stream",
     "text": [
      "100%|█████████████████████████████████████████████████████████████████████████| 21953/21953 [00:01<00:00, 13158.43it/s]\n"
     ]
    },
    {
     "name": "stdout",
     "output_type": "stream",
     "text": [
      "토큰화 작업 : [완료]\n",
      "데이터셋 합치기 : [시작]\n",
      "데이터셋 합치기 : [완료]\n",
      "DataLoader 변환 : [시작]\n",
      "DataLoader 변환 : [완료]\n"
     ]
    }
   ],
   "source": [
    "# <-- Load DataFrame -->\n",
    "print(\"DataFrame 불러오기 : [시작]\")\n",
    "df = pd.read_csv(f\"{DATA_DIRECTORY}Sentiment_data.csv\",index_col=0)\n",
    "\n",
    "df.loc[(df['감정'] == '불안'),'감정'] = 0\n",
    "df.loc[(df['감정'] == '당황'),'감정'] = 1\n",
    "df.loc[(df['감정'] == '분노'),'감정'] = 2\n",
    "df.loc[(df['감정'] == '슬픔'),'감정'] = 3\n",
    "df.loc[(df['감정'] == '중립'),'감정'] = 4\n",
    "df.loc[(df['감정'] == '행복'),'감정'] = 5\n",
    "df.loc[(df['감정'] == '혐오'),'감정'] = 6\n",
    "\n",
    "train_texts, temp_texts, train_labels, temp_labels = train_test_split(df['발화'],df['감정'],test_size=0.3, random_state=42,stratify=df['감정'])\n",
    "val_texts, test_texts, val_labels, test_labels = train_test_split(temp_texts,temp_labels,test_size=0.5, random_state=42,stratify=temp_labels)\n",
    "\n",
    "print(f\"총 데이터 수: {len(df)}\")\n",
    "print(f\"학습 세트 수: {len(train_texts)}\")\n",
    "print(f\"검증 세트 수: {len(val_texts)}\")\n",
    "print(f\"테스트 세트 수: {len(test_texts)}\")\n",
    "print(\"DataFrame 불러오기 : [완료]\")\n",
    "\n",
    "# <-- Tokenization -->\n",
    "print(\"토큰화 작업 : [시작]\")\n",
    "print(\"토큰화 작업 : [학습 데이터셋 토큰화 중]\")\n",
    "train_encodings = TransferDataset.tokenize_texts(list(train_texts), tokenizer, MAX_SEQUENCE_LENGTH)\n",
    "print(\"토큰화 작업 : [검증 데이터셋 토큰화 중]\")\n",
    "val_encodings = TransferDataset.tokenize_texts(list(val_texts), tokenizer, MAX_SEQUENCE_LENGTH)\n",
    "print(\"토큰화 작업 : [테스트 데이터셋 토큰화 중]\")\n",
    "test_encodings = TransferDataset.tokenize_texts(list(test_texts), tokenizer, MAX_SEQUENCE_LENGTH)\n",
    "print(\"토큰화 작업 : [완료]\")\n",
    "\n",
    "# <-- Dataset & DataLoader -->\n",
    "print(\"데이터셋 합치기 : [시작]\")\n",
    "train_dataset = CustomSentimentDataset(train_encodings, list(train_labels))\n",
    "val_dataset = CustomSentimentDataset(val_encodings, list(val_labels))\n",
    "test_dataset = CustomSentimentDataset(test_encodings, list(test_labels))\n",
    "print(\"데이터셋 합치기 : [완료]\")\n",
    "\n",
    "print(\"DataLoader 변환 : [시작]\")\n",
    "train_loader = DataLoader(train_dataset,batch_size=BATCH_SIZE, shuffle=True)\n",
    "val_loader = DataLoader(val_dataset,batch_size=BATCH_SIZE, shuffle=False)\n",
    "test_loader = DataLoader(test_dataset,batch_size=BATCH_SIZE, shuffle=False)\n",
    "print(\"DataLoader 변환 : [완료]\")"
   ]
  },
  {
   "cell_type": "code",
   "execution_count": null,
   "id": "f444190f-a665-4824-81e8-1dc60c0ad736",
   "metadata": {},
   "outputs": [],
   "source": []
  }
 ],
 "metadata": {
  "kernelspec": {
   "display_name": "Python 3 (ipykernel)",
   "language": "python",
   "name": "python3"
  },
  "language_info": {
   "codemirror_mode": {
    "name": "ipython",
    "version": 3
   },
   "file_extension": ".py",
   "mimetype": "text/x-python",
   "name": "python",
   "nbconvert_exporter": "python",
   "pygments_lexer": "ipython3",
   "version": "3.12.9"
  }
 },
 "nbformat": 4,
 "nbformat_minor": 5
}
